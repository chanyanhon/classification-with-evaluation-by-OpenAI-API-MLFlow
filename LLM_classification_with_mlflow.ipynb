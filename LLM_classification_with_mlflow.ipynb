{
  "cells": [
    {
      "cell_type": "markdown",
      "metadata": {},
      "source": [
        "# Overview\n",
        "This Jupyter Notebook demonstrates how to utilize MLFlow for effective prompt engineering and experimentation with Large Language Models (LLMs) for sentiment analysis. The notebook is structured to provide a complete guide from setting up the environment to evaluating model performance. Key components of the notebook include:\n",
        "\n",
        "- Prompt Engineering: Techniques to optimize prompts for better model responses.\n",
        "- Experiment Tracking: Using MLFlow to log and track model experiments.\n",
        "- Sentiment Analysis: Applying LLMs to classify text data based on sentiment using a dataset from Kaggle.\n",
        "- Model Evaluation: Comparing model performance across different configurations.\n",
        "\n",
        "Dataset\n",
        "- Source: The dataset used for this notebook is available on Kaggle.\n",
        "- Details: It includes text data specifically for sentiment analysis.\n",
        "- URL: ChatGPT Sentiment Analysis Dataset. \n",
        "(https://www.kaggle.com/datasets/charunisa/chatgpt-sentiment-analysis?resource=download)"
      ]
    },
    {
      "cell_type": "markdown",
      "metadata": {},
      "source": [
        "## Environment setup"
      ]
    },
    {
      "cell_type": "code",
      "execution_count": 3,
      "metadata": {},
      "outputs": [
        {
          "name": "stderr",
          "output_type": "stream",
          "text": [
            "A subdirectory or file src already exists.\n"
          ]
        }
      ],
      "source": [
        "!mkdir src"
      ]
    },
    {
      "cell_type": "code",
      "execution_count": 4,
      "metadata": {},
      "outputs": [
        {
          "name": "stdout",
          "output_type": "stream",
          "text": [
            "Overwriting src/__init__.py\n"
          ]
        }
      ],
      "source": [
        "%%writefile src/__init__.py\n",
        "\n",
        "# You can leave this file empty or write any desired content if needed.\n",
        "# For example, you can define package-level attributes, import submodules, etc.\n",
        "# If you don't need any specific content, you can leave the file empty.\n",
        "\n",
        "# Content of __init__.py"
      ]
    },
    {
      "cell_type": "code",
      "execution_count": 5,
      "metadata": {},
      "outputs": [
        {
          "name": "stdout",
          "output_type": "stream",
          "text": [
            "Overwriting src/requirements.txt\n"
          ]
        }
      ],
      "source": [
        "%%writefile src/requirements.txt\n",
        "\n",
        "openai==0.28\n",
        "seaborn\n",
        "mlflow==2.14.1\n",
        "python-dotenv==1.0.1"
      ]
    },
    {
      "cell_type": "code",
      "execution_count": 4,
      "metadata": {},
      "outputs": [
        {
          "name": "stdout",
          "output_type": "stream",
          "text": [
            "Collecting openai==0.28 (from -r src/requirements.txt (line 2))\n",
            "  Downloading openai-0.28.0-py3-none-any.whl.metadata (13 kB)\n",
            "Collecting seaborn (from -r src/requirements.txt (line 3))\n",
            "  Downloading seaborn-0.13.2-py3-none-any.whl.metadata (5.4 kB)\n",
            "Collecting mlflow==2.14.1 (from -r src/requirements.txt (line 4))\n",
            "  Downloading mlflow-2.14.1-py3-none-any.whl.metadata (29 kB)\n",
            "Requirement already satisfied: python-dotenv==1.0.1 in c:\\users\\dell\\anaconda3\\envs\\llm\\lib\\site-packages (from -r src/requirements.txt (line 5)) (1.0.1)\n",
            "Requirement already satisfied: requests>=2.20 in c:\\users\\dell\\anaconda3\\envs\\llm\\lib\\site-packages (from openai==0.28->-r src/requirements.txt (line 2)) (2.32.3)\n",
            "Requirement already satisfied: tqdm in c:\\users\\dell\\anaconda3\\envs\\llm\\lib\\site-packages (from openai==0.28->-r src/requirements.txt (line 2)) (4.66.4)\n",
            "Requirement already satisfied: aiohttp in c:\\users\\dell\\anaconda3\\envs\\llm\\lib\\site-packages (from openai==0.28->-r src/requirements.txt (line 2)) (3.9.5)\n",
            "Collecting Flask<4 (from mlflow==2.14.1->-r src/requirements.txt (line 4))\n",
            "  Downloading flask-3.0.3-py3-none-any.whl.metadata (3.2 kB)\n",
            "Collecting alembic!=1.10.0,<2 (from mlflow==2.14.1->-r src/requirements.txt (line 4))\n",
            "  Downloading alembic-1.13.2-py3-none-any.whl.metadata (7.4 kB)\n",
            "Requirement already satisfied: cachetools<6,>=5.0.0 in c:\\users\\dell\\anaconda3\\envs\\llm\\lib\\site-packages (from mlflow==2.14.1->-r src/requirements.txt (line 4)) (5.3.3)\n",
            "Requirement already satisfied: click<9,>=7.0 in c:\\users\\dell\\anaconda3\\envs\\llm\\lib\\site-packages (from mlflow==2.14.1->-r src/requirements.txt (line 4)) (8.1.7)\n",
            "Collecting cloudpickle<4 (from mlflow==2.14.1->-r src/requirements.txt (line 4))\n",
            "  Downloading cloudpickle-3.0.0-py3-none-any.whl.metadata (7.0 kB)\n",
            "Collecting docker<8,>=4.0.0 (from mlflow==2.14.1->-r src/requirements.txt (line 4))\n",
            "  Downloading docker-7.1.0-py3-none-any.whl.metadata (3.8 kB)\n",
            "Collecting entrypoints<1 (from mlflow==2.14.1->-r src/requirements.txt (line 4))\n",
            "  Downloading entrypoints-0.4-py3-none-any.whl.metadata (2.6 kB)\n",
            "Collecting gitpython<4,>=3.1.9 (from mlflow==2.14.1->-r src/requirements.txt (line 4))\n",
            "  Downloading GitPython-3.1.43-py3-none-any.whl.metadata (13 kB)\n",
            "Collecting graphene<4 (from mlflow==2.14.1->-r src/requirements.txt (line 4))\n",
            "  Downloading graphene-3.3-py2.py3-none-any.whl.metadata (7.7 kB)\n",
            "Requirement already satisfied: importlib-metadata!=4.7.0,<8,>=3.7.0 in c:\\users\\dell\\anaconda3\\envs\\llm\\lib\\site-packages (from mlflow==2.14.1->-r src/requirements.txt (line 4)) (7.1.0)\n",
            "Requirement already satisfied: markdown<4,>=3.3 in c:\\users\\dell\\anaconda3\\envs\\llm\\lib\\site-packages (from mlflow==2.14.1->-r src/requirements.txt (line 4)) (3.6)\n",
            "Requirement already satisfied: matplotlib<4 in c:\\users\\dell\\anaconda3\\envs\\llm\\lib\\site-packages (from mlflow==2.14.1->-r src/requirements.txt (line 4)) (3.9.0)\n",
            "Requirement already satisfied: numpy<2 in c:\\users\\dell\\anaconda3\\envs\\llm\\lib\\site-packages (from mlflow==2.14.1->-r src/requirements.txt (line 4)) (1.26.4)\n",
            "Requirement already satisfied: opentelemetry-api<3,>=1.9.0 in c:\\users\\dell\\anaconda3\\envs\\llm\\lib\\site-packages (from mlflow==2.14.1->-r src/requirements.txt (line 4)) (1.25.0)\n",
            "Requirement already satisfied: opentelemetry-sdk<3,>=1.9.0 in c:\\users\\dell\\anaconda3\\envs\\llm\\lib\\site-packages (from mlflow==2.14.1->-r src/requirements.txt (line 4)) (1.25.0)\n",
            "Requirement already satisfied: packaging<25 in c:\\users\\dell\\anaconda3\\envs\\llm\\lib\\site-packages (from mlflow==2.14.1->-r src/requirements.txt (line 4)) (23.2)\n",
            "Requirement already satisfied: pandas<3 in c:\\users\\dell\\anaconda3\\envs\\llm\\lib\\site-packages (from mlflow==2.14.1->-r src/requirements.txt (line 4)) (2.2.2)\n",
            "Requirement already satisfied: protobuf<5,>=3.12.0 in c:\\users\\dell\\anaconda3\\envs\\llm\\lib\\site-packages (from mlflow==2.14.1->-r src/requirements.txt (line 4)) (4.25.3)\n",
            "Collecting pyarrow<16,>=4.0.0 (from mlflow==2.14.1->-r src/requirements.txt (line 4))\n",
            "  Downloading pyarrow-15.0.2-cp311-cp311-win_amd64.whl.metadata (3.1 kB)\n",
            "Requirement already satisfied: pytz<2025 in c:\\users\\dell\\anaconda3\\envs\\llm\\lib\\site-packages (from mlflow==2.14.1->-r src/requirements.txt (line 4)) (2024.1)\n",
            "Requirement already satisfied: pyyaml<7,>=5.1 in c:\\users\\dell\\anaconda3\\envs\\llm\\lib\\site-packages (from mlflow==2.14.1->-r src/requirements.txt (line 4)) (6.0.1)\n",
            "Collecting querystring-parser<2 (from mlflow==2.14.1->-r src/requirements.txt (line 4))\n",
            "  Downloading querystring_parser-1.2.4-py2.py3-none-any.whl.metadata (559 bytes)\n",
            "Requirement already satisfied: scikit-learn<2 in c:\\users\\dell\\anaconda3\\envs\\llm\\lib\\site-packages (from mlflow==2.14.1->-r src/requirements.txt (line 4)) (1.5.0)\n",
            "Requirement already satisfied: scipy<2 in c:\\users\\dell\\anaconda3\\envs\\llm\\lib\\site-packages (from mlflow==2.14.1->-r src/requirements.txt (line 4)) (1.14.0)\n",
            "Requirement already satisfied: sqlalchemy<3,>=1.4.0 in c:\\users\\dell\\anaconda3\\envs\\llm\\lib\\site-packages (from mlflow==2.14.1->-r src/requirements.txt (line 4)) (2.0.31)\n",
            "Collecting sqlparse<1,>=0.4.0 (from mlflow==2.14.1->-r src/requirements.txt (line 4))\n",
            "  Downloading sqlparse-0.5.0-py3-none-any.whl.metadata (3.9 kB)\n",
            "Requirement already satisfied: Jinja2<4,>=3.0 in c:\\users\\dell\\anaconda3\\envs\\llm\\lib\\site-packages (from mlflow==2.14.1->-r src/requirements.txt (line 4)) (3.1.4)\n",
            "Collecting waitress<4 (from mlflow==2.14.1->-r src/requirements.txt (line 4))\n",
            "  Downloading waitress-3.0.0-py3-none-any.whl.metadata (4.2 kB)\n",
            "Collecting Mako (from alembic!=1.10.0,<2->mlflow==2.14.1->-r src/requirements.txt (line 4))\n",
            "  Downloading Mako-1.3.5-py3-none-any.whl.metadata (2.9 kB)\n",
            "Requirement already satisfied: typing-extensions>=4 in c:\\users\\dell\\anaconda3\\envs\\llm\\lib\\site-packages (from alembic!=1.10.0,<2->mlflow==2.14.1->-r src/requirements.txt (line 4)) (4.11.0)\n",
            "Requirement already satisfied: colorama in c:\\users\\dell\\anaconda3\\envs\\llm\\lib\\site-packages (from click<9,>=7.0->mlflow==2.14.1->-r src/requirements.txt (line 4)) (0.4.6)\n",
            "Requirement already satisfied: pywin32>=304 in c:\\users\\dell\\anaconda3\\envs\\llm\\lib\\site-packages (from docker<8,>=4.0.0->mlflow==2.14.1->-r src/requirements.txt (line 4)) (305.1)\n",
            "Requirement already satisfied: urllib3>=1.26.0 in c:\\users\\dell\\anaconda3\\envs\\llm\\lib\\site-packages (from docker<8,>=4.0.0->mlflow==2.14.1->-r src/requirements.txt (line 4)) (1.26.18)\n",
            "Collecting Werkzeug>=3.0.0 (from Flask<4->mlflow==2.14.1->-r src/requirements.txt (line 4))\n",
            "  Downloading werkzeug-3.0.3-py3-none-any.whl.metadata (3.7 kB)\n",
            "Collecting itsdangerous>=2.1.2 (from Flask<4->mlflow==2.14.1->-r src/requirements.txt (line 4))\n",
            "  Downloading itsdangerous-2.2.0-py3-none-any.whl.metadata (1.9 kB)\n",
            "Collecting blinker>=1.6.2 (from Flask<4->mlflow==2.14.1->-r src/requirements.txt (line 4))\n",
            "  Downloading blinker-1.8.2-py3-none-any.whl.metadata (1.6 kB)\n",
            "Collecting gitdb<5,>=4.0.1 (from gitpython<4,>=3.1.9->mlflow==2.14.1->-r src/requirements.txt (line 4))\n",
            "  Downloading gitdb-4.0.11-py3-none-any.whl.metadata (1.2 kB)\n",
            "Collecting graphql-core<3.3,>=3.1 (from graphene<4->mlflow==2.14.1->-r src/requirements.txt (line 4))\n",
            "  Downloading graphql_core-3.2.3-py3-none-any.whl.metadata (10 kB)\n",
            "Collecting graphql-relay<3.3,>=3.1 (from graphene<4->mlflow==2.14.1->-r src/requirements.txt (line 4))\n",
            "  Downloading graphql_relay-3.2.0-py3-none-any.whl.metadata (12 kB)\n",
            "Collecting aniso8601<10,>=8 (from graphene<4->mlflow==2.14.1->-r src/requirements.txt (line 4))\n",
            "  Downloading aniso8601-9.0.1-py2.py3-none-any.whl.metadata (23 kB)\n",
            "Requirement already satisfied: zipp>=0.5 in c:\\users\\dell\\anaconda3\\envs\\llm\\lib\\site-packages (from importlib-metadata!=4.7.0,<8,>=3.7.0->mlflow==2.14.1->-r src/requirements.txt (line 4)) (3.19.2)\n",
            "Requirement already satisfied: MarkupSafe>=2.0 in c:\\users\\dell\\anaconda3\\envs\\llm\\lib\\site-packages (from Jinja2<4,>=3.0->mlflow==2.14.1->-r src/requirements.txt (line 4)) (2.1.5)\n",
            "Requirement already satisfied: contourpy>=1.0.1 in c:\\users\\dell\\anaconda3\\envs\\llm\\lib\\site-packages (from matplotlib<4->mlflow==2.14.1->-r src/requirements.txt (line 4)) (1.2.1)\n",
            "Requirement already satisfied: cycler>=0.10 in c:\\users\\dell\\anaconda3\\envs\\llm\\lib\\site-packages (from matplotlib<4->mlflow==2.14.1->-r src/requirements.txt (line 4)) (0.12.1)\n",
            "Requirement already satisfied: fonttools>=4.22.0 in c:\\users\\dell\\anaconda3\\envs\\llm\\lib\\site-packages (from matplotlib<4->mlflow==2.14.1->-r src/requirements.txt (line 4)) (4.53.0)\n",
            "Requirement already satisfied: kiwisolver>=1.3.1 in c:\\users\\dell\\anaconda3\\envs\\llm\\lib\\site-packages (from matplotlib<4->mlflow==2.14.1->-r src/requirements.txt (line 4)) (1.4.5)\n",
            "Requirement already satisfied: pillow>=8 in c:\\users\\dell\\anaconda3\\envs\\llm\\lib\\site-packages (from matplotlib<4->mlflow==2.14.1->-r src/requirements.txt (line 4)) (10.3.0)\n",
            "Requirement already satisfied: pyparsing>=2.3.1 in c:\\users\\dell\\anaconda3\\envs\\llm\\lib\\site-packages (from matplotlib<4->mlflow==2.14.1->-r src/requirements.txt (line 4)) (3.1.2)\n",
            "Requirement already satisfied: python-dateutil>=2.7 in c:\\users\\dell\\anaconda3\\envs\\llm\\lib\\site-packages (from matplotlib<4->mlflow==2.14.1->-r src/requirements.txt (line 4)) (2.9.0.post0)\n",
            "Requirement already satisfied: deprecated>=1.2.6 in c:\\users\\dell\\anaconda3\\envs\\llm\\lib\\site-packages (from opentelemetry-api<3,>=1.9.0->mlflow==2.14.1->-r src/requirements.txt (line 4)) (1.2.14)\n",
            "Requirement already satisfied: opentelemetry-semantic-conventions==0.46b0 in c:\\users\\dell\\anaconda3\\envs\\llm\\lib\\site-packages (from opentelemetry-sdk<3,>=1.9.0->mlflow==2.14.1->-r src/requirements.txt (line 4)) (0.46b0)\n",
            "Requirement already satisfied: tzdata>=2022.7 in c:\\users\\dell\\anaconda3\\envs\\llm\\lib\\site-packages (from pandas<3->mlflow==2.14.1->-r src/requirements.txt (line 4)) (2024.1)\n",
            "Requirement already satisfied: six in c:\\users\\dell\\anaconda3\\envs\\llm\\lib\\site-packages (from querystring-parser<2->mlflow==2.14.1->-r src/requirements.txt (line 4)) (1.16.0)\n",
            "Requirement already satisfied: charset-normalizer<4,>=2 in c:\\users\\dell\\anaconda3\\envs\\llm\\lib\\site-packages (from requests>=2.20->openai==0.28->-r src/requirements.txt (line 2)) (3.3.2)\n",
            "Requirement already satisfied: idna<4,>=2.5 in c:\\users\\dell\\anaconda3\\envs\\llm\\lib\\site-packages (from requests>=2.20->openai==0.28->-r src/requirements.txt (line 2)) (3.7)\n",
            "Requirement already satisfied: certifi>=2017.4.17 in c:\\users\\dell\\anaconda3\\envs\\llm\\lib\\site-packages (from requests>=2.20->openai==0.28->-r src/requirements.txt (line 2)) (2024.6.2)\n",
            "Requirement already satisfied: joblib>=1.2.0 in c:\\users\\dell\\anaconda3\\envs\\llm\\lib\\site-packages (from scikit-learn<2->mlflow==2.14.1->-r src/requirements.txt (line 4)) (1.4.2)\n",
            "Requirement already satisfied: threadpoolctl>=3.1.0 in c:\\users\\dell\\anaconda3\\envs\\llm\\lib\\site-packages (from scikit-learn<2->mlflow==2.14.1->-r src/requirements.txt (line 4)) (3.5.0)\n",
            "Requirement already satisfied: greenlet!=0.4.17 in c:\\users\\dell\\anaconda3\\envs\\llm\\lib\\site-packages (from sqlalchemy<3,>=1.4.0->mlflow==2.14.1->-r src/requirements.txt (line 4)) (3.0.3)\n",
            "Requirement already satisfied: aiosignal>=1.1.2 in c:\\users\\dell\\anaconda3\\envs\\llm\\lib\\site-packages (from aiohttp->openai==0.28->-r src/requirements.txt (line 2)) (1.3.1)\n",
            "Requirement already satisfied: attrs>=17.3.0 in c:\\users\\dell\\anaconda3\\envs\\llm\\lib\\site-packages (from aiohttp->openai==0.28->-r src/requirements.txt (line 2)) (23.2.0)\n",
            "Requirement already satisfied: frozenlist>=1.1.1 in c:\\users\\dell\\anaconda3\\envs\\llm\\lib\\site-packages (from aiohttp->openai==0.28->-r src/requirements.txt (line 2)) (1.4.1)\n",
            "Requirement already satisfied: multidict<7.0,>=4.5 in c:\\users\\dell\\anaconda3\\envs\\llm\\lib\\site-packages (from aiohttp->openai==0.28->-r src/requirements.txt (line 2)) (6.0.5)\n",
            "Requirement already satisfied: yarl<2.0,>=1.0 in c:\\users\\dell\\anaconda3\\envs\\llm\\lib\\site-packages (from aiohttp->openai==0.28->-r src/requirements.txt (line 2)) (1.9.4)\n",
            "Requirement already satisfied: wrapt<2,>=1.10 in c:\\users\\dell\\anaconda3\\envs\\llm\\lib\\site-packages (from deprecated>=1.2.6->opentelemetry-api<3,>=1.9.0->mlflow==2.14.1->-r src/requirements.txt (line 4)) (1.16.0)\n",
            "Collecting smmap<6,>=3.0.1 (from gitdb<5,>=4.0.1->gitpython<4,>=3.1.9->mlflow==2.14.1->-r src/requirements.txt (line 4))\n",
            "  Downloading smmap-5.0.1-py3-none-any.whl.metadata (4.3 kB)\n",
            "Downloading openai-0.28.0-py3-none-any.whl (76 kB)\n",
            "   ---------------------------------------- 0.0/76.5 kB ? eta -:--:--\n",
            "   ---------------------------------------- 76.5/76.5 kB ? eta 0:00:00\n",
            "Downloading mlflow-2.14.1-py3-none-any.whl (25.8 MB)\n",
            "   ---------------------------------------- 0.0/25.8 MB ? eta -:--:--\n",
            "   - -------------------------------------- 1.1/25.8 MB 36.3 MB/s eta 0:00:01\n",
            "   ---- ----------------------------------- 2.7/25.8 MB 34.7 MB/s eta 0:00:01\n",
            "   ------ --------------------------------- 4.1/25.8 MB 32.4 MB/s eta 0:00:01\n",
            "   -------- ------------------------------- 5.7/25.8 MB 30.3 MB/s eta 0:00:01\n",
            "   ----------- ---------------------------- 7.7/25.8 MB 32.8 MB/s eta 0:00:01\n",
            "   -------------- ------------------------- 9.2/25.8 MB 34.5 MB/s eta 0:00:01\n",
            "   ---------------- ----------------------- 10.8/25.8 MB 36.3 MB/s eta 0:00:01\n",
            "   ------------------- -------------------- 12.3/25.8 MB 34.6 MB/s eta 0:00:01\n",
            "   --------------------- ------------------ 14.0/25.8 MB 36.4 MB/s eta 0:00:01\n",
            "   ------------------------ --------------- 15.6/25.8 MB 36.4 MB/s eta 0:00:01\n",
            "   -------------------------- ------------- 17.3/25.8 MB 36.4 MB/s eta 0:00:01\n",
            "   ----------------------------- ---------- 18.9/25.8 MB 36.4 MB/s eta 0:00:01\n",
            "   ------------------------------- -------- 20.6/25.8 MB 36.4 MB/s eta 0:00:01\n",
            "   ---------------------------------- ----- 22.4/25.8 MB 36.3 MB/s eta 0:00:01\n",
            "   ------------------------------------- -- 23.9/25.8 MB 36.3 MB/s eta 0:00:01\n",
            "   ---------------------------------------  25.5/25.8 MB 36.4 MB/s eta 0:00:01\n",
            "   ---------------------------------------- 25.8/25.8 MB 31.2 MB/s eta 0:00:00\n",
            "Downloading seaborn-0.13.2-py3-none-any.whl (294 kB)\n",
            "   ---------------------------------------- 0.0/294.9 kB ? eta -:--:--\n",
            "   ---------------------------------------- 294.9/294.9 kB ? eta 0:00:00\n",
            "Downloading alembic-1.13.2-py3-none-any.whl (232 kB)\n",
            "   ---------------------------------------- 0.0/233.0 kB ? eta -:--:--\n",
            "   --------------------------------------- 233.0/233.0 kB 14.8 MB/s eta 0:00:00\n",
            "Downloading cloudpickle-3.0.0-py3-none-any.whl (20 kB)\n",
            "Downloading docker-7.1.0-py3-none-any.whl (147 kB)\n",
            "   ---------------------------------------- 0.0/147.8 kB ? eta -:--:--\n",
            "   ---------------------------------------- 147.8/147.8 kB 9.2 MB/s eta 0:00:00\n",
            "Downloading entrypoints-0.4-py3-none-any.whl (5.3 kB)\n",
            "Downloading flask-3.0.3-py3-none-any.whl (101 kB)\n",
            "   ---------------------------------------- 0.0/101.7 kB ? eta -:--:--\n",
            "   ---------------------------------------- 101.7/101.7 kB 5.7 MB/s eta 0:00:00\n",
            "Downloading GitPython-3.1.43-py3-none-any.whl (207 kB)\n",
            "   ---------------------------------------- 0.0/207.3 kB ? eta -:--:--\n",
            "   --------------------------------------- 207.3/207.3 kB 13.1 MB/s eta 0:00:00\n",
            "Downloading graphene-3.3-py2.py3-none-any.whl (128 kB)\n",
            "   ---------------------------------------- 0.0/128.2 kB ? eta -:--:--\n",
            "   ---------------------------------------- 128.2/128.2 kB ? eta 0:00:00\n",
            "Downloading pyarrow-15.0.2-cp311-cp311-win_amd64.whl (24.8 MB)\n",
            "   ---------------------------------------- 0.0/24.8 MB ? eta -:--:--\n",
            "   - -------------------------------------- 1.2/24.8 MB 26.7 MB/s eta 0:00:01\n",
            "   ---- ----------------------------------- 2.6/24.8 MB 27.9 MB/s eta 0:00:01\n",
            "   ------ --------------------------------- 4.2/24.8 MB 30.0 MB/s eta 0:00:01\n",
            "   --------- ------------------------------ 5.8/24.8 MB 30.9 MB/s eta 0:00:01\n",
            "   ----------- ---------------------------- 7.4/24.8 MB 31.7 MB/s eta 0:00:01\n",
            "   -------------- ------------------------- 8.9/24.8 MB 31.8 MB/s eta 0:00:01\n",
            "   ---------------- ----------------------- 10.4/24.8 MB 32.7 MB/s eta 0:00:01\n",
            "   ------------------- -------------------- 11.9/24.8 MB 32.7 MB/s eta 0:00:01\n",
            "   --------------------- ------------------ 13.3/24.8 MB 34.6 MB/s eta 0:00:01\n",
            "   ----------------------- ---------------- 14.8/24.8 MB 32.8 MB/s eta 0:00:01\n",
            "   -------------------------- ------------- 16.2/24.8 MB 31.2 MB/s eta 0:00:01\n",
            "   ---------------------------- ----------- 17.6/24.8 MB 31.2 MB/s eta 0:00:01\n",
            "   ------------------------------- -------- 19.3/24.8 MB 31.2 MB/s eta 0:00:01\n",
            "   --------------------------------- ------ 20.7/24.8 MB 31.2 MB/s eta 0:00:01\n",
            "   ----------------------------------- ---- 21.9/24.8 MB 31.2 MB/s eta 0:00:01\n",
            "   ------------------------------------- -- 23.2/24.8 MB 29.7 MB/s eta 0:00:01\n",
            "   ---------------------------------------  24.4/24.8 MB 29.8 MB/s eta 0:00:01\n",
            "   ---------------------------------------  24.8/24.8 MB 28.5 MB/s eta 0:00:01\n",
            "   ---------------------------------------- 24.8/24.8 MB 24.2 MB/s eta 0:00:00\n",
            "Downloading querystring_parser-1.2.4-py2.py3-none-any.whl (7.9 kB)\n",
            "Downloading sqlparse-0.5.0-py3-none-any.whl (43 kB)\n",
            "   ---------------------------------------- 0.0/44.0 kB ? eta -:--:--\n",
            "   ---------------------------------------- 44.0/44.0 kB ? eta 0:00:00\n",
            "Downloading waitress-3.0.0-py3-none-any.whl (56 kB)\n",
            "   ---------------------------------------- 0.0/56.7 kB ? eta -:--:--\n",
            "   ---------------------------------------- 56.7/56.7 kB ? eta 0:00:00\n",
            "Downloading aniso8601-9.0.1-py2.py3-none-any.whl (52 kB)\n",
            "   ---------------------------------------- 0.0/52.8 kB ? eta -:--:--\n",
            "   ---------------------------------------- 52.8/52.8 kB ? eta 0:00:00\n",
            "Downloading blinker-1.8.2-py3-none-any.whl (9.5 kB)\n",
            "Downloading gitdb-4.0.11-py3-none-any.whl (62 kB)\n",
            "   ---------------------------------------- 0.0/62.7 kB ? eta -:--:--\n",
            "   ---------------------------------------- 62.7/62.7 kB ? eta 0:00:00\n",
            "Downloading graphql_core-3.2.3-py3-none-any.whl (202 kB)\n",
            "   ---------------------------------------- 0.0/202.9 kB ? eta -:--:--\n",
            "   --------------------------------------- 202.9/202.9 kB 12.0 MB/s eta 0:00:00\n",
            "Downloading graphql_relay-3.2.0-py3-none-any.whl (16 kB)\n",
            "Downloading itsdangerous-2.2.0-py3-none-any.whl (16 kB)\n",
            "Downloading werkzeug-3.0.3-py3-none-any.whl (227 kB)\n",
            "   ---------------------------------------- 0.0/227.3 kB ? eta -:--:--\n",
            "   --------------------------------------- 227.3/227.3 kB 14.5 MB/s eta 0:00:00\n",
            "Downloading Mako-1.3.5-py3-none-any.whl (78 kB)\n",
            "   ---------------------------------------- 0.0/78.6 kB ? eta -:--:--\n",
            "   ---------------------------------------- 78.6/78.6 kB ? eta 0:00:00\n",
            "Downloading smmap-5.0.1-py3-none-any.whl (24 kB)\n",
            "Installing collected packages: aniso8601, Werkzeug, waitress, sqlparse, smmap, querystring-parser, pyarrow, Mako, itsdangerous, graphql-core, entrypoints, cloudpickle, blinker, graphql-relay, gitdb, Flask, docker, alembic, seaborn, openai, graphene, gitpython, mlflow\n",
            "  Attempting uninstall: openai\n",
            "    Found existing installation: openai 1.11.1\n",
            "    Uninstalling openai-1.11.1:\n",
            "      Successfully uninstalled openai-1.11.1\n",
            "Successfully installed Flask-3.0.3 Mako-1.3.5 Werkzeug-3.0.3 alembic-1.13.2 aniso8601-9.0.1 blinker-1.8.2 cloudpickle-3.0.0 docker-7.1.0 entrypoints-0.4 gitdb-4.0.11 gitpython-3.1.43 graphene-3.3 graphql-core-3.2.3 graphql-relay-3.2.0 itsdangerous-2.2.0 mlflow-2.14.1 openai-0.28.0 pyarrow-15.0.2 querystring-parser-1.2.4 seaborn-0.13.2 smmap-5.0.1 sqlparse-0.5.0 waitress-3.0.0\n"
          ]
        },
        {
          "name": "stderr",
          "output_type": "stream",
          "text": [
            "ERROR: pip's dependency resolver does not currently take into account all the packages that are installed. This behaviour is the source of the following dependency conflicts.\n",
            "langchain-openai 0.0.5 requires openai<2.0.0,>=1.10.0, but you have openai 0.28.0 which is incompatible.\n"
          ]
        }
      ],
      "source": [
        "!pip install -r src/requirements.txt"
      ]
    },
    {
      "cell_type": "markdown",
      "metadata": {},
      "source": [
        "## Prompt Template\n"
      ]
    },
    {
      "cell_type": "code",
      "execution_count": 1,
      "metadata": {},
      "outputs": [
        {
          "name": "stdout",
          "output_type": "stream",
          "text": [
            "Overwriting src/prompt_ver.py\n"
          ]
        }
      ],
      "source": [
        "%%writefile src/prompt_ver.py\n",
        "\n",
        "#! /usr/bin/env python\n",
        "\n",
        "# first batch\n",
        "# v1 - baseline\n",
        "def prompt_v1(input):\n",
        "    prompt = f\"\"\"\n",
        "    Classify the text into Neutral, Negative, or Positive\n",
        "\n",
        "    Text to analyse: ```{input}```\n",
        "\n",
        "    Sentiment:\n",
        "    \"\"\"\n",
        "    return prompt\n",
        "\n",
        "# v2\n",
        "def prompt_v2(input):\n",
        "    prompt = f\"\"\"\n",
        "    Your task is to analyse and report the overall sentiment \\\n",
        "    of only one out of the following sentiments: \\\n",
        "    [Positive, Negative, Neutral]. \\\n",
        "    On the text delimited by triple backticks\n",
        "\n",
        "    Text to analyse: ```{input}```\n",
        "    \"\"\"\n",
        "    return prompt\n",
        "\n",
        "# v3\n",
        "def prompt_v3(input):\n",
        "    prompt = f\"\"\"\n",
        "    Perform the following actions on the given text delimited by \\\n",
        "    triple backticks:\n",
        "    - analyse and report the sentiment in strictly a single word \\\n",
        "    out of [Positive, Negative, Neutral].\n",
        "\n",
        "    Text to analyse: ```{input}```\n",
        "    \"\"\"\n",
        "    return prompt\n"
      ]
    },
    {
      "cell_type": "code",
      "execution_count": 28,
      "metadata": {},
      "outputs": [
        {
          "name": "stdout",
          "output_type": "stream",
          "text": [
            "Overwriting src/prompt_ver.py\n"
          ]
        }
      ],
      "source": [
        "%%writefile src/prompt_ver.py\n",
        "\n",
        "#! /usr/bin/env python\n",
        "\n",
        "# second batch \n",
        "# ride on v3 which have consistent label output & best perforamnce)\n",
        "# v3\n",
        "def prompt_v3(input):\n",
        "    prompt = f\"\"\"\n",
        "    Perform the following actions on the given text delimited by \\\n",
        "    triple backticks:\n",
        "    - analyse and report the sentiment in strictly a single word \\\n",
        "    out of [Positive, Negative, Neutral].\n",
        "\n",
        "    Text to analyse: ```{input}```\n",
        "    \"\"\"\n",
        "    return prompt\n",
        "\n",
        "# v3.1 \n",
        "def prompt_v3_1(input):\n",
        "    prompt = f\"\"\"\n",
        "    Perform the following actions on the given text delimited by \\\n",
        "    triple backticks:\n",
        "    - Below is the data from Reddit discussion forum\n",
        "    - analyse and report the sentiment in strictly a single word \\\n",
        "    out of [Positive, Negative, Neutral].\n",
        "\n",
        "    Text to analyse: ```{input}```\n",
        "    \"\"\"\n",
        "    return prompt\n",
        "\n",
        "# v3.2\n",
        "# weak on recall metrics on positive labelled  \n",
        "# GPT: write a prompt template that can classify sentiment into [Postive, Negative, Neutral]\n",
        "# v3.2 > v3.0 > v3.1\n",
        "def prompt_v3_2(input):\n",
        "    prompt = f\"\"\"\n",
        "    Text: ```{input}```\n",
        "\n",
        "    Options:\n",
        "    - Positive\n",
        "    - Negative\n",
        "    - Neutral\n",
        "\n",
        "    Instructions: Determine the sentiment of the text and choose the appropriate option that best represents its sentiment.\n",
        "\n",
        "    \"\"\"\n",
        "    return prompt"
      ]
    },
    {
      "cell_type": "markdown",
      "metadata": {},
      "source": [
        "## Main function"
      ]
    },
    {
      "cell_type": "code",
      "execution_count": 2,
      "metadata": {},
      "outputs": [],
      "source": [
        "# # separate terminal to host\n",
        "# mlflow ui --port 5000"
      ]
    },
    {
      "cell_type": "code",
      "execution_count": 6,
      "metadata": {
        "id": "He90JFtzdCNb"
      },
      "outputs": [],
      "source": [
        "import pandas as pd\n",
        "import numpy as np\n",
        "import os\n",
        "import json\n",
        "from datetime import datetime\n",
        "import matplotlib.pyplot as plt\n",
        "\n",
        "from tqdm import tqdm\n",
        "\n",
        "from sklearn.metrics import confusion_matrix, classification_report, accuracy_score, precision_score, recall_score, f1_score, roc_auc_score\n",
        "from sklearn.preprocessing import label_binarize\n",
        "\n",
        "import mlflow\n",
        "import math\n",
        "\n",
        "from datetime import datetime\n",
        "now = datetime.now()\n",
        "today_date = now.strftime(\"%Y-%m-%d\")"
      ]
    },
    {
      "cell_type": "code",
      "execution_count": 7,
      "metadata": {},
      "outputs": [],
      "source": [
        "from dotenv import load_dotenv, find_dotenv\n",
        "\n",
        "# Get OPENAI API key\n",
        "try:\n",
        "    _ = load_dotenv(find_dotenv()) # read local .env file\n",
        "    OPENAI_API_KEY = os.environ['OPENAI_API_KEY']\n",
        "except:\n",
        "    OPENAI_API_KEY = 'your OpenAI API key'\n",
        "\n",
        "import openai\n",
        "openai.api_key = OPENAI_API_KEY"
      ]
    },
    {
      "cell_type": "code",
      "execution_count": 8,
      "metadata": {},
      "outputs": [],
      "source": [
        "def get_completion(prompt, model=\"gpt-3.5-turbo\"):\n",
        "    messages = [{\"role\": \"user\", \"content\": prompt}]\n",
        "    response = openai.ChatCompletion.create(\n",
        "        model=model,\n",
        "        messages=messages,\n",
        "        temperature=0, # this is the degree of randomness of the model's output\n",
        "        logprobs=True,\n",
        "        top_logprobs=10,\n",
        "        max_tokens = 1\n",
        "    )\n",
        "    response_msg = response.choices[0].message[\"content\"]\n",
        "    softmax_probs = response.choices[0].logprobs\n",
        "    return response_msg , softmax_probs\n",
        "\n",
        "\n",
        "def GPT_post_processing(softmax_probs):\n",
        "\n",
        "    json_data = softmax_probs\n",
        "\n",
        "    # Tokens to find\n",
        "    tokens_to_find = [\"Negative\", \"Neutral\", \"Positive\"]\n",
        "\n",
        "    # Extract logprobs\n",
        "    logprobs = {token: None for token in tokens_to_find}\n",
        "\n",
        "    # Iterate through the top_logprobs to find the tokens\n",
        "    for entry in json_data[\"content\"][0][\"top_logprobs\"]:\n",
        "        if entry[\"token\"] in logprobs:\n",
        "            logprobs[entry[\"token\"]] = entry[\"logprob\"]\n",
        "\n",
        "    # Convert logprobs to probabilities\n",
        "    probs = {token: round(math.exp(logprob), 2) for token, logprob in logprobs.items()}\n",
        "\n",
        "    # Original dictionary of probabilities\n",
        "    probabilities = probs\n",
        "\n",
        "    # Step 1: Calculate the sum of the probabilities\n",
        "    total_probability = sum(probabilities.values())\n",
        "\n",
        "    # Check to avoid division by zero if the total probability is zero\n",
        "    if total_probability == 0:\n",
        "        normalized_probabilities = {'Negative': 0.0, 'Neutral': 0.0, 'Positive': 0.0}\n",
        "    else:\n",
        "        # Step 2: Normalize each probability by dividing by the total sum\n",
        "        normalized_probabilities = {\n",
        "            key: round(value / total_probability,2) for key, value in probabilities.items()\n",
        "        }\n",
        "\n",
        "        # Step 3: Ensure all expected keys are present and set missing keys to 0\n",
        "        for key in ['Negative', 'Neutral', 'Positive']:\n",
        "            if key not in normalized_probabilities:\n",
        "                normalized_probabilities[key] = 0.0\n",
        "\n",
        "    return normalized_probabilities\n",
        "\n",
        "def GPT_pred_fn(df, prompt_fn, input_col):\n",
        "\n",
        "    # Create new columns in the DataFrame to store the predictions and probabilities\n",
        "    df['prediction'] = None\n",
        "    df['probs_Negative'] = None\n",
        "    df['probs_Neutral'] = None\n",
        "    df['probs_Positive'] = None\n",
        "\n",
        "    # Iterate over the rows of the DataFrame using a for loop\n",
        "    for index, row in tqdm(df.iterrows(), total=len(df)):\n",
        "        prompt = prompt_fn(row[input_col])\n",
        "        print(prompt)\n",
        "\n",
        "        try:\n",
        "            # Call the get_completion() function with the prompt from the current row\n",
        "            response, softmax_probs = get_completion(prompt)\n",
        "            normalized_probs = GPT_post_processing(softmax_probs)\n",
        "\n",
        "            # Update the DataFrame with the response and probabilities\n",
        "            df.at[index, 'prediction'] = response\n",
        "            df.at[index, 'probs_Negative'] = normalized_probs['Negative']\n",
        "            df.at[index, 'probs_Neutral'] = normalized_probs['Neutral']\n",
        "            df.at[index, 'probs_Positive'] = normalized_probs['Positive']\n",
        "\n",
        "        except Exception as e:\n",
        "            print(e)\n",
        "            print(\"GPT crashed\")\n",
        "            df.at[index, 'prediction'] = 'GPT error'\n",
        "            df.at[index, 'probs_Negative'] = 'GPT error'\n",
        "            df.at[index, 'probs_Neutral'] = 'GPT error'\n",
        "            df.at[index, 'probs_Positive'] = 'GPT error'\n",
        "\n",
        "    return df\n",
        "\n",
        "def calculate_auc(df, label_col, probs_cols):\n",
        "    # Extract the true labels and predicted probabilities\n",
        "    true_labels = df[label_col]\n",
        "    probs = df[probs_cols]\n",
        "\n",
        "    # Binarize the true labels for multi-class AUC calculation\n",
        "    unique_labels = sorted(df[label_col].unique())\n",
        "    true_labels_binarized = label_binarize(true_labels, classes=unique_labels)\n",
        "    \n",
        "    # Calculate the weighted AUC\n",
        "    weighted_auc = roc_auc_score(true_labels_binarized, probs, average='weighted', multi_class='ovr')\n",
        "\n",
        "    return weighted_auc"
      ]
    },
    {
      "cell_type": "markdown",
      "metadata": {},
      "source": [
        "### EDA"
      ]
    },
    {
      "cell_type": "code",
      "execution_count": 9,
      "metadata": {
        "id": "r44gZizOdCKI"
      },
      "outputs": [],
      "source": [
        "df = pd.read_csv('Reddit_Data.csv')\n",
        "\n",
        "# Define the mapping dictionary\n",
        "category_mapping = {\n",
        "    1: 'Positive',\n",
        "    0: 'Neutral',\n",
        "    -1: 'Negative'\n",
        "}\n",
        "\n",
        "# Map the 'category' values to 'label' values\n",
        "df['label'] = df['category'].map(category_mapping)\n",
        "df.head()\n",
        "\n",
        "df_backup = df.copy()"
      ]
    },
    {
      "cell_type": "code",
      "execution_count": 10,
      "metadata": {
        "colab": {
          "base_uri": "https://localhost:8080/",
          "height": 430
        },
        "id": "REwiO9t7jX7g",
        "outputId": "cfd1d838-6208-4e79-968c-47537b25c539"
      },
      "outputs": [
        {
          "data": {
            "image/png": "[encoded data removed]",
            "text/plain": [
              "<Figure size 640x480 with 1 Axes>"
            ]
          },
          "metadata": {},
          "output_type": "display_data"
        }
      ],
      "source": [
        "# @title labels\n",
        "\n",
        "from matplotlib import pyplot as plt\n",
        "import seaborn as sns\n",
        "df.groupby('label').size().plot(kind='barh', color=sns.palettes.mpl_palette('Dark2'))\n",
        "plt.gca().spines[['top', 'right',]].set_visible(False)"
      ]
    },
    {
      "cell_type": "code",
      "execution_count": 23,
      "metadata": {
        "colab": {
          "base_uri": "https://localhost:8080/"
        },
        "id": "bCMqZ9ItdCC6",
        "outputId": "9997bce2-88ef-44b4-abbb-1e8853b23bf7"
      },
      "outputs": [
        {
          "name": "stdout",
          "output_type": "stream",
          "text": [
            "\n",
            "Stratified Sample:\n",
            "                                       clean_comment  category     label\n",
            "0   ashok khemka must munching popcorn sitting so...        -1  Negative\n",
            "1   comment this answer you didn need include the...        -1  Negative\n",
            "2   impersonating accents now racist there gonna ...         0   Neutral\n",
            "3                                  vote out bjp 2019         0   Neutral\n",
            "4    needful also suffer from laka laki nooki nooki          0   Neutral\n",
            "category\n",
            " 0    3\n",
            " 1    3\n",
            "-1    2\n",
            "Name: count, dtype: int64\n"
          ]
        },
        {
          "name": "stderr",
          "output_type": "stream",
          "text": [
            "C:\\Users\\Dell\\AppData\\Local\\Temp\\ipykernel_18860\\3116036365.py:6: DeprecationWarning: DataFrameGroupBy.apply operated on the grouping columns. This behavior is deprecated, and in a future version of pandas the grouping columns will be excluded from the operation. Either pass `include_groups=False` to exclude the groupings or explicitly select the grouping columns after groupby to silence this warning.\n",
            "  df_filter = df_backup.groupby('category').apply(lambda x: x.sample(frac=sample_proportion,\n"
          ]
        }
      ],
      "source": [
        "# small testing dataste for version 1\n",
        "\n",
        "# Define the proportion of the sample, e.g., 50% of each category\n",
        "sample_proportion = 0.0002\n",
        "# Perform stratified sampling\n",
        "df_filter = df_backup.groupby('category').apply(lambda x: x.sample(frac=sample_proportion, \n",
        "                                                            random_state=42)).reset_index(drop=True)\n",
        "# Display the stratified sample\n",
        "print(\"\\nStratified Sample:\")\n",
        "print(df_filter.head())\n",
        "print(df_filter['category'].value_counts())"
      ]
    },
    {
      "cell_type": "code",
      "execution_count": 24,
      "metadata": {},
      "outputs": [
        {
          "name": "stdout",
          "output_type": "stream",
          "text": [
            "\n",
            "Stratified Sample:\n",
            "                                       clean_comment  category     label\n",
            "0   ashok khemka must munching popcorn sitting so...        -1  Negative\n",
            "1   comment this answer you didn need include the...        -1  Negative\n",
            "2  from article trump brought india aid during ra...        -1  Negative\n",
            "3   get how world leaders are outraged him donald...        -1  Negative\n",
            "4   big carotene net for computers construction y...        -1  Negative\n",
            "category\n",
            " 1    16\n",
            " 0    13\n",
            "-1     8\n",
            "Name: count, dtype: int64\n"
          ]
        },
        {
          "name": "stderr",
          "output_type": "stream",
          "text": [
            "C:\\Users\\Dell\\AppData\\Local\\Temp\\ipykernel_18860\\736802202.py:4: DeprecationWarning: DataFrameGroupBy.apply operated on the grouping columns. This behavior is deprecated, and in a future version of pandas the grouping columns will be excluded from the operation. Either pass `include_groups=False` to exclude the groupings or explicitly select the grouping columns after groupby to silence this warning.\n",
            "  df_filter = df_backup.groupby('category').apply(lambda x: x.sample(frac=sample_proportion,\n"
          ]
        }
      ],
      "source": [
        "# Define the proportion of the sample, e.g., 50% of each category\n",
        "sample_proportion = 0.001\n",
        "# Perform stratified sampling\n",
        "df_filter = df_backup.groupby('category').apply(lambda x: x.sample(frac=sample_proportion, \n",
        "                                                            random_state=42)).reset_index(drop=True)\n",
        "\n",
        "# Display the stratified sample\n",
        "print(\"\\nStratified Sample:\")\n",
        "print(df_filter.head())\n",
        "print(df_filter['category'].value_counts())"
      ]
    },
    {
      "cell_type": "markdown",
      "metadata": {},
      "source": [
        "### MLFlow experiment with prompt ver"
      ]
    },
    {
      "cell_type": "code",
      "execution_count": 15,
      "metadata": {
        "id": "BjvvD4qT1b_x"
      },
      "outputs": [
        {
          "name": "stderr",
          "output_type": "stream",
          "text": [
            "2024/06/30 16:04:09 WARNING mlflow.utils.git_utils: Failed to import Git (the Git executable is probably not on your PATH), so Git SHA is not available. Error: Failed to initialize: Bad git executable.\n",
            "The git executable must be specified in one of the following ways:\n",
            "    - be included in your $PATH\n",
            "    - be set via $GIT_PYTHON_GIT_EXECUTABLE\n",
            "    - explicitly set via git.refresh(<full-path-to-git-executable>)\n",
            "\n",
            "All git commands will error until this is rectified.\n",
            "\n",
            "This initial message can be silenced or aggravated in the future by setting the\n",
            "$GIT_PYTHON_REFRESH environment variable. Use one of the following values:\n",
            "    - quiet|q|silence|s|silent|none|n|0: for no message or exception\n",
            "    - warn|w|warning|log|l|1: for a warning message (logging level CRITICAL, displayed by default)\n",
            "    - error|e|exception|raise|r|2: for a raised exception\n",
            "\n",
            "Example:\n",
            "    export GIT_PYTHON_REFRESH=quiet\n",
            "\n"
          ]
        }
      ],
      "source": [
        "from mlflow.data.pandas_dataset import PandasDataset\n",
        "dataset: PandasDataset = mlflow.data.from_pandas(df)"
      ]
    },
    {
      "cell_type": "code",
      "execution_count": 16,
      "metadata": {},
      "outputs": [
        {
          "data": {
            "text/plain": [
              "<module 'src.prompt_ver' from 'c:\\\\Users\\\\Dell\\\\OneDrive - The University of Hong Kong - Connect\\\\Demo Portfolio\\\\LLM_classification_with_MLFlow\\\\src\\\\prompt_ver.py'>"
            ]
          },
          "execution_count": 16,
          "metadata": {},
          "output_type": "execute_result"
        }
      ],
      "source": [
        "import importlib\n",
        "import sys\n",
        "\n",
        "# Delete the old module reference\n",
        "if 'src.prompt_ver' in sys.modules:\n",
        "    del sys.modules['src.prompt_ver']\n",
        "\n",
        "# Now import and reload the module\n",
        "import src.prompt_ver as prompt_ver\n",
        "importlib.reload(prompt_ver)"
      ]
    },
    {
      "cell_type": "code",
      "execution_count": 17,
      "metadata": {},
      "outputs": [
        {
          "name": "stdout",
          "output_type": "stream",
          "text": [
            "['prompt_v1', 'prompt_v2', 'prompt_v3']\n"
          ]
        }
      ],
      "source": [
        "import inspect\n",
        "import src.prompt_ver as prompt_ver  # Ensure the module is in the same directory or in the Python path\n",
        "\n",
        "# Get all the functions defined in the module\n",
        "functions = inspect.getmembers(prompt_ver, inspect.isfunction)\n",
        "\n",
        "# List function names\n",
        "functions_ls = [name for name, func in functions]\n",
        "print(functions_ls)"
      ]
    },
    {
      "cell_type": "code",
      "execution_count": 30,
      "metadata": {
        "colab": {
          "base_uri": "https://localhost:8080/",
          "height": 451,
          "referenced_widgets": [
            "a201a16a018a40a480df9f36b865d73f",
            "f123552086a0443fb2c391fb119d045d",
            "13ca8bcddf2c453680c4ab3b9a4abf00",
            "e89e51622b134534998fd19fc0c931aa",
            "e3634d2ad95f4a73979ecd64aecf27e9",
            "1d0009a832e64637b203ebe2430d7135",
            "db90a93ecd89423a9b1f975a6766100a",
            "ed32dd57009b42189477185bd7741bdd",
            "b1d2a527ee3d42abb3c1110f39cd6f63",
            "31e8a4b74b0f49f18a7e0bacf8709f93",
            "7366a86e34e843d8aeba1a7a6403ede6",
            "99007c88f8464b3e9bf6c06249dfc553",
            "92c71b98c41045e38bc4d32f5e5bac44",
            "2431242f2d6d447dbbf685a24704af9c",
            "f3e9b49f6a254051a5e20afd1a74fe02",
            "83f110d5357747e086c25ca33fb9c641",
            "08152782ec004afa8a2062ff2bb31398",
            "d701d0c4fb5b4fe681825db94fce5b15",
            "d3f37df7d7b24012a6092270c08965a7",
            "5d270855a43146c7a099552715c6062d",
            "426406c2627d431d9c72517aaa5a00b8",
            "c84c1d643c5b42b1bf51d2d18b1e2ace"
          ]
        },
        "id": "AkqOW4KzlVAw",
        "outputId": "71258e35-d29e-45f8-b741-f064e527602b"
      },
      "outputs": [
        {
          "name": "stdout",
          "output_type": "stream",
          "text": [
            "prompt_v1\n"
          ]
        },
        {
          "name": "stderr",
          "output_type": "stream",
          "text": [
            "  0%|          | 0/37 [00:00<?, ?it/s]"
          ]
        },
        {
          "name": "stdout",
          "output_type": "stream",
          "text": [
            "\n",
            "    Classify the text into Neutral, Negative, or Postive\n",
            "\n",
            "    Text to analyse: ``` ashok khemka must munching popcorn sitting some dimly lit office some xyz department and must trying hard act surprised everybody who has worked govt sector knows this think police bullied only big netas docs are harassed even small party workers village ```\n",
            "\n",
            "    Sentiment:\n",
            "    \n"
          ]
        },
        {
          "name": "stderr",
          "output_type": "stream",
          "text": [
            "  3%|▎         | 1/37 [00:00<00:17,  2.03it/s]"
          ]
        },
        {
          "name": "stdout",
          "output_type": "stream",
          "text": [
            "\n",
            "    Classify the text into Neutral, Negative, or Postive\n",
            "\n",
            "    Text to analyse: ``` comment this answer you didn need include the unimportant story the answer unscientific the question needs only scientific answer you can just search anything google and post quora misleading people read this story and believe because course fake unscientific try not write such answers try avoid such content your answers that wouldn mislead the readers hear richard dawkins and george carlin sam harris reply sorry for your ignorance bless you ```\n",
            "\n",
            "    Sentiment:\n",
            "    \n"
          ]
        },
        {
          "name": "stderr",
          "output_type": "stream",
          "text": [
            "  5%|▌         | 2/37 [00:00<00:16,  2.13it/s]"
          ]
        },
        {
          "name": "stdout",
          "output_type": "stream",
          "text": [
            "must be real number, not NoneType\n",
            "GPT crashed\n",
            "\n",
            "    Classify the text into Neutral, Negative, or Postive\n",
            "\n",
            "    Text to analyse: ```from article trump brought india aid during rambling press appearance cabinet meeting defended his push for the united states invest less overseas while stating that got along with modi trump said the indian leader was constantly telling built library afghanistan you know what that that like five hours what spend trump said and supposed say thank you for the library don know who using afghanistan trump said ```\n",
            "\n",
            "    Sentiment:\n",
            "    \n"
          ]
        },
        {
          "name": "stderr",
          "output_type": "stream",
          "text": [
            "  8%|▊         | 3/37 [00:01<00:16,  2.12it/s]"
          ]
        },
        {
          "name": "stdout",
          "output_type": "stream",
          "text": [
            "\n",
            "    Classify the text into Neutral, Negative, or Postive\n",
            "\n",
            "    Text to analyse: ``` get how world leaders are outraged him donald trump has very clear pattern nice him and say nice things and will what you want him the most pathetic tells why finland mexico don say president trump think you have the biggest and boldest hands idk they get anything they want ```\n",
            "\n",
            "    Sentiment:\n",
            "    \n"
          ]
        },
        {
          "name": "stderr",
          "output_type": "stream",
          "text": [
            " 11%|█         | 4/37 [00:01<00:15,  2.13it/s]"
          ]
        },
        {
          "name": "stdout",
          "output_type": "stream",
          "text": [
            "must be real number, not NoneType\n",
            "GPT crashed\n",
            "\n",
            "    Classify the text into Neutral, Negative, or Postive\n",
            "\n",
            "    Text to analyse: ``` big carotene net for computers construction your mother knows not you obama has bought extra lot cocaine daughter was all your get one time was all warily were too ductility all friday yeah you want buy liters one moment yeah realized that all coins yeah spent much ```\n",
            "\n",
            "    Sentiment:\n",
            "    \n"
          ]
        },
        {
          "name": "stderr",
          "output_type": "stream",
          "text": [
            " 14%|█▎        | 5/37 [00:02<00:13,  2.32it/s]"
          ]
        },
        {
          "name": "stdout",
          "output_type": "stream",
          "text": [
            "must be real number, not NoneType\n",
            "GPT crashed\n",
            "\n",
            "    Classify the text into Neutral, Negative, or Postive\n",
            "\n",
            "    Text to analyse: ```this guy beyond joke now what utter idiot ```\n",
            "\n",
            "    Sentiment:\n",
            "    \n"
          ]
        },
        {
          "name": "stderr",
          "output_type": "stream",
          "text": [
            " 16%|█▌        | 6/37 [00:02<00:13,  2.29it/s]"
          ]
        },
        {
          "name": "stdout",
          "output_type": "stream",
          "text": [
            "must be real number, not NoneType\n",
            "GPT crashed\n",
            "\n",
            "    Classify the text into Neutral, Negative, or Postive\n",
            "\n",
            "    Text to analyse: ```’ hate rain your parade all but ’ sick your neomccarthyist hysteria jpg```\n",
            "\n",
            "    Sentiment:\n",
            "    \n"
          ]
        },
        {
          "name": "stderr",
          "output_type": "stream",
          "text": [
            " 19%|█▉        | 7/37 [00:03<00:13,  2.27it/s]"
          ]
        },
        {
          "name": "stdout",
          "output_type": "stream",
          "text": [
            "\n",
            "    Classify the text into Neutral, Negative, or Postive\n",
            "\n",
            "    Text to analyse: ```wtf happening our country ```\n",
            "\n",
            "    Sentiment:\n",
            "    \n"
          ]
        },
        {
          "name": "stderr",
          "output_type": "stream",
          "text": [
            " 22%|██▏       | 8/37 [00:03<00:13,  2.21it/s]"
          ]
        },
        {
          "name": "stdout",
          "output_type": "stream",
          "text": [
            "must be real number, not NoneType\n",
            "GPT crashed\n",
            "\n",
            "    Classify the text into Neutral, Negative, or Postive\n",
            "\n",
            "    Text to analyse: ``` impersonating accents now racist there gonna lot comedians and actors out work ```\n",
            "\n",
            "    Sentiment:\n",
            "    \n"
          ]
        },
        {
          "name": "stderr",
          "output_type": "stream",
          "text": [
            " 24%|██▍       | 9/37 [00:04<00:12,  2.30it/s]"
          ]
        },
        {
          "name": "stdout",
          "output_type": "stream",
          "text": [
            "\n",
            "    Classify the text into Neutral, Negative, or Postive\n",
            "\n",
            "    Text to analyse: ```vote out bjp 2019```\n",
            "\n",
            "    Sentiment:\n",
            "    \n"
          ]
        },
        {
          "name": "stderr",
          "output_type": "stream",
          "text": [
            " 27%|██▋       | 10/37 [00:04<00:12,  2.22it/s]"
          ]
        },
        {
          "name": "stdout",
          "output_type": "stream",
          "text": [
            "\n",
            "    Classify the text into Neutral, Negative, or Postive\n",
            "\n",
            "    Text to analyse: ``` needful also suffer from laka laki nooki nooki ```\n",
            "\n",
            "    Sentiment:\n",
            "    \n"
          ]
        },
        {
          "name": "stderr",
          "output_type": "stream",
          "text": [
            " 30%|██▉       | 11/37 [00:04<00:11,  2.32it/s]"
          ]
        },
        {
          "name": "stdout",
          "output_type": "stream",
          "text": [
            "\n",
            "    Classify the text into Neutral, Negative, or Postive\n",
            "\n",
            "    Text to analyse: ```can tag users for asking their consent about tagging them ```\n",
            "\n",
            "    Sentiment:\n",
            "    \n"
          ]
        },
        {
          "name": "stderr",
          "output_type": "stream",
          "text": [
            " 32%|███▏      | 12/37 [00:05<00:12,  1.96it/s]"
          ]
        },
        {
          "name": "stdout",
          "output_type": "stream",
          "text": [
            "\n",
            "    Classify the text into Neutral, Negative, or Postive\n",
            "\n",
            "    Text to analyse: ```yogi raj british raj modi raj congress raj mulayam raj mayawati raj kabhi benchod sarkar bhi dedo wallo madharchod ```\n",
            "\n",
            "    Sentiment:\n",
            "    \n"
          ]
        },
        {
          "name": "stderr",
          "output_type": "stream",
          "text": [
            " 35%|███▌      | 13/37 [00:05<00:11,  2.10it/s]"
          ]
        },
        {
          "name": "stdout",
          "output_type": "stream",
          "text": [
            "must be real number, not NoneType\n",
            "GPT crashed\n",
            "\n",
            "    Classify the text into Neutral, Negative, or Postive\n",
            "\n",
            "    Text to analyse: ```nan```\n",
            "\n",
            "    Sentiment:\n",
            "    \n"
          ]
        },
        {
          "name": "stderr",
          "output_type": "stream",
          "text": [
            " 38%|███▊      | 14/37 [00:06<00:10,  2.24it/s]"
          ]
        },
        {
          "name": "stdout",
          "output_type": "stream",
          "text": [
            "\n",
            "    Classify the text into Neutral, Negative, or Postive\n",
            "\n",
            "    Text to analyse: ```sexit ```\n",
            "\n",
            "    Sentiment:\n",
            "    \n"
          ]
        },
        {
          "name": "stderr",
          "output_type": "stream",
          "text": [
            " 41%|████      | 15/37 [00:06<00:09,  2.22it/s]"
          ]
        },
        {
          "name": "stdout",
          "output_type": "stream",
          "text": [
            "\n",
            "    Classify the text into Neutral, Negative, or Postive\n",
            "\n",
            "    Text to analyse: ```ravish bhaiyya pranaam ```\n",
            "\n",
            "    Sentiment:\n",
            "    \n"
          ]
        },
        {
          "name": "stderr",
          "output_type": "stream",
          "text": [
            " 43%|████▎     | 16/37 [00:07<00:10,  1.95it/s]"
          ]
        },
        {
          "name": "stdout",
          "output_type": "stream",
          "text": [
            "\n",
            "    Classify the text into Neutral, Negative, or Postive\n",
            "\n",
            "    Text to analyse: ``` these coalition governments made regional parties will just use power indulge corruption scale that will make upa2 seem like ram rajya doesn already feel ```\n",
            "\n",
            "    Sentiment:\n",
            "    \n"
          ]
        },
        {
          "name": "stderr",
          "output_type": "stream",
          "text": [
            " 46%|████▌     | 17/37 [00:07<00:09,  2.04it/s]"
          ]
        },
        {
          "name": "stdout",
          "output_type": "stream",
          "text": [
            "must be real number, not NoneType\n",
            "GPT crashed\n",
            "\n",
            "    Classify the text into Neutral, Negative, or Postive\n",
            "\n",
            "    Text to analyse: ```the winner declared when them arrive 100m```\n",
            "\n",
            "    Sentiment:\n",
            "    \n"
          ]
        },
        {
          "name": "stderr",
          "output_type": "stream",
          "text": [
            " 49%|████▊     | 18/37 [00:08<00:09,  2.09it/s]"
          ]
        },
        {
          "name": "stdout",
          "output_type": "stream",
          "text": [
            "\n",
            "    Classify the text into Neutral, Negative, or Postive\n",
            "\n",
            "    Text to analyse: ```dud could not even read from his phone should booked for sedition\n",
            "```\n",
            "\n",
            "    Sentiment:\n",
            "    \n"
          ]
        },
        {
          "name": "stderr",
          "output_type": "stream",
          "text": [
            " 51%|█████▏    | 19/37 [00:09<00:09,  1.81it/s]"
          ]
        },
        {
          "name": "stdout",
          "output_type": "stream",
          "text": [
            "must be real number, not NoneType\n",
            "GPT crashed\n",
            "\n",
            "    Classify the text into Neutral, Negative, or Postive\n",
            "\n",
            "    Text to analyse: ```holding ass ```\n",
            "\n",
            "    Sentiment:\n",
            "    \n"
          ]
        },
        {
          "name": "stderr",
          "output_type": "stream",
          "text": [
            " 54%|█████▍    | 20/37 [00:09<00:09,  1.86it/s]"
          ]
        },
        {
          "name": "stdout",
          "output_type": "stream",
          "text": [
            "\n",
            "    Classify the text into Neutral, Negative, or Postive\n",
            "\n",
            "    Text to analyse: ```thank you ```\n",
            "\n",
            "    Sentiment:\n",
            "    \n"
          ]
        },
        {
          "name": "stderr",
          "output_type": "stream",
          "text": [
            " 57%|█████▋    | 21/37 [00:10<00:08,  1.95it/s]"
          ]
        },
        {
          "name": "stdout",
          "output_type": "stream",
          "text": [
            "must be real number, not NoneType\n",
            "GPT crashed\n",
            "\n",
            "    Classify the text into Neutral, Negative, or Postive\n",
            "\n",
            "    Text to analyse: ``` has ended but wait there see you next time does that mean sequel confirmed ```\n",
            "\n",
            "    Sentiment:\n",
            "    \n"
          ]
        },
        {
          "name": "stderr",
          "output_type": "stream",
          "text": [
            " 59%|█████▉    | 22/37 [00:10<00:07,  2.02it/s]"
          ]
        },
        {
          "name": "stdout",
          "output_type": "stream",
          "text": [
            "\n",
            "    Classify the text into Neutral, Negative, or Postive\n",
            "\n",
            "    Text to analyse: ```dammit good and got good speechwriters let see the potential headlines tomorrow vhp miffed modi atheist people angry that modi offended their religion congress says trick modi modi still communal neighbour plant died modi responsible the last one may not true ```\n",
            "\n",
            "    Sentiment:\n",
            "    \n"
          ]
        },
        {
          "name": "stderr",
          "output_type": "stream",
          "text": [
            " 62%|██████▏   | 23/37 [00:10<00:06,  2.18it/s]"
          ]
        },
        {
          "name": "stdout",
          "output_type": "stream",
          "text": [
            "must be real number, not NoneType\n",
            "GPT crashed\n",
            "\n",
            "    Classify the text into Neutral, Negative, or Postive\n",
            "\n",
            "    Text to analyse: ``` all aspiring music producer who mainly does hip hop and pop records currently completing higher nitec cert business and want pursue diploma music either nafa laselle but not have any music background and only play and listen ear have never attended music theory lessons though kinda get what and have only played euphonium primary school would like ask would you reccommend try out and what advice would you give when going for the auditions and possible any yall are were the schools what actually learn and how much reccommend kid with background knowledge graded experience join this diploma cheers ```\n",
            "\n",
            "    Sentiment:\n",
            "    \n"
          ]
        },
        {
          "name": "stderr",
          "output_type": "stream",
          "text": [
            " 65%|██████▍   | 24/37 [00:11<00:05,  2.18it/s]"
          ]
        },
        {
          "name": "stdout",
          "output_type": "stream",
          "text": [
            "\n",
            "    Classify the text into Neutral, Negative, or Postive\n",
            "\n",
            "    Text to analyse: ```funnily enough sex education was banned congress ncp maharashtra too one could almost call them medieval right wing nuts```\n",
            "\n",
            "    Sentiment:\n",
            "    \n"
          ]
        },
        {
          "name": "stderr",
          "output_type": "stream",
          "text": [
            " 68%|██████▊   | 25/37 [00:11<00:05,  2.17it/s]"
          ]
        },
        {
          "name": "stdout",
          "output_type": "stream",
          "text": [
            "must be real number, not NoneType\n",
            "GPT crashed\n",
            "\n",
            "    Classify the text into Neutral, Negative, or Postive\n",
            "\n",
            "    Text to analyse: ```the real reason rjd don want support him that might become the leader lalu wants his son tejaswini become ```\n",
            "\n",
            "    Sentiment:\n",
            "    \n"
          ]
        },
        {
          "name": "stderr",
          "output_type": "stream",
          "text": [
            " 70%|███████   | 26/37 [00:12<00:05,  2.16it/s]"
          ]
        },
        {
          "name": "stdout",
          "output_type": "stream",
          "text": [
            "\n",
            "    Classify the text into Neutral, Negative, or Postive\n",
            "\n",
            "    Text to analyse: ``` power cuts since 2014 upi less paperwork these are the three most prominent changes since 2014 ```\n",
            "\n",
            "    Sentiment:\n",
            "    \n"
          ]
        },
        {
          "name": "stderr",
          "output_type": "stream",
          "text": [
            " 73%|███████▎  | 27/37 [00:13<00:05,  1.80it/s]"
          ]
        },
        {
          "name": "stdout",
          "output_type": "stream",
          "text": [
            "\n",
            "    Classify the text into Neutral, Negative, or Postive\n",
            "\n",
            "    Text to analyse: ```very accurate and superb thanks for this ```\n",
            "\n",
            "    Sentiment:\n",
            "    \n"
          ]
        },
        {
          "name": "stderr",
          "output_type": "stream",
          "text": [
            " 76%|███████▌  | 28/37 [00:13<00:04,  1.94it/s]"
          ]
        },
        {
          "name": "stdout",
          "output_type": "stream",
          "text": [
            "must be real number, not NoneType\n",
            "GPT crashed\n",
            "\n",
            "    Classify the text into Neutral, Negative, or Postive\n",
            "\n",
            "    Text to analyse: ``` this point even with the risk sounding like shill definitely say that doing our nation great disservice don give modi second term ```\n",
            "\n",
            "    Sentiment:\n",
            "    \n"
          ]
        },
        {
          "name": "stderr",
          "output_type": "stream",
          "text": [
            " 78%|███████▊  | 29/37 [00:13<00:04,  1.96it/s]"
          ]
        },
        {
          "name": "stdout",
          "output_type": "stream",
          "text": [
            "\n",
            "    Classify the text into Neutral, Negative, or Postive\n",
            "\n",
            "    Text to analyse: ```sagna should interesting ```\n",
            "\n",
            "    Sentiment:\n",
            "    \n"
          ]
        },
        {
          "name": "stderr",
          "output_type": "stream",
          "text": [
            " 81%|████████  | 30/37 [00:14<00:03,  2.00it/s]"
          ]
        },
        {
          "name": "stdout",
          "output_type": "stream",
          "text": [
            "\n",
            "    Classify the text into Neutral, Negative, or Postive\n",
            "\n",
            "    Text to analyse: ```put modi jail for taking selfie please the man indias most popular leader years this will not help anyone ```\n",
            "\n",
            "    Sentiment:\n",
            "    \n"
          ]
        },
        {
          "name": "stderr",
          "output_type": "stream",
          "text": [
            " 84%|████████▍ | 31/37 [00:14<00:02,  2.15it/s]"
          ]
        },
        {
          "name": "stdout",
          "output_type": "stream",
          "text": [
            "\n",
            "    Classify the text into Neutral, Negative, or Postive\n",
            "\n",
            "    Text to analyse: ```yogi wasn even name people knew commonly before 2014 you never know who springs the coming years and have yet see the results yogi work till then insult even compare modi gujarat lol ```\n",
            "\n",
            "    Sentiment:\n",
            "    \n"
          ]
        },
        {
          "name": "stderr",
          "output_type": "stream",
          "text": [
            " 86%|████████▋ | 32/37 [00:15<00:02,  2.28it/s]"
          ]
        },
        {
          "name": "stdout",
          "output_type": "stream",
          "text": [
            "\n",
            "    Classify the text into Neutral, Negative, or Postive\n",
            "\n",
            "    Text to analyse: ``` this wisdom podcast chokyi nyima rinpoche talks about his past life memories the greater context dharma practice very inspiring mae chee kaew biography pdf also has inspiring retelling her experiences recalling past lives she became arahant the mid 1900s \\ important keep this topic within the greater context practicing the dharma and not view isolation something mystical metta ```\n",
            "\n",
            "    Sentiment:\n",
            "    \n"
          ]
        },
        {
          "name": "stderr",
          "output_type": "stream",
          "text": [
            " 89%|████████▉ | 33/37 [00:15<00:01,  2.34it/s]"
          ]
        },
        {
          "name": "stdout",
          "output_type": "stream",
          "text": [
            "must be real number, not NoneType\n",
            "GPT crashed\n",
            "\n",
            "    Classify the text into Neutral, Negative, or Postive\n",
            "\n",
            "    Text to analyse: ```this will also hit the sector which has been evading income tax till now hardest the farming sector that one sector which virtually evades all tax talking about the land lords not common farmer most the transaction cash now there way out but deposit money they had virtually nil contribution income tax locked their own maze now they are awesome ```\n",
            "\n",
            "    Sentiment:\n",
            "    \n"
          ]
        },
        {
          "name": "stderr",
          "output_type": "stream",
          "text": [
            " 92%|█████████▏| 34/37 [00:16<00:01,  2.29it/s]"
          ]
        },
        {
          "name": "stdout",
          "output_type": "stream",
          "text": [
            "\n",
            "    Classify the text into Neutral, Negative, or Postive\n",
            "\n",
            "    Text to analyse: ``` ‘apni dosti bani rahe bas ’ happy you came here happy and thankful you can’ this interview … aapke ideas hain aap bolte rahiye aap karte rahiye…dekho mein dostana sambhand banana chahta hoon ’```\n",
            "\n",
            "    Sentiment:\n",
            "    \n"
          ]
        },
        {
          "name": "stderr",
          "output_type": "stream",
          "text": [
            " 95%|█████████▍| 35/37 [00:16<00:00,  2.28it/s]"
          ]
        },
        {
          "name": "stdout",
          "output_type": "stream",
          "text": [
            "must be real number, not NoneType\n",
            "GPT crashed\n",
            "\n",
            "    Classify the text into Neutral, Negative, or Postive\n",
            "\n",
            "    Text to analyse: ```how many cbi raids can anticipate now the next hours ```\n",
            "\n",
            "    Sentiment:\n",
            "    \n"
          ]
        },
        {
          "name": "stderr",
          "output_type": "stream",
          "text": [
            " 97%|█████████▋| 36/37 [00:17<00:00,  1.88it/s]"
          ]
        },
        {
          "name": "stdout",
          "output_type": "stream",
          "text": [
            "must be real number, not NoneType\n",
            "GPT crashed\n",
            "\n",
            "    Classify the text into Neutral, Negative, or Postive\n",
            "\n",
            "    Text to analyse: ``` agar this what qualifies one become nationalist then better off being anti national ```\n",
            "\n",
            "    Sentiment:\n",
            "    \n"
          ]
        },
        {
          "name": "stderr",
          "output_type": "stream",
          "text": [
            "100%|██████████| 37/37 [00:17<00:00,  2.09it/s]\n"
          ]
        },
        {
          "data": {
            "image/png": "[encoded data removed]",
            "text/plain": [
              "<Figure size 1000x700 with 2 Axes>"
            ]
          },
          "metadata": {},
          "output_type": "display_data"
        },
        {
          "name": "stdout",
          "output_type": "stream",
          "text": [
            "\n",
            "Detailed Classification Report for prompt_v1:\n",
            "              precision    recall  f1-score   support\n",
            "\n",
            "    Positive       0.00      0.00      0.00        10\n",
            "     Neutral       0.55      0.67      0.60         9\n",
            "    Negative       0.20      0.67      0.31         3\n",
            "\n",
            "    accuracy                           0.36        22\n",
            "   macro avg       0.25      0.44      0.30        22\n",
            "weighted avg       0.25      0.36      0.29        22\n",
            "\n",
            "mlflow ended for prompt_v1\n",
            "prompt_v2\n"
          ]
        },
        {
          "name": "stderr",
          "output_type": "stream",
          "text": [
            "  0%|          | 0/37 [00:00<?, ?it/s]"
          ]
        },
        {
          "name": "stdout",
          "output_type": "stream",
          "text": [
            "\n",
            "    Your task is to analyse and report the overall sentiment     of only one out of the following sentiments:     [Postive, Negative, Neutral].     On the text delimited by triple backticks\n",
            "\n",
            "    Text to analyse: ``` ashok khemka must munching popcorn sitting some dimly lit office some xyz department and must trying hard act surprised everybody who has worked govt sector knows this think police bullied only big netas docs are harassed even small party workers village ```\n",
            "    \n"
          ]
        },
        {
          "name": "stderr",
          "output_type": "stream",
          "text": [
            "  3%|▎         | 1/37 [00:00<00:25,  1.44it/s]"
          ]
        },
        {
          "name": "stdout",
          "output_type": "stream",
          "text": [
            "\n",
            "    Your task is to analyse and report the overall sentiment     of only one out of the following sentiments:     [Postive, Negative, Neutral].     On the text delimited by triple backticks\n",
            "\n",
            "    Text to analyse: ``` comment this answer you didn need include the unimportant story the answer unscientific the question needs only scientific answer you can just search anything google and post quora misleading people read this story and believe because course fake unscientific try not write such answers try avoid such content your answers that wouldn mislead the readers hear richard dawkins and george carlin sam harris reply sorry for your ignorance bless you ```\n",
            "    \n"
          ]
        },
        {
          "name": "stderr",
          "output_type": "stream",
          "text": [
            "  5%|▌         | 2/37 [00:01<00:19,  1.77it/s]"
          ]
        },
        {
          "name": "stdout",
          "output_type": "stream",
          "text": [
            "must be real number, not NoneType\n",
            "GPT crashed\n",
            "\n",
            "    Your task is to analyse and report the overall sentiment     of only one out of the following sentiments:     [Postive, Negative, Neutral].     On the text delimited by triple backticks\n",
            "\n",
            "    Text to analyse: ```from article trump brought india aid during rambling press appearance cabinet meeting defended his push for the united states invest less overseas while stating that got along with modi trump said the indian leader was constantly telling built library afghanistan you know what that that like five hours what spend trump said and supposed say thank you for the library don know who using afghanistan trump said ```\n",
            "    \n"
          ]
        },
        {
          "name": "stderr",
          "output_type": "stream",
          "text": [
            "  8%|▊         | 3/37 [00:01<00:17,  1.91it/s]"
          ]
        },
        {
          "name": "stdout",
          "output_type": "stream",
          "text": [
            "\n",
            "    Your task is to analyse and report the overall sentiment     of only one out of the following sentiments:     [Postive, Negative, Neutral].     On the text delimited by triple backticks\n",
            "\n",
            "    Text to analyse: ``` get how world leaders are outraged him donald trump has very clear pattern nice him and say nice things and will what you want him the most pathetic tells why finland mexico don say president trump think you have the biggest and boldest hands idk they get anything they want ```\n",
            "    \n"
          ]
        },
        {
          "name": "stderr",
          "output_type": "stream",
          "text": [
            " 11%|█         | 4/37 [00:02<00:20,  1.62it/s]"
          ]
        },
        {
          "name": "stdout",
          "output_type": "stream",
          "text": [
            "\n",
            "    Your task is to analyse and report the overall sentiment     of only one out of the following sentiments:     [Postive, Negative, Neutral].     On the text delimited by triple backticks\n",
            "\n",
            "    Text to analyse: ``` big carotene net for computers construction your mother knows not you obama has bought extra lot cocaine daughter was all your get one time was all warily were too ductility all friday yeah you want buy liters one moment yeah realized that all coins yeah spent much ```\n",
            "    \n"
          ]
        },
        {
          "name": "stderr",
          "output_type": "stream",
          "text": [
            " 14%|█▎        | 5/37 [00:02<00:17,  1.78it/s]"
          ]
        },
        {
          "name": "stdout",
          "output_type": "stream",
          "text": [
            "\n",
            "    Your task is to analyse and report the overall sentiment     of only one out of the following sentiments:     [Postive, Negative, Neutral].     On the text delimited by triple backticks\n",
            "\n",
            "    Text to analyse: ```this guy beyond joke now what utter idiot ```\n",
            "    \n"
          ]
        },
        {
          "name": "stderr",
          "output_type": "stream",
          "text": [
            " 16%|█▌        | 6/37 [00:03<00:18,  1.64it/s]"
          ]
        },
        {
          "name": "stdout",
          "output_type": "stream",
          "text": [
            "must be real number, not NoneType\n",
            "GPT crashed\n",
            "\n",
            "    Your task is to analyse and report the overall sentiment     of only one out of the following sentiments:     [Postive, Negative, Neutral].     On the text delimited by triple backticks\n",
            "\n",
            "    Text to analyse: ```’ hate rain your parade all but ’ sick your neomccarthyist hysteria jpg```\n",
            "    \n"
          ]
        },
        {
          "name": "stderr",
          "output_type": "stream",
          "text": [
            " 19%|█▉        | 7/37 [00:03<00:15,  1.90it/s]"
          ]
        },
        {
          "name": "stdout",
          "output_type": "stream",
          "text": [
            "\n",
            "    Your task is to analyse and report the overall sentiment     of only one out of the following sentiments:     [Postive, Negative, Neutral].     On the text delimited by triple backticks\n",
            "\n",
            "    Text to analyse: ```wtf happening our country ```\n",
            "    \n"
          ]
        },
        {
          "name": "stderr",
          "output_type": "stream",
          "text": [
            " 22%|██▏       | 8/37 [00:04<00:14,  1.95it/s]"
          ]
        },
        {
          "name": "stdout",
          "output_type": "stream",
          "text": [
            "must be real number, not NoneType\n",
            "GPT crashed\n",
            "\n",
            "    Your task is to analyse and report the overall sentiment     of only one out of the following sentiments:     [Postive, Negative, Neutral].     On the text delimited by triple backticks\n",
            "\n",
            "    Text to analyse: ``` impersonating accents now racist there gonna lot comedians and actors out work ```\n",
            "    \n"
          ]
        },
        {
          "name": "stderr",
          "output_type": "stream",
          "text": [
            " 24%|██▍       | 9/37 [00:04<00:13,  2.01it/s]"
          ]
        },
        {
          "name": "stdout",
          "output_type": "stream",
          "text": [
            "must be real number, not NoneType\n",
            "GPT crashed\n",
            "\n",
            "    Your task is to analyse and report the overall sentiment     of only one out of the following sentiments:     [Postive, Negative, Neutral].     On the text delimited by triple backticks\n",
            "\n",
            "    Text to analyse: ```vote out bjp 2019```\n",
            "    \n"
          ]
        },
        {
          "name": "stderr",
          "output_type": "stream",
          "text": [
            " 27%|██▋       | 10/37 [00:05<00:12,  2.18it/s]"
          ]
        },
        {
          "name": "stdout",
          "output_type": "stream",
          "text": [
            "\n",
            "    Your task is to analyse and report the overall sentiment     of only one out of the following sentiments:     [Postive, Negative, Neutral].     On the text delimited by triple backticks\n",
            "\n",
            "    Text to analyse: ``` needful also suffer from laka laki nooki nooki ```\n",
            "    \n"
          ]
        },
        {
          "name": "stderr",
          "output_type": "stream",
          "text": [
            " 30%|██▉       | 11/37 [00:05<00:11,  2.17it/s]"
          ]
        },
        {
          "name": "stdout",
          "output_type": "stream",
          "text": [
            "\n",
            "    Your task is to analyse and report the overall sentiment     of only one out of the following sentiments:     [Postive, Negative, Neutral].     On the text delimited by triple backticks\n",
            "\n",
            "    Text to analyse: ```can tag users for asking their consent about tagging them ```\n",
            "    \n"
          ]
        },
        {
          "name": "stderr",
          "output_type": "stream",
          "text": [
            " 32%|███▏      | 12/37 [00:06<00:10,  2.32it/s]"
          ]
        },
        {
          "name": "stdout",
          "output_type": "stream",
          "text": [
            "\n",
            "    Your task is to analyse and report the overall sentiment     of only one out of the following sentiments:     [Postive, Negative, Neutral].     On the text delimited by triple backticks\n",
            "\n",
            "    Text to analyse: ```yogi raj british raj modi raj congress raj mulayam raj mayawati raj kabhi benchod sarkar bhi dedo wallo madharchod ```\n",
            "    \n"
          ]
        },
        {
          "name": "stderr",
          "output_type": "stream",
          "text": [
            " 35%|███▌      | 13/37 [00:06<00:10,  2.30it/s]"
          ]
        },
        {
          "name": "stdout",
          "output_type": "stream",
          "text": [
            "\n",
            "    Your task is to analyse and report the overall sentiment     of only one out of the following sentiments:     [Postive, Negative, Neutral].     On the text delimited by triple backticks\n",
            "\n",
            "    Text to analyse: ```nan```\n",
            "    \n"
          ]
        },
        {
          "name": "stderr",
          "output_type": "stream",
          "text": [
            " 38%|███▊      | 14/37 [00:06<00:09,  2.34it/s]"
          ]
        },
        {
          "name": "stdout",
          "output_type": "stream",
          "text": [
            "must be real number, not NoneType\n",
            "GPT crashed\n",
            "\n",
            "    Your task is to analyse and report the overall sentiment     of only one out of the following sentiments:     [Postive, Negative, Neutral].     On the text delimited by triple backticks\n",
            "\n",
            "    Text to analyse: ```sexit ```\n",
            "    \n"
          ]
        },
        {
          "name": "stderr",
          "output_type": "stream",
          "text": [
            " 41%|████      | 15/37 [00:07<00:11,  1.97it/s]"
          ]
        },
        {
          "name": "stdout",
          "output_type": "stream",
          "text": [
            "\n",
            "    Your task is to analyse and report the overall sentiment     of only one out of the following sentiments:     [Postive, Negative, Neutral].     On the text delimited by triple backticks\n",
            "\n",
            "    Text to analyse: ```ravish bhaiyya pranaam ```\n",
            "    \n"
          ]
        },
        {
          "name": "stderr",
          "output_type": "stream",
          "text": [
            " 43%|████▎     | 16/37 [00:08<00:10,  1.99it/s]"
          ]
        },
        {
          "name": "stdout",
          "output_type": "stream",
          "text": [
            "\n",
            "    Your task is to analyse and report the overall sentiment     of only one out of the following sentiments:     [Postive, Negative, Neutral].     On the text delimited by triple backticks\n",
            "\n",
            "    Text to analyse: ``` these coalition governments made regional parties will just use power indulge corruption scale that will make upa2 seem like ram rajya doesn already feel ```\n",
            "    \n"
          ]
        },
        {
          "name": "stderr",
          "output_type": "stream",
          "text": [
            " 46%|████▌     | 17/37 [00:08<00:09,  2.07it/s]"
          ]
        },
        {
          "name": "stdout",
          "output_type": "stream",
          "text": [
            "\n",
            "    Your task is to analyse and report the overall sentiment     of only one out of the following sentiments:     [Postive, Negative, Neutral].     On the text delimited by triple backticks\n",
            "\n",
            "    Text to analyse: ```the winner declared when them arrive 100m```\n",
            "    \n"
          ]
        },
        {
          "name": "stderr",
          "output_type": "stream",
          "text": [
            " 49%|████▊     | 18/37 [00:09<00:09,  2.07it/s]"
          ]
        },
        {
          "name": "stdout",
          "output_type": "stream",
          "text": [
            "\n",
            "    Your task is to analyse and report the overall sentiment     of only one out of the following sentiments:     [Postive, Negative, Neutral].     On the text delimited by triple backticks\n",
            "\n",
            "    Text to analyse: ```dud could not even read from his phone should booked for sedition\n",
            "```\n",
            "    \n"
          ]
        },
        {
          "name": "stderr",
          "output_type": "stream",
          "text": [
            " 51%|█████▏    | 19/37 [00:09<00:08,  2.13it/s]"
          ]
        },
        {
          "name": "stdout",
          "output_type": "stream",
          "text": [
            "\n",
            "    Your task is to analyse and report the overall sentiment     of only one out of the following sentiments:     [Postive, Negative, Neutral].     On the text delimited by triple backticks\n",
            "\n",
            "    Text to analyse: ```holding ass ```\n",
            "    \n"
          ]
        },
        {
          "name": "stderr",
          "output_type": "stream",
          "text": [
            " 54%|█████▍    | 20/37 [00:09<00:07,  2.23it/s]"
          ]
        },
        {
          "name": "stdout",
          "output_type": "stream",
          "text": [
            "\n",
            "    Your task is to analyse and report the overall sentiment     of only one out of the following sentiments:     [Postive, Negative, Neutral].     On the text delimited by triple backticks\n",
            "\n",
            "    Text to analyse: ```thank you ```\n",
            "    \n"
          ]
        },
        {
          "name": "stderr",
          "output_type": "stream",
          "text": [
            " 57%|█████▋    | 21/37 [00:10<00:06,  2.35it/s]"
          ]
        },
        {
          "name": "stdout",
          "output_type": "stream",
          "text": [
            "must be real number, not NoneType\n",
            "GPT crashed\n",
            "\n",
            "    Your task is to analyse and report the overall sentiment     of only one out of the following sentiments:     [Postive, Negative, Neutral].     On the text delimited by triple backticks\n",
            "\n",
            "    Text to analyse: ``` has ended but wait there see you next time does that mean sequel confirmed ```\n",
            "    \n"
          ]
        },
        {
          "name": "stderr",
          "output_type": "stream",
          "text": [
            " 59%|█████▉    | 22/37 [00:10<00:06,  2.32it/s]"
          ]
        },
        {
          "name": "stdout",
          "output_type": "stream",
          "text": [
            "\n",
            "    Your task is to analyse and report the overall sentiment     of only one out of the following sentiments:     [Postive, Negative, Neutral].     On the text delimited by triple backticks\n",
            "\n",
            "    Text to analyse: ```dammit good and got good speechwriters let see the potential headlines tomorrow vhp miffed modi atheist people angry that modi offended their religion congress says trick modi modi still communal neighbour plant died modi responsible the last one may not true ```\n",
            "    \n"
          ]
        },
        {
          "name": "stderr",
          "output_type": "stream",
          "text": [
            " 62%|██████▏   | 23/37 [00:11<00:06,  2.28it/s]"
          ]
        },
        {
          "name": "stdout",
          "output_type": "stream",
          "text": [
            "\n",
            "    Your task is to analyse and report the overall sentiment     of only one out of the following sentiments:     [Postive, Negative, Neutral].     On the text delimited by triple backticks\n",
            "\n",
            "    Text to analyse: ``` all aspiring music producer who mainly does hip hop and pop records currently completing higher nitec cert business and want pursue diploma music either nafa laselle but not have any music background and only play and listen ear have never attended music theory lessons though kinda get what and have only played euphonium primary school would like ask would you reccommend try out and what advice would you give when going for the auditions and possible any yall are were the schools what actually learn and how much reccommend kid with background knowledge graded experience join this diploma cheers ```\n",
            "    \n"
          ]
        },
        {
          "name": "stderr",
          "output_type": "stream",
          "text": [
            " 65%|██████▍   | 24/37 [00:11<00:05,  2.42it/s]"
          ]
        },
        {
          "name": "stdout",
          "output_type": "stream",
          "text": [
            "\n",
            "    Your task is to analyse and report the overall sentiment     of only one out of the following sentiments:     [Postive, Negative, Neutral].     On the text delimited by triple backticks\n",
            "\n",
            "    Text to analyse: ```funnily enough sex education was banned congress ncp maharashtra too one could almost call them medieval right wing nuts```\n",
            "    \n"
          ]
        },
        {
          "name": "stderr",
          "output_type": "stream",
          "text": [
            " 68%|██████▊   | 25/37 [00:11<00:05,  2.36it/s]"
          ]
        },
        {
          "name": "stdout",
          "output_type": "stream",
          "text": [
            "\n",
            "    Your task is to analyse and report the overall sentiment     of only one out of the following sentiments:     [Postive, Negative, Neutral].     On the text delimited by triple backticks\n",
            "\n",
            "    Text to analyse: ```the real reason rjd don want support him that might become the leader lalu wants his son tejaswini become ```\n",
            "    \n"
          ]
        },
        {
          "name": "stderr",
          "output_type": "stream",
          "text": [
            " 70%|███████   | 26/37 [00:12<00:05,  1.95it/s]"
          ]
        },
        {
          "name": "stdout",
          "output_type": "stream",
          "text": [
            "\n",
            "    Your task is to analyse and report the overall sentiment     of only one out of the following sentiments:     [Postive, Negative, Neutral].     On the text delimited by triple backticks\n",
            "\n",
            "    Text to analyse: ``` power cuts since 2014 upi less paperwork these are the three most prominent changes since 2014 ```\n",
            "    \n"
          ]
        },
        {
          "name": "stderr",
          "output_type": "stream",
          "text": [
            " 73%|███████▎  | 27/37 [00:13<00:05,  1.93it/s]"
          ]
        },
        {
          "name": "stdout",
          "output_type": "stream",
          "text": [
            "\n",
            "    Your task is to analyse and report the overall sentiment     of only one out of the following sentiments:     [Postive, Negative, Neutral].     On the text delimited by triple backticks\n",
            "\n",
            "    Text to analyse: ```very accurate and superb thanks for this ```\n",
            "    \n"
          ]
        },
        {
          "name": "stderr",
          "output_type": "stream",
          "text": [
            " 76%|███████▌  | 28/37 [00:13<00:04,  2.12it/s]"
          ]
        },
        {
          "name": "stdout",
          "output_type": "stream",
          "text": [
            "must be real number, not NoneType\n",
            "GPT crashed\n",
            "\n",
            "    Your task is to analyse and report the overall sentiment     of only one out of the following sentiments:     [Postive, Negative, Neutral].     On the text delimited by triple backticks\n",
            "\n",
            "    Text to analyse: ``` this point even with the risk sounding like shill definitely say that doing our nation great disservice don give modi second term ```\n",
            "    \n"
          ]
        },
        {
          "name": "stderr",
          "output_type": "stream",
          "text": [
            " 78%|███████▊  | 29/37 [00:14<00:04,  1.78it/s]"
          ]
        },
        {
          "name": "stdout",
          "output_type": "stream",
          "text": [
            "\n",
            "    Your task is to analyse and report the overall sentiment     of only one out of the following sentiments:     [Postive, Negative, Neutral].     On the text delimited by triple backticks\n",
            "\n",
            "    Text to analyse: ```sagna should interesting ```\n",
            "    \n"
          ]
        },
        {
          "name": "stderr",
          "output_type": "stream",
          "text": [
            " 81%|████████  | 30/37 [00:15<00:04,  1.61it/s]"
          ]
        },
        {
          "name": "stdout",
          "output_type": "stream",
          "text": [
            "\n",
            "    Your task is to analyse and report the overall sentiment     of only one out of the following sentiments:     [Postive, Negative, Neutral].     On the text delimited by triple backticks\n",
            "\n",
            "    Text to analyse: ```put modi jail for taking selfie please the man indias most popular leader years this will not help anyone ```\n",
            "    \n"
          ]
        },
        {
          "name": "stderr",
          "output_type": "stream",
          "text": [
            " 84%|████████▍ | 31/37 [00:15<00:03,  1.84it/s]"
          ]
        },
        {
          "name": "stdout",
          "output_type": "stream",
          "text": [
            "\n",
            "    Your task is to analyse and report the overall sentiment     of only one out of the following sentiments:     [Postive, Negative, Neutral].     On the text delimited by triple backticks\n",
            "\n",
            "    Text to analyse: ```yogi wasn even name people knew commonly before 2014 you never know who springs the coming years and have yet see the results yogi work till then insult even compare modi gujarat lol ```\n",
            "    \n"
          ]
        },
        {
          "name": "stderr",
          "output_type": "stream",
          "text": [
            " 86%|████████▋ | 32/37 [00:15<00:02,  2.03it/s]"
          ]
        },
        {
          "name": "stdout",
          "output_type": "stream",
          "text": [
            "\n",
            "    Your task is to analyse and report the overall sentiment     of only one out of the following sentiments:     [Postive, Negative, Neutral].     On the text delimited by triple backticks\n",
            "\n",
            "    Text to analyse: ``` this wisdom podcast chokyi nyima rinpoche talks about his past life memories the greater context dharma practice very inspiring mae chee kaew biography pdf also has inspiring retelling her experiences recalling past lives she became arahant the mid 1900s \\ important keep this topic within the greater context practicing the dharma and not view isolation something mystical metta ```\n",
            "    \n"
          ]
        },
        {
          "name": "stderr",
          "output_type": "stream",
          "text": [
            " 89%|████████▉ | 33/37 [00:16<00:02,  1.72it/s]"
          ]
        },
        {
          "name": "stdout",
          "output_type": "stream",
          "text": [
            "\n",
            "    Your task is to analyse and report the overall sentiment     of only one out of the following sentiments:     [Postive, Negative, Neutral].     On the text delimited by triple backticks\n",
            "\n",
            "    Text to analyse: ```this will also hit the sector which has been evading income tax till now hardest the farming sector that one sector which virtually evades all tax talking about the land lords not common farmer most the transaction cash now there way out but deposit money they had virtually nil contribution income tax locked their own maze now they are awesome ```\n",
            "    \n"
          ]
        },
        {
          "name": "stderr",
          "output_type": "stream",
          "text": [
            " 92%|█████████▏| 34/37 [00:17<00:01,  1.85it/s]"
          ]
        },
        {
          "name": "stdout",
          "output_type": "stream",
          "text": [
            "\n",
            "    Your task is to analyse and report the overall sentiment     of only one out of the following sentiments:     [Postive, Negative, Neutral].     On the text delimited by triple backticks\n",
            "\n",
            "    Text to analyse: ``` ‘apni dosti bani rahe bas ’ happy you came here happy and thankful you can’ this interview … aapke ideas hain aap bolte rahiye aap karte rahiye…dekho mein dostana sambhand banana chahta hoon ’```\n",
            "    \n"
          ]
        },
        {
          "name": "stderr",
          "output_type": "stream",
          "text": [
            " 95%|█████████▍| 35/37 [00:17<00:00,  2.00it/s]"
          ]
        },
        {
          "name": "stdout",
          "output_type": "stream",
          "text": [
            "\n",
            "    Your task is to analyse and report the overall sentiment     of only one out of the following sentiments:     [Postive, Negative, Neutral].     On the text delimited by triple backticks\n",
            "\n",
            "    Text to analyse: ```how many cbi raids can anticipate now the next hours ```\n",
            "    \n"
          ]
        },
        {
          "name": "stderr",
          "output_type": "stream",
          "text": [
            " 97%|█████████▋| 36/37 [00:17<00:00,  2.08it/s]"
          ]
        },
        {
          "name": "stdout",
          "output_type": "stream",
          "text": [
            "\n",
            "    Your task is to analyse and report the overall sentiment     of only one out of the following sentiments:     [Postive, Negative, Neutral].     On the text delimited by triple backticks\n",
            "\n",
            "    Text to analyse: ``` agar this what qualifies one become nationalist then better off being anti national ```\n",
            "    \n"
          ]
        },
        {
          "name": "stderr",
          "output_type": "stream",
          "text": [
            "100%|██████████| 37/37 [00:18<00:00,  2.01it/s]\n",
            "c:\\Users\\Dell\\anaconda3\\envs\\LLM\\Lib\\site-packages\\sklearn\\metrics\\_classification.py:1517: UndefinedMetricWarning: Precision is ill-defined and being set to 0.0 in labels with no predicted samples. Use `zero_division` parameter to control this behavior.\n",
            "  _warn_prf(average, modifier, f\"{metric.capitalize()} is\", len(result))\n"
          ]
        },
        {
          "data": {
            "image/png": "[encoded data removed]",
            "text/plain": [
              "<Figure size 1000x700 with 2 Axes>"
            ]
          },
          "metadata": {},
          "output_type": "display_data"
        },
        {
          "name": "stderr",
          "output_type": "stream",
          "text": [
            "c:\\Users\\Dell\\anaconda3\\envs\\LLM\\Lib\\site-packages\\sklearn\\metrics\\_classification.py:1517: UndefinedMetricWarning: Precision is ill-defined and being set to 0.0 in labels with no predicted samples. Use `zero_division` parameter to control this behavior.\n",
            "  _warn_prf(average, modifier, f\"{metric.capitalize()} is\", len(result))\n",
            "c:\\Users\\Dell\\anaconda3\\envs\\LLM\\Lib\\site-packages\\sklearn\\metrics\\_classification.py:1517: UndefinedMetricWarning: Precision is ill-defined and being set to 0.0 in labels with no predicted samples. Use `zero_division` parameter to control this behavior.\n",
            "  _warn_prf(average, modifier, f\"{metric.capitalize()} is\", len(result))\n",
            "c:\\Users\\Dell\\anaconda3\\envs\\LLM\\Lib\\site-packages\\sklearn\\metrics\\_classification.py:1517: UndefinedMetricWarning: Precision is ill-defined and being set to 0.0 in labels with no predicted samples. Use `zero_division` parameter to control this behavior.\n",
            "  _warn_prf(average, modifier, f\"{metric.capitalize()} is\", len(result))\n"
          ]
        },
        {
          "name": "stdout",
          "output_type": "stream",
          "text": [
            "\n",
            "Detailed Classification Report for prompt_v2:\n",
            "              precision    recall  f1-score   support\n",
            "\n",
            "    Positive       0.00      0.00      0.00        15\n",
            "     Neutral       0.67      0.40      0.50        10\n",
            "    Negative       0.19      0.60      0.29         5\n",
            "\n",
            "   micro avg       0.32      0.23      0.27        30\n",
            "   macro avg       0.28      0.33      0.26        30\n",
            "weighted avg       0.25      0.23      0.21        30\n",
            "\n",
            "mlflow ended for prompt_v2\n",
            "prompt_v3\n"
          ]
        },
        {
          "name": "stderr",
          "output_type": "stream",
          "text": [
            "  0%|          | 0/37 [00:00<?, ?it/s]"
          ]
        },
        {
          "name": "stdout",
          "output_type": "stream",
          "text": [
            "\n",
            "    Perform the following actions on the given text delimited by     triple backticks:\n",
            "    - analyse and report the sentiment in strictly a single word     out of [Postive, Negative, Neutral].\n",
            "\n",
            "    Text to analyse: ``` ashok khemka must munching popcorn sitting some dimly lit office some xyz department and must trying hard act surprised everybody who has worked govt sector knows this think police bullied only big netas docs are harassed even small party workers village ```\n",
            "    \n"
          ]
        },
        {
          "name": "stderr",
          "output_type": "stream",
          "text": [
            "  3%|▎         | 1/37 [00:00<00:16,  2.21it/s]"
          ]
        },
        {
          "name": "stdout",
          "output_type": "stream",
          "text": [
            "\n",
            "    Perform the following actions on the given text delimited by     triple backticks:\n",
            "    - analyse and report the sentiment in strictly a single word     out of [Postive, Negative, Neutral].\n",
            "\n",
            "    Text to analyse: ``` comment this answer you didn need include the unimportant story the answer unscientific the question needs only scientific answer you can just search anything google and post quora misleading people read this story and believe because course fake unscientific try not write such answers try avoid such content your answers that wouldn mislead the readers hear richard dawkins and george carlin sam harris reply sorry for your ignorance bless you ```\n",
            "    \n"
          ]
        },
        {
          "name": "stderr",
          "output_type": "stream",
          "text": [
            "  5%|▌         | 2/37 [00:01<00:21,  1.64it/s]"
          ]
        },
        {
          "name": "stdout",
          "output_type": "stream",
          "text": [
            "\n",
            "    Perform the following actions on the given text delimited by     triple backticks:\n",
            "    - analyse and report the sentiment in strictly a single word     out of [Postive, Negative, Neutral].\n",
            "\n",
            "    Text to analyse: ```from article trump brought india aid during rambling press appearance cabinet meeting defended his push for the united states invest less overseas while stating that got along with modi trump said the indian leader was constantly telling built library afghanistan you know what that that like five hours what spend trump said and supposed say thank you for the library don know who using afghanistan trump said ```\n",
            "    \n"
          ]
        },
        {
          "name": "stderr",
          "output_type": "stream",
          "text": [
            "  8%|▊         | 3/37 [00:01<00:19,  1.79it/s]"
          ]
        },
        {
          "name": "stdout",
          "output_type": "stream",
          "text": [
            "\n",
            "    Perform the following actions on the given text delimited by     triple backticks:\n",
            "    - analyse and report the sentiment in strictly a single word     out of [Postive, Negative, Neutral].\n",
            "\n",
            "    Text to analyse: ``` get how world leaders are outraged him donald trump has very clear pattern nice him and say nice things and will what you want him the most pathetic tells why finland mexico don say president trump think you have the biggest and boldest hands idk they get anything they want ```\n",
            "    \n"
          ]
        },
        {
          "name": "stderr",
          "output_type": "stream",
          "text": [
            " 11%|█         | 4/37 [00:02<00:17,  1.94it/s]"
          ]
        },
        {
          "name": "stdout",
          "output_type": "stream",
          "text": [
            "\n",
            "    Perform the following actions on the given text delimited by     triple backticks:\n",
            "    - analyse and report the sentiment in strictly a single word     out of [Postive, Negative, Neutral].\n",
            "\n",
            "    Text to analyse: ``` big carotene net for computers construction your mother knows not you obama has bought extra lot cocaine daughter was all your get one time was all warily were too ductility all friday yeah you want buy liters one moment yeah realized that all coins yeah spent much ```\n",
            "    \n"
          ]
        },
        {
          "name": "stderr",
          "output_type": "stream",
          "text": [
            " 14%|█▎        | 5/37 [00:02<00:15,  2.06it/s]"
          ]
        },
        {
          "name": "stdout",
          "output_type": "stream",
          "text": [
            "\n",
            "    Perform the following actions on the given text delimited by     triple backticks:\n",
            "    - analyse and report the sentiment in strictly a single word     out of [Postive, Negative, Neutral].\n",
            "\n",
            "    Text to analyse: ```this guy beyond joke now what utter idiot ```\n",
            "    \n"
          ]
        },
        {
          "name": "stderr",
          "output_type": "stream",
          "text": [
            " 16%|█▌        | 6/37 [00:02<00:13,  2.23it/s]"
          ]
        },
        {
          "name": "stdout",
          "output_type": "stream",
          "text": [
            "\n",
            "    Perform the following actions on the given text delimited by     triple backticks:\n",
            "    - analyse and report the sentiment in strictly a single word     out of [Postive, Negative, Neutral].\n",
            "\n",
            "    Text to analyse: ```’ hate rain your parade all but ’ sick your neomccarthyist hysteria jpg```\n",
            "    \n"
          ]
        },
        {
          "name": "stderr",
          "output_type": "stream",
          "text": [
            " 19%|█▉        | 7/37 [00:03<00:12,  2.34it/s]"
          ]
        },
        {
          "name": "stdout",
          "output_type": "stream",
          "text": [
            "\n",
            "    Perform the following actions on the given text delimited by     triple backticks:\n",
            "    - analyse and report the sentiment in strictly a single word     out of [Postive, Negative, Neutral].\n",
            "\n",
            "    Text to analyse: ```wtf happening our country ```\n",
            "    \n"
          ]
        },
        {
          "name": "stderr",
          "output_type": "stream",
          "text": [
            " 22%|██▏       | 8/37 [00:03<00:12,  2.31it/s]"
          ]
        },
        {
          "name": "stdout",
          "output_type": "stream",
          "text": [
            "\n",
            "    Perform the following actions on the given text delimited by     triple backticks:\n",
            "    - analyse and report the sentiment in strictly a single word     out of [Postive, Negative, Neutral].\n",
            "\n",
            "    Text to analyse: ``` impersonating accents now racist there gonna lot comedians and actors out work ```\n",
            "    \n"
          ]
        },
        {
          "name": "stderr",
          "output_type": "stream",
          "text": [
            " 24%|██▍       | 9/37 [00:04<00:15,  1.78it/s]"
          ]
        },
        {
          "name": "stdout",
          "output_type": "stream",
          "text": [
            "\n",
            "    Perform the following actions on the given text delimited by     triple backticks:\n",
            "    - analyse and report the sentiment in strictly a single word     out of [Postive, Negative, Neutral].\n",
            "\n",
            "    Text to analyse: ```vote out bjp 2019```\n",
            "    \n"
          ]
        },
        {
          "name": "stderr",
          "output_type": "stream",
          "text": [
            " 27%|██▋       | 10/37 [00:05<00:16,  1.66it/s]"
          ]
        },
        {
          "name": "stdout",
          "output_type": "stream",
          "text": [
            "\n",
            "    Perform the following actions on the given text delimited by     triple backticks:\n",
            "    - analyse and report the sentiment in strictly a single word     out of [Postive, Negative, Neutral].\n",
            "\n",
            "    Text to analyse: ``` needful also suffer from laka laki nooki nooki ```\n",
            "    \n"
          ]
        },
        {
          "name": "stderr",
          "output_type": "stream",
          "text": [
            " 30%|██▉       | 11/37 [00:05<00:14,  1.80it/s]"
          ]
        },
        {
          "name": "stdout",
          "output_type": "stream",
          "text": [
            "\n",
            "    Perform the following actions on the given text delimited by     triple backticks:\n",
            "    - analyse and report the sentiment in strictly a single word     out of [Postive, Negative, Neutral].\n",
            "\n",
            "    Text to analyse: ```can tag users for asking their consent about tagging them ```\n",
            "    \n"
          ]
        },
        {
          "name": "stderr",
          "output_type": "stream",
          "text": [
            " 32%|███▏      | 12/37 [00:06<00:13,  1.87it/s]"
          ]
        },
        {
          "name": "stdout",
          "output_type": "stream",
          "text": [
            "\n",
            "    Perform the following actions on the given text delimited by     triple backticks:\n",
            "    - analyse and report the sentiment in strictly a single word     out of [Postive, Negative, Neutral].\n",
            "\n",
            "    Text to analyse: ```yogi raj british raj modi raj congress raj mulayam raj mayawati raj kabhi benchod sarkar bhi dedo wallo madharchod ```\n",
            "    \n"
          ]
        },
        {
          "name": "stderr",
          "output_type": "stream",
          "text": [
            " 35%|███▌      | 13/37 [00:06<00:12,  1.92it/s]"
          ]
        },
        {
          "name": "stdout",
          "output_type": "stream",
          "text": [
            "\n",
            "    Perform the following actions on the given text delimited by     triple backticks:\n",
            "    - analyse and report the sentiment in strictly a single word     out of [Postive, Negative, Neutral].\n",
            "\n",
            "    Text to analyse: ```nan```\n",
            "    \n"
          ]
        },
        {
          "name": "stderr",
          "output_type": "stream",
          "text": [
            " 38%|███▊      | 14/37 [00:07<00:11,  2.01it/s]"
          ]
        },
        {
          "name": "stdout",
          "output_type": "stream",
          "text": [
            "\n",
            "    Perform the following actions on the given text delimited by     triple backticks:\n",
            "    - analyse and report the sentiment in strictly a single word     out of [Postive, Negative, Neutral].\n",
            "\n",
            "    Text to analyse: ```sexit ```\n",
            "    \n"
          ]
        },
        {
          "name": "stderr",
          "output_type": "stream",
          "text": [
            " 41%|████      | 15/37 [00:07<00:10,  2.20it/s]"
          ]
        },
        {
          "name": "stdout",
          "output_type": "stream",
          "text": [
            "\n",
            "    Perform the following actions on the given text delimited by     triple backticks:\n",
            "    - analyse and report the sentiment in strictly a single word     out of [Postive, Negative, Neutral].\n",
            "\n",
            "    Text to analyse: ```ravish bhaiyya pranaam ```\n",
            "    \n"
          ]
        },
        {
          "name": "stderr",
          "output_type": "stream",
          "text": [
            " 43%|████▎     | 16/37 [00:08<00:10,  2.09it/s]"
          ]
        },
        {
          "name": "stdout",
          "output_type": "stream",
          "text": [
            "\n",
            "    Perform the following actions on the given text delimited by     triple backticks:\n",
            "    - analyse and report the sentiment in strictly a single word     out of [Postive, Negative, Neutral].\n",
            "\n",
            "    Text to analyse: ``` these coalition governments made regional parties will just use power indulge corruption scale that will make upa2 seem like ram rajya doesn already feel ```\n",
            "    \n"
          ]
        },
        {
          "name": "stderr",
          "output_type": "stream",
          "text": [
            " 46%|████▌     | 17/37 [00:08<00:09,  2.22it/s]"
          ]
        },
        {
          "name": "stdout",
          "output_type": "stream",
          "text": [
            "\n",
            "    Perform the following actions on the given text delimited by     triple backticks:\n",
            "    - analyse and report the sentiment in strictly a single word     out of [Postive, Negative, Neutral].\n",
            "\n",
            "    Text to analyse: ```the winner declared when them arrive 100m```\n",
            "    \n"
          ]
        },
        {
          "name": "stderr",
          "output_type": "stream",
          "text": [
            " 49%|████▊     | 18/37 [00:08<00:08,  2.22it/s]"
          ]
        },
        {
          "name": "stdout",
          "output_type": "stream",
          "text": [
            "\n",
            "    Perform the following actions on the given text delimited by     triple backticks:\n",
            "    - analyse and report the sentiment in strictly a single word     out of [Postive, Negative, Neutral].\n",
            "\n",
            "    Text to analyse: ```dud could not even read from his phone should booked for sedition\n",
            "```\n",
            "    \n"
          ]
        },
        {
          "name": "stderr",
          "output_type": "stream",
          "text": [
            " 51%|█████▏    | 19/37 [00:09<00:07,  2.37it/s]"
          ]
        },
        {
          "name": "stdout",
          "output_type": "stream",
          "text": [
            "\n",
            "    Perform the following actions on the given text delimited by     triple backticks:\n",
            "    - analyse and report the sentiment in strictly a single word     out of [Postive, Negative, Neutral].\n",
            "\n",
            "    Text to analyse: ```holding ass ```\n",
            "    \n"
          ]
        },
        {
          "name": "stderr",
          "output_type": "stream",
          "text": [
            " 54%|█████▍    | 20/37 [00:09<00:07,  2.34it/s]"
          ]
        },
        {
          "name": "stdout",
          "output_type": "stream",
          "text": [
            "\n",
            "    Perform the following actions on the given text delimited by     triple backticks:\n",
            "    - analyse and report the sentiment in strictly a single word     out of [Postive, Negative, Neutral].\n",
            "\n",
            "    Text to analyse: ```thank you ```\n",
            "    \n"
          ]
        },
        {
          "name": "stderr",
          "output_type": "stream",
          "text": [
            " 57%|█████▋    | 21/37 [00:10<00:06,  2.48it/s]"
          ]
        },
        {
          "name": "stdout",
          "output_type": "stream",
          "text": [
            "must be real number, not NoneType\n",
            "GPT crashed\n",
            "\n",
            "    Perform the following actions on the given text delimited by     triple backticks:\n",
            "    - analyse and report the sentiment in strictly a single word     out of [Postive, Negative, Neutral].\n",
            "\n",
            "    Text to analyse: ``` has ended but wait there see you next time does that mean sequel confirmed ```\n",
            "    \n"
          ]
        },
        {
          "name": "stderr",
          "output_type": "stream",
          "text": [
            " 59%|█████▉    | 22/37 [00:10<00:06,  2.38it/s]"
          ]
        },
        {
          "name": "stdout",
          "output_type": "stream",
          "text": [
            "\n",
            "    Perform the following actions on the given text delimited by     triple backticks:\n",
            "    - analyse and report the sentiment in strictly a single word     out of [Postive, Negative, Neutral].\n",
            "\n",
            "    Text to analyse: ```dammit good and got good speechwriters let see the potential headlines tomorrow vhp miffed modi atheist people angry that modi offended their religion congress says trick modi modi still communal neighbour plant died modi responsible the last one may not true ```\n",
            "    \n"
          ]
        },
        {
          "name": "stderr",
          "output_type": "stream",
          "text": [
            " 62%|██████▏   | 23/37 [00:10<00:05,  2.47it/s]"
          ]
        },
        {
          "name": "stdout",
          "output_type": "stream",
          "text": [
            "\n",
            "    Perform the following actions on the given text delimited by     triple backticks:\n",
            "    - analyse and report the sentiment in strictly a single word     out of [Postive, Negative, Neutral].\n",
            "\n",
            "    Text to analyse: ``` all aspiring music producer who mainly does hip hop and pop records currently completing higher nitec cert business and want pursue diploma music either nafa laselle but not have any music background and only play and listen ear have never attended music theory lessons though kinda get what and have only played euphonium primary school would like ask would you reccommend try out and what advice would you give when going for the auditions and possible any yall are were the schools what actually learn and how much reccommend kid with background knowledge graded experience join this diploma cheers ```\n",
            "    \n"
          ]
        },
        {
          "name": "stderr",
          "output_type": "stream",
          "text": [
            " 65%|██████▍   | 24/37 [00:11<00:05,  2.56it/s]"
          ]
        },
        {
          "name": "stdout",
          "output_type": "stream",
          "text": [
            "\n",
            "    Perform the following actions on the given text delimited by     triple backticks:\n",
            "    - analyse and report the sentiment in strictly a single word     out of [Postive, Negative, Neutral].\n",
            "\n",
            "    Text to analyse: ```funnily enough sex education was banned congress ncp maharashtra too one could almost call them medieval right wing nuts```\n",
            "    \n"
          ]
        },
        {
          "name": "stderr",
          "output_type": "stream",
          "text": [
            " 68%|██████▊   | 25/37 [00:11<00:04,  2.42it/s]"
          ]
        },
        {
          "name": "stdout",
          "output_type": "stream",
          "text": [
            "\n",
            "    Perform the following actions on the given text delimited by     triple backticks:\n",
            "    - analyse and report the sentiment in strictly a single word     out of [Postive, Negative, Neutral].\n",
            "\n",
            "    Text to analyse: ```the real reason rjd don want support him that might become the leader lalu wants his son tejaswini become ```\n",
            "    \n"
          ]
        },
        {
          "name": "stderr",
          "output_type": "stream",
          "text": [
            " 70%|███████   | 26/37 [00:12<00:04,  2.32it/s]"
          ]
        },
        {
          "name": "stdout",
          "output_type": "stream",
          "text": [
            "\n",
            "    Perform the following actions on the given text delimited by     triple backticks:\n",
            "    - analyse and report the sentiment in strictly a single word     out of [Postive, Negative, Neutral].\n",
            "\n",
            "    Text to analyse: ``` power cuts since 2014 upi less paperwork these are the three most prominent changes since 2014 ```\n",
            "    \n"
          ]
        },
        {
          "name": "stderr",
          "output_type": "stream",
          "text": [
            " 73%|███████▎  | 27/37 [00:12<00:04,  2.25it/s]"
          ]
        },
        {
          "name": "stdout",
          "output_type": "stream",
          "text": [
            "\n",
            "    Perform the following actions on the given text delimited by     triple backticks:\n",
            "    - analyse and report the sentiment in strictly a single word     out of [Postive, Negative, Neutral].\n",
            "\n",
            "    Text to analyse: ```very accurate and superb thanks for this ```\n",
            "    \n"
          ]
        },
        {
          "name": "stderr",
          "output_type": "stream",
          "text": [
            " 76%|███████▌  | 28/37 [00:13<00:04,  2.19it/s]"
          ]
        },
        {
          "name": "stdout",
          "output_type": "stream",
          "text": [
            "\n",
            "    Perform the following actions on the given text delimited by     triple backticks:\n",
            "    - analyse and report the sentiment in strictly a single word     out of [Postive, Negative, Neutral].\n",
            "\n",
            "    Text to analyse: ``` this point even with the risk sounding like shill definitely say that doing our nation great disservice don give modi second term ```\n",
            "    \n"
          ]
        },
        {
          "name": "stderr",
          "output_type": "stream",
          "text": [
            " 78%|███████▊  | 29/37 [00:13<00:03,  2.17it/s]"
          ]
        },
        {
          "name": "stdout",
          "output_type": "stream",
          "text": [
            "\n",
            "    Perform the following actions on the given text delimited by     triple backticks:\n",
            "    - analyse and report the sentiment in strictly a single word     out of [Postive, Negative, Neutral].\n",
            "\n",
            "    Text to analyse: ```sagna should interesting ```\n",
            "    \n"
          ]
        },
        {
          "name": "stderr",
          "output_type": "stream",
          "text": [
            " 81%|████████  | 30/37 [00:14<00:03,  2.14it/s]"
          ]
        },
        {
          "name": "stdout",
          "output_type": "stream",
          "text": [
            "\n",
            "    Perform the following actions on the given text delimited by     triple backticks:\n",
            "    - analyse and report the sentiment in strictly a single word     out of [Postive, Negative, Neutral].\n",
            "\n",
            "    Text to analyse: ```put modi jail for taking selfie please the man indias most popular leader years this will not help anyone ```\n",
            "    \n"
          ]
        },
        {
          "name": "stderr",
          "output_type": "stream",
          "text": [
            " 84%|████████▍ | 31/37 [00:14<00:02,  2.18it/s]"
          ]
        },
        {
          "name": "stdout",
          "output_type": "stream",
          "text": [
            "\n",
            "    Perform the following actions on the given text delimited by     triple backticks:\n",
            "    - analyse and report the sentiment in strictly a single word     out of [Postive, Negative, Neutral].\n",
            "\n",
            "    Text to analyse: ```yogi wasn even name people knew commonly before 2014 you never know who springs the coming years and have yet see the results yogi work till then insult even compare modi gujarat lol ```\n",
            "    \n"
          ]
        },
        {
          "name": "stderr",
          "output_type": "stream",
          "text": [
            " 86%|████████▋ | 32/37 [00:14<00:02,  2.20it/s]"
          ]
        },
        {
          "name": "stdout",
          "output_type": "stream",
          "text": [
            "\n",
            "    Perform the following actions on the given text delimited by     triple backticks:\n",
            "    - analyse and report the sentiment in strictly a single word     out of [Postive, Negative, Neutral].\n",
            "\n",
            "    Text to analyse: ``` this wisdom podcast chokyi nyima rinpoche talks about his past life memories the greater context dharma practice very inspiring mae chee kaew biography pdf also has inspiring retelling her experiences recalling past lives she became arahant the mid 1900s \\ important keep this topic within the greater context practicing the dharma and not view isolation something mystical metta ```\n",
            "    \n"
          ]
        },
        {
          "name": "stderr",
          "output_type": "stream",
          "text": [
            " 89%|████████▉ | 33/37 [00:15<00:01,  2.18it/s]"
          ]
        },
        {
          "name": "stdout",
          "output_type": "stream",
          "text": [
            "\n",
            "    Perform the following actions on the given text delimited by     triple backticks:\n",
            "    - analyse and report the sentiment in strictly a single word     out of [Postive, Negative, Neutral].\n",
            "\n",
            "    Text to analyse: ```this will also hit the sector which has been evading income tax till now hardest the farming sector that one sector which virtually evades all tax talking about the land lords not common farmer most the transaction cash now there way out but deposit money they had virtually nil contribution income tax locked their own maze now they are awesome ```\n",
            "    \n"
          ]
        },
        {
          "name": "stderr",
          "output_type": "stream",
          "text": [
            " 92%|█████████▏| 34/37 [00:15<00:01,  2.16it/s]"
          ]
        },
        {
          "name": "stdout",
          "output_type": "stream",
          "text": [
            "\n",
            "    Perform the following actions on the given text delimited by     triple backticks:\n",
            "    - analyse and report the sentiment in strictly a single word     out of [Postive, Negative, Neutral].\n",
            "\n",
            "    Text to analyse: ``` ‘apni dosti bani rahe bas ’ happy you came here happy and thankful you can’ this interview … aapke ideas hain aap bolte rahiye aap karte rahiye…dekho mein dostana sambhand banana chahta hoon ’```\n",
            "    \n"
          ]
        },
        {
          "name": "stderr",
          "output_type": "stream",
          "text": [
            " 95%|█████████▍| 35/37 [00:16<00:00,  2.12it/s]"
          ]
        },
        {
          "name": "stdout",
          "output_type": "stream",
          "text": [
            "\n",
            "    Perform the following actions on the given text delimited by     triple backticks:\n",
            "    - analyse and report the sentiment in strictly a single word     out of [Postive, Negative, Neutral].\n",
            "\n",
            "    Text to analyse: ```how many cbi raids can anticipate now the next hours ```\n",
            "    \n"
          ]
        },
        {
          "name": "stderr",
          "output_type": "stream",
          "text": [
            " 97%|█████████▋| 36/37 [00:16<00:00,  2.25it/s]"
          ]
        },
        {
          "name": "stdout",
          "output_type": "stream",
          "text": [
            "\n",
            "    Perform the following actions on the given text delimited by     triple backticks:\n",
            "    - analyse and report the sentiment in strictly a single word     out of [Postive, Negative, Neutral].\n",
            "\n",
            "    Text to analyse: ``` agar this what qualifies one become nationalist then better off being anti national ```\n",
            "    \n"
          ]
        },
        {
          "name": "stderr",
          "output_type": "stream",
          "text": [
            "100%|██████████| 37/37 [00:17<00:00,  2.10it/s]\n"
          ]
        },
        {
          "data": {
            "image/png": "[encoded data removed]",
            "text/plain": [
              "<Figure size 1000x700 with 2 Axes>"
            ]
          },
          "metadata": {},
          "output_type": "display_data"
        },
        {
          "name": "stdout",
          "output_type": "stream",
          "text": [
            "\n",
            "Detailed Classification Report for prompt_v3:\n",
            "              precision    recall  f1-score   support\n",
            "\n",
            "    Positive       1.00      0.06      0.12        16\n",
            "     Neutral       0.33      0.25      0.29        12\n",
            "    Negative       0.27      0.88      0.41         8\n",
            "\n",
            "    accuracy                           0.31        36\n",
            "   macro avg       0.53      0.40      0.27        36\n",
            "weighted avg       0.62      0.31      0.24        36\n",
            "\n",
            "mlflow ended for prompt_v3\n"
          ]
        }
      ],
      "source": [
        "# Start logging\n",
        "mlflow.set_experiment(\"LLM & Prompt comparison\")\n",
        "\n",
        "# Get the current timestamp in a readable format\n",
        "timestamp = datetime.now().strftime(\"%Y-%m-%d_%H-%M-%S\")\n",
        "\n",
        "# Define the parent run name with the timestamp\n",
        "parent_run_name = f\"Prompt comparison - {timestamp}\"\n",
        "\n",
        "# Start the main parent run\n",
        "with mlflow.start_run(run_name=parent_run_name) as parent_run:\n",
        "  mlflow.set_tag(\"experiment_name\", \"Prompt Experiment\")\n",
        "  mlflow.set_tag(\"data_source\", \"Reddit data for sentiment analysis\")\n",
        "    \n",
        "  mlflow.log_input(dataset, context=\"inference\")\n",
        "\n",
        "  # Log an artifact (sample file)\n",
        "  artifact_dir = \"artifacts\"\n",
        "  os.makedirs(artifact_dir, exist_ok=True)\n",
        "\n",
        "  # for modelname in model_ls:\n",
        "  for functionname in functions_ls:\n",
        "      # Start a new nested run for each model with a custom name\n",
        "      nested_run_name = f\"Nested Run for {functionname}\"\n",
        "      mlflowname = functionname\n",
        "      print(mlflowname)\n",
        "      with mlflow.start_run(run_name=nested_run_name, nested=True):\n",
        "        mlflow.log_param(\"model\", functionname)\n",
        "\n",
        "        # Log tags for additional metadata\n",
        "        mlflow.set_tag(\"model_type\", functionname)\n",
        "        mlflow.set_tag(\"run_timestamp\", timestamp)\n",
        "\n",
        "        # Use getattr to get the function object\n",
        "        function_to_call = getattr(prompt_ver, functionname)\n",
        "        df_filter = GPT_pred_fn(df_filter , function_to_call, input_col='clean_comment')\n",
        "\n",
        "        # Remove rows containing 'GPT error' in any of the specified columns\n",
        "        columns_to_check = ['prediction', 'probs_Negative', 'probs_Neutral', 'probs_Positive']\n",
        "        df = df_filter[~df_filter[columns_to_check].apply(lambda row: row.astype(str).str.contains('GPT error')).any(axis=1)]\n",
        "\n",
        "        artifact_file = os.path.join(artifact_dir, f'mlflow_output_{mlflowname}_{timestamp}.csv')\n",
        "        df.to_csv(artifact_file)\n",
        "\n",
        "        # Calculate accuracy\n",
        "        labels = ['Positive', 'Neutral', 'Negative']\n",
        "        accuracy = round(accuracy_score(df['label'], df['prediction']),2)\n",
        "        precision = round(precision_score(df['label'], df['prediction'], labels=labels, average='weighted'),2)\n",
        "        recall = round(recall_score(df['label'], df['prediction'], labels=labels, average='weighted'),2)\n",
        "        f1 = round(f1_score(df['label'], df['prediction'], labels=labels, average='weighted'),2)\n",
        "        auc_scores = round(calculate_auc(df, 'label', sorted(['probs_Negative', 'probs_Neutral', 'probs_Positive'])),2)\n",
        "\n",
        "        # Convert confusion matrix to a DataFrame for better visualization\n",
        "        conf_matrix = confusion_matrix(df['label'], df['prediction'], labels=labels)\n",
        "        conf_matrix_df = pd.DataFrame(conf_matrix, index=[f'True {label}' for label in labels],\n",
        "                                      columns=[f'Pred {label}' for label in labels])\n",
        "        \n",
        "        # Plot the confusion matrix\n",
        "        plt.figure(figsize=(10, 7))\n",
        "        sns.heatmap(conf_matrix_df, annot=True, fmt='d', cmap='Blues')\n",
        "        plt.title(f'Confusion Matrix for {functionname}')\n",
        "        plt.xlabel('Predicted')\n",
        "        plt.ylabel('Actual')\n",
        "        plot_path = os.path.join(artifact_dir, f\"example_plot_{mlflowname}_{timestamp}.png\")\n",
        "        plt.savefig(plot_path)\n",
        "        plt.show()\n",
        "\n",
        "        # Generate and display a detailed classification report\n",
        "        print(f\"\\nDetailed Classification Report for {functionname}:\")\n",
        "        class_report = classification_report(df['label'], df['prediction'], labels=labels)\n",
        "        print(class_report)\n",
        "\n",
        "        ################################################## mlflow ##################################################\n",
        "        \n",
        "        mlflow.log_artifact(artifact_file)\n",
        "        mlflow.log_metric(\"accuracy\", accuracy)\n",
        "        mlflow.log_metric(\"precision\", precision)\n",
        "        mlflow.log_metric(\"recall\", recall)\n",
        "        mlflow.log_metric(\"f1\", f1)\n",
        "        mlflow.log_metric(\"auc_scores\", auc_scores)\n",
        "        mlflow.log_artifact(plot_path)\n",
        "        mlflow.log_text(class_report, \"classification_report.txt\")\n",
        "        print(f\"mlflow ended for {mlflowname}\")\n",
        "\n",
        "  # Log environment information as a JSON artifact\n",
        "  env_info = {\n",
        "      \"python_version\": \"3.8.19\",\n",
        "      \"libraries\": {\n",
        "          \"numpy\": np.__version__,\n",
        "          \"pandas\": pd.__version__,\n",
        "      }\n",
        "  }\n",
        "\n",
        "  env_file = os.path.join(artifact_dir, f\"env_info.json\")\n",
        "  with open(env_file, \"w\") as f:\n",
        "      json.dump(env_info, f)\n",
        "  mlflow.log_artifact(env_file)\n",
        "\n",
        "  mlflow.end_run()\n"
      ]
    },
    {
      "cell_type": "code",
      "execution_count": null,
      "metadata": {},
      "outputs": [],
      "source": []
    }
  ],
  "metadata": {
    "accelerator": "GPU",
    "colab": {
      "collapsed_sections": [
        "FLfP_GjmE-c8",
        "Fr-0Tl_UFKYu"
      ],
      "gpuType": "T4",
      "provenance": []
    },
    "kernelspec": {
      "display_name": "Python 3",
      "name": "python3"
    },
    "language_info": {
      "codemirror_mode": {
        "name": "ipython",
        "version": 3
      },
      "file_extension": ".py",
      "mimetype": "text/x-python",
      "name": "python",
      "nbconvert_exporter": "python",
      "pygments_lexer": "ipython3",
      "version": "3.11.9"
    },
    "widgets": {
      "application/vnd.jupyter.widget-state+json": {
        "00dc1aefb434457a808918c3b5e99a91": {
          "model_module": "@jupyter-widgets/controls",
          "model_module_version": "1.5.0",
          "model_name": "DescriptionStyleModel",
          "state": {
            "_model_module": "@jupyter-widgets/controls",
            "_model_module_version": "1.5.0",
            "_model_name": "DescriptionStyleModel",
            "_view_count": null,
            "_view_module": "@jupyter-widgets/base",
            "_view_module_version": "1.2.0",
            "_view_name": "StyleView",
            "description_width": ""
          }
        },
        "018f0f47b19947c28657e6efbe37849c": {
          "model_module": "@jupyter-widgets/controls",
          "model_module_version": "1.5.0",
          "model_name": "HTMLModel",
          "state": {
            "_dom_classes": [],
            "_model_module": "@jupyter-widgets/controls",
            "_model_module_version": "1.5.0",
            "_model_name": "HTMLModel",
            "_view_count": null,
            "_view_module": "@jupyter-widgets/controls",
            "_view_module_version": "1.5.0",
            "_view_name": "HTMLView",
            "description": "",
            "description_tooltip": null,
            "layout": "IPY_MODEL_d480fc94ba8a452d9da6cd5e762c4128",
            "placeholder": "​",
            "style": "IPY_MODEL_87ae0fb2e8694cd9aeb9a6f157f2d9f0",
            "value": "config.json: 100%"
          }
        },
        "07cc11e3130443d98667bfe24a847929": {
          "model_module": "@jupyter-widgets/base",
          "model_module_version": "1.2.0",
          "model_name": "LayoutModel",
          "state": {
            "_model_module": "@jupyter-widgets/base",
            "_model_module_version": "1.2.0",
            "_model_name": "LayoutModel",
            "_view_count": null,
            "_view_module": "@jupyter-widgets/base",
            "_view_module_version": "1.2.0",
            "_view_name": "LayoutView",
            "align_content": null,
            "align_items": null,
            "align_self": null,
            "border": null,
            "bottom": null,
            "display": null,
            "flex": null,
            "flex_flow": null,
            "grid_area": null,
            "grid_auto_columns": null,
            "grid_auto_flow": null,
            "grid_auto_rows": null,
            "grid_column": null,
            "grid_gap": null,
            "grid_row": null,
            "grid_template_areas": null,
            "grid_template_columns": null,
            "grid_template_rows": null,
            "height": null,
            "justify_content": null,
            "justify_items": null,
            "left": null,
            "margin": null,
            "max_height": null,
            "max_width": null,
            "min_height": null,
            "min_width": null,
            "object_fit": null,
            "object_position": null,
            "order": null,
            "overflow": null,
            "overflow_x": null,
            "overflow_y": null,
            "padding": null,
            "right": null,
            "top": null,
            "visibility": null,
            "width": null
          }
        },
        "08152782ec004afa8a2062ff2bb31398": {
          "model_module": "@jupyter-widgets/base",
          "model_module_version": "1.2.0",
          "model_name": "LayoutModel",
          "state": {
            "_model_module": "@jupyter-widgets/base",
            "_model_module_version": "1.2.0",
            "_model_name": "LayoutModel",
            "_view_count": null,
            "_view_module": "@jupyter-widgets/base",
            "_view_module_version": "1.2.0",
            "_view_name": "LayoutView",
            "align_content": null,
            "align_items": null,
            "align_self": null,
            "border": null,
            "bottom": null,
            "display": null,
            "flex": null,
            "flex_flow": null,
            "grid_area": null,
            "grid_auto_columns": null,
            "grid_auto_flow": null,
            "grid_auto_rows": null,
            "grid_column": null,
            "grid_gap": null,
            "grid_row": null,
            "grid_template_areas": null,
            "grid_template_columns": null,
            "grid_template_rows": null,
            "height": null,
            "justify_content": null,
            "justify_items": null,
            "left": null,
            "margin": null,
            "max_height": null,
            "max_width": null,
            "min_height": null,
            "min_width": null,
            "object_fit": null,
            "object_position": null,
            "order": null,
            "overflow": null,
            "overflow_x": null,
            "overflow_y": null,
            "padding": null,
            "right": null,
            "top": null,
            "visibility": null,
            "width": null
          }
        },
        "08eb5cee1ab24ce382a38b8b4d9505ab": {
          "model_module": "@jupyter-widgets/controls",
          "model_module_version": "1.5.0",
          "model_name": "HBoxModel",
          "state": {
            "_dom_classes": [],
            "_model_module": "@jupyter-widgets/controls",
            "_model_module_version": "1.5.0",
            "_model_name": "HBoxModel",
            "_view_count": null,
            "_view_module": "@jupyter-widgets/controls",
            "_view_module_version": "1.5.0",
            "_view_name": "HBoxView",
            "box_style": "",
            "children": [
              "IPY_MODEL_018f0f47b19947c28657e6efbe37849c",
              "IPY_MODEL_37326f9e3d724a0794c72cbc1e235954",
              "IPY_MODEL_241ff487276043879754562f53298282"
            ],
            "layout": "IPY_MODEL_f75ece541e2a4a4da20b61228945f3ab"
          }
        },
        "0ccd8da005804506bb228fede2eaa62e": {
          "model_module": "@jupyter-widgets/controls",
          "model_module_version": "1.5.0",
          "model_name": "ProgressStyleModel",
          "state": {
            "_model_module": "@jupyter-widgets/controls",
            "_model_module_version": "1.5.0",
            "_model_name": "ProgressStyleModel",
            "_view_count": null,
            "_view_module": "@jupyter-widgets/base",
            "_view_module_version": "1.2.0",
            "_view_name": "StyleView",
            "bar_color": null,
            "description_width": ""
          }
        },
        "13ca8bcddf2c453680c4ab3b9a4abf00": {
          "model_module": "@jupyter-widgets/controls",
          "model_module_version": "1.5.0",
          "model_name": "FloatProgressModel",
          "state": {
            "_dom_classes": [],
            "_model_module": "@jupyter-widgets/controls",
            "_model_module_version": "1.5.0",
            "_model_name": "FloatProgressModel",
            "_view_count": null,
            "_view_module": "@jupyter-widgets/controls",
            "_view_module_version": "1.5.0",
            "_view_name": "ProgressView",
            "bar_style": "success",
            "description": "",
            "description_tooltip": null,
            "layout": "IPY_MODEL_ed32dd57009b42189477185bd7741bdd",
            "max": 3132668804,
            "min": 0,
            "orientation": "horizontal",
            "style": "IPY_MODEL_b1d2a527ee3d42abb3c1110f39cd6f63",
            "value": 3132668804
          }
        },
        "142a652f300e49538fc194a492fa5a04": {
          "model_module": "@jupyter-widgets/base",
          "model_module_version": "1.2.0",
          "model_name": "LayoutModel",
          "state": {
            "_model_module": "@jupyter-widgets/base",
            "_model_module_version": "1.2.0",
            "_model_name": "LayoutModel",
            "_view_count": null,
            "_view_module": "@jupyter-widgets/base",
            "_view_module_version": "1.2.0",
            "_view_name": "LayoutView",
            "align_content": null,
            "align_items": null,
            "align_self": null,
            "border": null,
            "bottom": null,
            "display": null,
            "flex": null,
            "flex_flow": null,
            "grid_area": null,
            "grid_auto_columns": null,
            "grid_auto_flow": null,
            "grid_auto_rows": null,
            "grid_column": null,
            "grid_gap": null,
            "grid_row": null,
            "grid_template_areas": null,
            "grid_template_columns": null,
            "grid_template_rows": null,
            "height": null,
            "justify_content": null,
            "justify_items": null,
            "left": null,
            "margin": null,
            "max_height": null,
            "max_width": null,
            "min_height": null,
            "min_width": null,
            "object_fit": null,
            "object_position": null,
            "order": null,
            "overflow": null,
            "overflow_x": null,
            "overflow_y": null,
            "padding": null,
            "right": null,
            "top": null,
            "visibility": null,
            "width": null
          }
        },
        "15711239103f4247ac94b8d20f7d9e20": {
          "model_module": "@jupyter-widgets/base",
          "model_module_version": "1.2.0",
          "model_name": "LayoutModel",
          "state": {
            "_model_module": "@jupyter-widgets/base",
            "_model_module_version": "1.2.0",
            "_model_name": "LayoutModel",
            "_view_count": null,
            "_view_module": "@jupyter-widgets/base",
            "_view_module_version": "1.2.0",
            "_view_name": "LayoutView",
            "align_content": null,
            "align_items": null,
            "align_self": null,
            "border": null,
            "bottom": null,
            "display": null,
            "flex": null,
            "flex_flow": null,
            "grid_area": null,
            "grid_auto_columns": null,
            "grid_auto_flow": null,
            "grid_auto_rows": null,
            "grid_column": null,
            "grid_gap": null,
            "grid_row": null,
            "grid_template_areas": null,
            "grid_template_columns": null,
            "grid_template_rows": null,
            "height": null,
            "justify_content": null,
            "justify_items": null,
            "left": null,
            "margin": null,
            "max_height": null,
            "max_width": null,
            "min_height": null,
            "min_width": null,
            "object_fit": null,
            "object_position": null,
            "order": null,
            "overflow": null,
            "overflow_x": null,
            "overflow_y": null,
            "padding": null,
            "right": null,
            "top": null,
            "visibility": null,
            "width": null
          }
        },
        "1d0009a832e64637b203ebe2430d7135": {
          "model_module": "@jupyter-widgets/base",
          "model_module_version": "1.2.0",
          "model_name": "LayoutModel",
          "state": {
            "_model_module": "@jupyter-widgets/base",
            "_model_module_version": "1.2.0",
            "_model_name": "LayoutModel",
            "_view_count": null,
            "_view_module": "@jupyter-widgets/base",
            "_view_module_version": "1.2.0",
            "_view_name": "LayoutView",
            "align_content": null,
            "align_items": null,
            "align_self": null,
            "border": null,
            "bottom": null,
            "display": null,
            "flex": null,
            "flex_flow": null,
            "grid_area": null,
            "grid_auto_columns": null,
            "grid_auto_flow": null,
            "grid_auto_rows": null,
            "grid_column": null,
            "grid_gap": null,
            "grid_row": null,
            "grid_template_areas": null,
            "grid_template_columns": null,
            "grid_template_rows": null,
            "height": null,
            "justify_content": null,
            "justify_items": null,
            "left": null,
            "margin": null,
            "max_height": null,
            "max_width": null,
            "min_height": null,
            "min_width": null,
            "object_fit": null,
            "object_position": null,
            "order": null,
            "overflow": null,
            "overflow_x": null,
            "overflow_y": null,
            "padding": null,
            "right": null,
            "top": null,
            "visibility": null,
            "width": null
          }
        },
        "220389d105234cc7bff57f97826b72e2": {
          "model_module": "@jupyter-widgets/controls",
          "model_module_version": "1.5.0",
          "model_name": "HTMLModel",
          "state": {
            "_dom_classes": [],
            "_model_module": "@jupyter-widgets/controls",
            "_model_module_version": "1.5.0",
            "_model_name": "HTMLModel",
            "_view_count": null,
            "_view_module": "@jupyter-widgets/controls",
            "_view_module_version": "1.5.0",
            "_view_name": "HTMLView",
            "description": "",
            "description_tooltip": null,
            "layout": "IPY_MODEL_8fbddbd813f94676a14a1f3c61118111",
            "placeholder": "​",
            "style": "IPY_MODEL_00dc1aefb434457a808918c3b5e99a91",
            "value": " 3.13G/3.13G [00:21&lt;00:00, 254MB/s]"
          }
        },
        "241ff487276043879754562f53298282": {
          "model_module": "@jupyter-widgets/controls",
          "model_module_version": "1.5.0",
          "model_name": "HTMLModel",
          "state": {
            "_dom_classes": [],
            "_model_module": "@jupyter-widgets/controls",
            "_model_module_version": "1.5.0",
            "_model_name": "HTMLModel",
            "_view_count": null,
            "_view_module": "@jupyter-widgets/controls",
            "_view_module_version": "1.5.0",
            "_view_name": "HTMLView",
            "description": "",
            "description_tooltip": null,
            "layout": "IPY_MODEL_77950d63ed634245b3d0475094602354",
            "placeholder": "​",
            "style": "IPY_MODEL_65df0a37742c41bba6a3438b01f2543f",
            "value": " 662/662 [00:00&lt;00:00, 12.7kB/s]"
          }
        },
        "2431242f2d6d447dbbf685a24704af9c": {
          "model_module": "@jupyter-widgets/controls",
          "model_module_version": "1.5.0",
          "model_name": "FloatProgressModel",
          "state": {
            "_dom_classes": [],
            "_model_module": "@jupyter-widgets/controls",
            "_model_module_version": "1.5.0",
            "_model_name": "FloatProgressModel",
            "_view_count": null,
            "_view_module": "@jupyter-widgets/controls",
            "_view_module_version": "1.5.0",
            "_view_name": "ProgressView",
            "bar_style": "success",
            "description": "",
            "description_tooltip": null,
            "layout": "IPY_MODEL_d3f37df7d7b24012a6092270c08965a7",
            "max": 147,
            "min": 0,
            "orientation": "horizontal",
            "style": "IPY_MODEL_5d270855a43146c7a099552715c6062d",
            "value": 147
          }
        },
        "269379aff69d4a0e8cbb19f1235898d6": {
          "model_module": "@jupyter-widgets/base",
          "model_module_version": "1.2.0",
          "model_name": "LayoutModel",
          "state": {
            "_model_module": "@jupyter-widgets/base",
            "_model_module_version": "1.2.0",
            "_model_name": "LayoutModel",
            "_view_count": null,
            "_view_module": "@jupyter-widgets/base",
            "_view_module_version": "1.2.0",
            "_view_name": "LayoutView",
            "align_content": null,
            "align_items": null,
            "align_self": null,
            "border": null,
            "bottom": null,
            "display": null,
            "flex": null,
            "flex_flow": null,
            "grid_area": null,
            "grid_auto_columns": null,
            "grid_auto_flow": null,
            "grid_auto_rows": null,
            "grid_column": null,
            "grid_gap": null,
            "grid_row": null,
            "grid_template_areas": null,
            "grid_template_columns": null,
            "grid_template_rows": null,
            "height": null,
            "justify_content": null,
            "justify_items": null,
            "left": null,
            "margin": null,
            "max_height": null,
            "max_width": null,
            "min_height": null,
            "min_width": null,
            "object_fit": null,
            "object_position": null,
            "order": null,
            "overflow": null,
            "overflow_x": null,
            "overflow_y": null,
            "padding": null,
            "right": null,
            "top": null,
            "visibility": null,
            "width": null
          }
        },
        "29503872945b4957913ce143023bd5a8": {
          "model_module": "@jupyter-widgets/base",
          "model_module_version": "1.2.0",
          "model_name": "LayoutModel",
          "state": {
            "_model_module": "@jupyter-widgets/base",
            "_model_module_version": "1.2.0",
            "_model_name": "LayoutModel",
            "_view_count": null,
            "_view_module": "@jupyter-widgets/base",
            "_view_module_version": "1.2.0",
            "_view_name": "LayoutView",
            "align_content": null,
            "align_items": null,
            "align_self": null,
            "border": null,
            "bottom": null,
            "display": null,
            "flex": null,
            "flex_flow": null,
            "grid_area": null,
            "grid_auto_columns": null,
            "grid_auto_flow": null,
            "grid_auto_rows": null,
            "grid_column": null,
            "grid_gap": null,
            "grid_row": null,
            "grid_template_areas": null,
            "grid_template_columns": null,
            "grid_template_rows": null,
            "height": null,
            "justify_content": null,
            "justify_items": null,
            "left": null,
            "margin": null,
            "max_height": null,
            "max_width": null,
            "min_height": null,
            "min_width": null,
            "object_fit": null,
            "object_position": null,
            "order": null,
            "overflow": null,
            "overflow_x": null,
            "overflow_y": null,
            "padding": null,
            "right": null,
            "top": null,
            "visibility": null,
            "width": null
          }
        },
        "31e8a4b74b0f49f18a7e0bacf8709f93": {
          "model_module": "@jupyter-widgets/base",
          "model_module_version": "1.2.0",
          "model_name": "LayoutModel",
          "state": {
            "_model_module": "@jupyter-widgets/base",
            "_model_module_version": "1.2.0",
            "_model_name": "LayoutModel",
            "_view_count": null,
            "_view_module": "@jupyter-widgets/base",
            "_view_module_version": "1.2.0",
            "_view_name": "LayoutView",
            "align_content": null,
            "align_items": null,
            "align_self": null,
            "border": null,
            "bottom": null,
            "display": null,
            "flex": null,
            "flex_flow": null,
            "grid_area": null,
            "grid_auto_columns": null,
            "grid_auto_flow": null,
            "grid_auto_rows": null,
            "grid_column": null,
            "grid_gap": null,
            "grid_row": null,
            "grid_template_areas": null,
            "grid_template_columns": null,
            "grid_template_rows": null,
            "height": null,
            "justify_content": null,
            "justify_items": null,
            "left": null,
            "margin": null,
            "max_height": null,
            "max_width": null,
            "min_height": null,
            "min_width": null,
            "object_fit": null,
            "object_position": null,
            "order": null,
            "overflow": null,
            "overflow_x": null,
            "overflow_y": null,
            "padding": null,
            "right": null,
            "top": null,
            "visibility": null,
            "width": null
          }
        },
        "32f2bb75bfb24c0499e2c7060a755007": {
          "model_module": "@jupyter-widgets/controls",
          "model_module_version": "1.5.0",
          "model_name": "FloatProgressModel",
          "state": {
            "_dom_classes": [],
            "_model_module": "@jupyter-widgets/controls",
            "_model_module_version": "1.5.0",
            "_model_name": "FloatProgressModel",
            "_view_count": null,
            "_view_module": "@jupyter-widgets/controls",
            "_view_module_version": "1.5.0",
            "_view_name": "ProgressView",
            "bar_style": "success",
            "description": "",
            "description_tooltip": null,
            "layout": "IPY_MODEL_37b3e067f75b403998bf44eb38c270e2",
            "max": 2201,
            "min": 0,
            "orientation": "horizontal",
            "style": "IPY_MODEL_f20614938ada4d00ac6d1db9847474a5",
            "value": 2201
          }
        },
        "331ae67da0a5406badad38f0bf345eee": {
          "model_module": "@jupyter-widgets/controls",
          "model_module_version": "1.5.0",
          "model_name": "DescriptionStyleModel",
          "state": {
            "_model_module": "@jupyter-widgets/controls",
            "_model_module_version": "1.5.0",
            "_model_name": "DescriptionStyleModel",
            "_view_count": null,
            "_view_module": "@jupyter-widgets/base",
            "_view_module_version": "1.2.0",
            "_view_name": "StyleView",
            "description_width": ""
          }
        },
        "34d6435c806c4db2a406b7bcc79a9dc7": {
          "model_module": "@jupyter-widgets/controls",
          "model_module_version": "1.5.0",
          "model_name": "HTMLModel",
          "state": {
            "_dom_classes": [],
            "_model_module": "@jupyter-widgets/controls",
            "_model_module_version": "1.5.0",
            "_model_name": "HTMLModel",
            "_view_count": null,
            "_view_module": "@jupyter-widgets/controls",
            "_view_module_version": "1.5.0",
            "_view_name": "HTMLView",
            "description": "",
            "description_tooltip": null,
            "layout": "IPY_MODEL_6fa8b227fb174155956e40f03b015beb",
            "placeholder": "​",
            "style": "IPY_MODEL_331ae67da0a5406badad38f0bf345eee",
            "value": "tokenizer_config.json: 100%"
          }
        },
        "37326f9e3d724a0794c72cbc1e235954": {
          "model_module": "@jupyter-widgets/controls",
          "model_module_version": "1.5.0",
          "model_name": "FloatProgressModel",
          "state": {
            "_dom_classes": [],
            "_model_module": "@jupyter-widgets/controls",
            "_model_module_version": "1.5.0",
            "_model_name": "FloatProgressModel",
            "_view_count": null,
            "_view_module": "@jupyter-widgets/controls",
            "_view_module_version": "1.5.0",
            "_view_name": "ProgressView",
            "bar_style": "success",
            "description": "",
            "description_tooltip": null,
            "layout": "IPY_MODEL_c98588a99a5f4eacb7714c21a4015e0a",
            "max": 662,
            "min": 0,
            "orientation": "horizontal",
            "style": "IPY_MODEL_50e9f1598e1545f0a7b1035f31e08118",
            "value": 662
          }
        },
        "376aed849ebd401795d19ad261b64b3b": {
          "model_module": "@jupyter-widgets/controls",
          "model_module_version": "1.5.0",
          "model_name": "HTMLModel",
          "state": {
            "_dom_classes": [],
            "_model_module": "@jupyter-widgets/controls",
            "_model_module_version": "1.5.0",
            "_model_name": "HTMLModel",
            "_view_count": null,
            "_view_module": "@jupyter-widgets/controls",
            "_view_module_version": "1.5.0",
            "_view_name": "HTMLView",
            "description": "",
            "description_tooltip": null,
            "layout": "IPY_MODEL_de7e8b061e7c49bbbae2b8549c29e59a",
            "placeholder": "​",
            "style": "IPY_MODEL_5c3e8d72645e46828aa5cefb664e6edc",
            "value": "model.safetensors: 100%"
          }
        },
        "37b3e067f75b403998bf44eb38c270e2": {
          "model_module": "@jupyter-widgets/base",
          "model_module_version": "1.2.0",
          "model_name": "LayoutModel",
          "state": {
            "_model_module": "@jupyter-widgets/base",
            "_model_module_version": "1.2.0",
            "_model_name": "LayoutModel",
            "_view_count": null,
            "_view_module": "@jupyter-widgets/base",
            "_view_module_version": "1.2.0",
            "_view_name": "LayoutView",
            "align_content": null,
            "align_items": null,
            "align_self": null,
            "border": null,
            "bottom": null,
            "display": null,
            "flex": null,
            "flex_flow": null,
            "grid_area": null,
            "grid_auto_columns": null,
            "grid_auto_flow": null,
            "grid_auto_rows": null,
            "grid_column": null,
            "grid_gap": null,
            "grid_row": null,
            "grid_template_areas": null,
            "grid_template_columns": null,
            "grid_template_rows": null,
            "height": null,
            "justify_content": null,
            "justify_items": null,
            "left": null,
            "margin": null,
            "max_height": null,
            "max_width": null,
            "min_height": null,
            "min_width": null,
            "object_fit": null,
            "object_position": null,
            "order": null,
            "overflow": null,
            "overflow_x": null,
            "overflow_y": null,
            "padding": null,
            "right": null,
            "top": null,
            "visibility": null,
            "width": null
          }
        },
        "38671f60341b4ec0af5de71a4ac0f8d7": {
          "model_module": "@jupyter-widgets/base",
          "model_module_version": "1.2.0",
          "model_name": "LayoutModel",
          "state": {
            "_model_module": "@jupyter-widgets/base",
            "_model_module_version": "1.2.0",
            "_model_name": "LayoutModel",
            "_view_count": null,
            "_view_module": "@jupyter-widgets/base",
            "_view_module_version": "1.2.0",
            "_view_name": "LayoutView",
            "align_content": null,
            "align_items": null,
            "align_self": null,
            "border": null,
            "bottom": null,
            "display": null,
            "flex": null,
            "flex_flow": null,
            "grid_area": null,
            "grid_auto_columns": null,
            "grid_auto_flow": null,
            "grid_auto_rows": null,
            "grid_column": null,
            "grid_gap": null,
            "grid_row": null,
            "grid_template_areas": null,
            "grid_template_columns": null,
            "grid_template_rows": null,
            "height": null,
            "justify_content": null,
            "justify_items": null,
            "left": null,
            "margin": null,
            "max_height": null,
            "max_width": null,
            "min_height": null,
            "min_width": null,
            "object_fit": null,
            "object_position": null,
            "order": null,
            "overflow": null,
            "overflow_x": null,
            "overflow_y": null,
            "padding": null,
            "right": null,
            "top": null,
            "visibility": null,
            "width": null
          }
        },
        "3be9f77efdb8408e893da7c3695ccbe4": {
          "model_module": "@jupyter-widgets/controls",
          "model_module_version": "1.5.0",
          "model_name": "HBoxModel",
          "state": {
            "_dom_classes": [],
            "_model_module": "@jupyter-widgets/controls",
            "_model_module_version": "1.5.0",
            "_model_name": "HBoxModel",
            "_view_count": null,
            "_view_module": "@jupyter-widgets/controls",
            "_view_module_version": "1.5.0",
            "_view_name": "HBoxView",
            "box_style": "",
            "children": [
              "IPY_MODEL_ce2c8e1bede94dfd9b7d514b6f098ac2",
              "IPY_MODEL_32f2bb75bfb24c0499e2c7060a755007",
              "IPY_MODEL_3dfbd7a3abb1468b8a9709ab1f7d8b84"
            ],
            "layout": "IPY_MODEL_5edae1c43baf4f2389873808dbec49ca"
          }
        },
        "3dfbd7a3abb1468b8a9709ab1f7d8b84": {
          "model_module": "@jupyter-widgets/controls",
          "model_module_version": "1.5.0",
          "model_name": "HTMLModel",
          "state": {
            "_dom_classes": [],
            "_model_module": "@jupyter-widgets/controls",
            "_model_module_version": "1.5.0",
            "_model_name": "HTMLModel",
            "_view_count": null,
            "_view_module": "@jupyter-widgets/controls",
            "_view_module_version": "1.5.0",
            "_view_name": "HTMLView",
            "description": "",
            "description_tooltip": null,
            "layout": "IPY_MODEL_15711239103f4247ac94b8d20f7d9e20",
            "placeholder": "​",
            "style": "IPY_MODEL_ea2e7c282ccd4aab837d2910ec0970b4",
            "value": " 2.20k/2.20k [00:00&lt;00:00, 52.5kB/s]"
          }
        },
        "426406c2627d431d9c72517aaa5a00b8": {
          "model_module": "@jupyter-widgets/base",
          "model_module_version": "1.2.0",
          "model_name": "LayoutModel",
          "state": {
            "_model_module": "@jupyter-widgets/base",
            "_model_module_version": "1.2.0",
            "_model_name": "LayoutModel",
            "_view_count": null,
            "_view_module": "@jupyter-widgets/base",
            "_view_module_version": "1.2.0",
            "_view_name": "LayoutView",
            "align_content": null,
            "align_items": null,
            "align_self": null,
            "border": null,
            "bottom": null,
            "display": null,
            "flex": null,
            "flex_flow": null,
            "grid_area": null,
            "grid_auto_columns": null,
            "grid_auto_flow": null,
            "grid_auto_rows": null,
            "grid_column": null,
            "grid_gap": null,
            "grid_row": null,
            "grid_template_areas": null,
            "grid_template_columns": null,
            "grid_template_rows": null,
            "height": null,
            "justify_content": null,
            "justify_items": null,
            "left": null,
            "margin": null,
            "max_height": null,
            "max_width": null,
            "min_height": null,
            "min_width": null,
            "object_fit": null,
            "object_position": null,
            "order": null,
            "overflow": null,
            "overflow_x": null,
            "overflow_y": null,
            "padding": null,
            "right": null,
            "top": null,
            "visibility": null,
            "width": null
          }
        },
        "466bd72b07924d9183d44474e1d9ed24": {
          "model_module": "@jupyter-widgets/controls",
          "model_module_version": "1.5.0",
          "model_name": "DescriptionStyleModel",
          "state": {
            "_model_module": "@jupyter-widgets/controls",
            "_model_module_version": "1.5.0",
            "_model_name": "DescriptionStyleModel",
            "_view_count": null,
            "_view_module": "@jupyter-widgets/base",
            "_view_module_version": "1.2.0",
            "_view_name": "StyleView",
            "description_width": ""
          }
        },
        "4850bfc393824dbeb10604be5164c225": {
          "model_module": "@jupyter-widgets/base",
          "model_module_version": "1.2.0",
          "model_name": "LayoutModel",
          "state": {
            "_model_module": "@jupyter-widgets/base",
            "_model_module_version": "1.2.0",
            "_model_name": "LayoutModel",
            "_view_count": null,
            "_view_module": "@jupyter-widgets/base",
            "_view_module_version": "1.2.0",
            "_view_name": "LayoutView",
            "align_content": null,
            "align_items": null,
            "align_self": null,
            "border": null,
            "bottom": null,
            "display": null,
            "flex": null,
            "flex_flow": null,
            "grid_area": null,
            "grid_auto_columns": null,
            "grid_auto_flow": null,
            "grid_auto_rows": null,
            "grid_column": null,
            "grid_gap": null,
            "grid_row": null,
            "grid_template_areas": null,
            "grid_template_columns": null,
            "grid_template_rows": null,
            "height": null,
            "justify_content": null,
            "justify_items": null,
            "left": null,
            "margin": null,
            "max_height": null,
            "max_width": null,
            "min_height": null,
            "min_width": null,
            "object_fit": null,
            "object_position": null,
            "order": null,
            "overflow": null,
            "overflow_x": null,
            "overflow_y": null,
            "padding": null,
            "right": null,
            "top": null,
            "visibility": null,
            "width": null
          }
        },
        "49c334e3bfa3470e82faf899f55c210b": {
          "model_module": "@jupyter-widgets/controls",
          "model_module_version": "1.5.0",
          "model_name": "HBoxModel",
          "state": {
            "_dom_classes": [],
            "_model_module": "@jupyter-widgets/controls",
            "_model_module_version": "1.5.0",
            "_model_name": "HBoxModel",
            "_view_count": null,
            "_view_module": "@jupyter-widgets/controls",
            "_view_module_version": "1.5.0",
            "_view_name": "HBoxView",
            "box_style": "",
            "children": [
              "IPY_MODEL_34d6435c806c4db2a406b7bcc79a9dc7",
              "IPY_MODEL_7610f591cd354546867a49b8517479c0",
              "IPY_MODEL_f8e83b4db6f4437db2386acc316422b1"
            ],
            "layout": "IPY_MODEL_4c0561f776fe41319e98c4d51370a135"
          }
        },
        "4c0561f776fe41319e98c4d51370a135": {
          "model_module": "@jupyter-widgets/base",
          "model_module_version": "1.2.0",
          "model_name": "LayoutModel",
          "state": {
            "_model_module": "@jupyter-widgets/base",
            "_model_module_version": "1.2.0",
            "_model_name": "LayoutModel",
            "_view_count": null,
            "_view_module": "@jupyter-widgets/base",
            "_view_module_version": "1.2.0",
            "_view_name": "LayoutView",
            "align_content": null,
            "align_items": null,
            "align_self": null,
            "border": null,
            "bottom": null,
            "display": null,
            "flex": null,
            "flex_flow": null,
            "grid_area": null,
            "grid_auto_columns": null,
            "grid_auto_flow": null,
            "grid_auto_rows": null,
            "grid_column": null,
            "grid_gap": null,
            "grid_row": null,
            "grid_template_areas": null,
            "grid_template_columns": null,
            "grid_template_rows": null,
            "height": null,
            "justify_content": null,
            "justify_items": null,
            "left": null,
            "margin": null,
            "max_height": null,
            "max_width": null,
            "min_height": null,
            "min_width": null,
            "object_fit": null,
            "object_position": null,
            "order": null,
            "overflow": null,
            "overflow_x": null,
            "overflow_y": null,
            "padding": null,
            "right": null,
            "top": null,
            "visibility": null,
            "width": null
          }
        },
        "4cb0bdb5af8e4cf5a30c8c5732a28880": {
          "model_module": "@jupyter-widgets/base",
          "model_module_version": "1.2.0",
          "model_name": "LayoutModel",
          "state": {
            "_model_module": "@jupyter-widgets/base",
            "_model_module_version": "1.2.0",
            "_model_name": "LayoutModel",
            "_view_count": null,
            "_view_module": "@jupyter-widgets/base",
            "_view_module_version": "1.2.0",
            "_view_name": "LayoutView",
            "align_content": null,
            "align_items": null,
            "align_self": null,
            "border": null,
            "bottom": null,
            "display": null,
            "flex": null,
            "flex_flow": null,
            "grid_area": null,
            "grid_auto_columns": null,
            "grid_auto_flow": null,
            "grid_auto_rows": null,
            "grid_column": null,
            "grid_gap": null,
            "grid_row": null,
            "grid_template_areas": null,
            "grid_template_columns": null,
            "grid_template_rows": null,
            "height": null,
            "justify_content": null,
            "justify_items": null,
            "left": null,
            "margin": null,
            "max_height": null,
            "max_width": null,
            "min_height": null,
            "min_width": null,
            "object_fit": null,
            "object_position": null,
            "order": null,
            "overflow": null,
            "overflow_x": null,
            "overflow_y": null,
            "padding": null,
            "right": null,
            "top": null,
            "visibility": null,
            "width": null
          }
        },
        "4d8a164e53b04b6893fedeb7ecb7f498": {
          "model_module": "@jupyter-widgets/controls",
          "model_module_version": "1.5.0",
          "model_name": "HTMLModel",
          "state": {
            "_dom_classes": [],
            "_model_module": "@jupyter-widgets/controls",
            "_model_module_version": "1.5.0",
            "_model_name": "HTMLModel",
            "_view_count": null,
            "_view_module": "@jupyter-widgets/controls",
            "_view_module_version": "1.5.0",
            "_view_name": "HTMLView",
            "description": "",
            "description_tooltip": null,
            "layout": "IPY_MODEL_29503872945b4957913ce143023bd5a8",
            "placeholder": "​",
            "style": "IPY_MODEL_c693d70ae5fd44c5a982dd8e52bf8450",
            "value": "spiece.model: 100%"
          }
        },
        "50e9f1598e1545f0a7b1035f31e08118": {
          "model_module": "@jupyter-widgets/controls",
          "model_module_version": "1.5.0",
          "model_name": "ProgressStyleModel",
          "state": {
            "_model_module": "@jupyter-widgets/controls",
            "_model_module_version": "1.5.0",
            "_model_name": "ProgressStyleModel",
            "_view_count": null,
            "_view_module": "@jupyter-widgets/base",
            "_view_module_version": "1.2.0",
            "_view_name": "StyleView",
            "bar_color": null,
            "description_width": ""
          }
        },
        "56e149dbd40e4345999d69df33f6141c": {
          "model_module": "@jupyter-widgets/controls",
          "model_module_version": "1.5.0",
          "model_name": "HBoxModel",
          "state": {
            "_dom_classes": [],
            "_model_module": "@jupyter-widgets/controls",
            "_model_module_version": "1.5.0",
            "_model_name": "HBoxModel",
            "_view_count": null,
            "_view_module": "@jupyter-widgets/controls",
            "_view_module_version": "1.5.0",
            "_view_name": "HBoxView",
            "box_style": "",
            "children": [
              "IPY_MODEL_4d8a164e53b04b6893fedeb7ecb7f498",
              "IPY_MODEL_9a97400e1fb04c3cb11e55e536183c00",
              "IPY_MODEL_9df0c5a4bc3b4410a1575acbb2b7b2e6"
            ],
            "layout": "IPY_MODEL_07cc11e3130443d98667bfe24a847929"
          }
        },
        "5c3e8d72645e46828aa5cefb664e6edc": {
          "model_module": "@jupyter-widgets/controls",
          "model_module_version": "1.5.0",
          "model_name": "DescriptionStyleModel",
          "state": {
            "_model_module": "@jupyter-widgets/controls",
            "_model_module_version": "1.5.0",
            "_model_name": "DescriptionStyleModel",
            "_view_count": null,
            "_view_module": "@jupyter-widgets/base",
            "_view_module_version": "1.2.0",
            "_view_name": "StyleView",
            "description_width": ""
          }
        },
        "5d270855a43146c7a099552715c6062d": {
          "model_module": "@jupyter-widgets/controls",
          "model_module_version": "1.5.0",
          "model_name": "ProgressStyleModel",
          "state": {
            "_model_module": "@jupyter-widgets/controls",
            "_model_module_version": "1.5.0",
            "_model_name": "ProgressStyleModel",
            "_view_count": null,
            "_view_module": "@jupyter-widgets/base",
            "_view_module_version": "1.2.0",
            "_view_name": "StyleView",
            "bar_color": null,
            "description_width": ""
          }
        },
        "5edae1c43baf4f2389873808dbec49ca": {
          "model_module": "@jupyter-widgets/base",
          "model_module_version": "1.2.0",
          "model_name": "LayoutModel",
          "state": {
            "_model_module": "@jupyter-widgets/base",
            "_model_module_version": "1.2.0",
            "_model_name": "LayoutModel",
            "_view_count": null,
            "_view_module": "@jupyter-widgets/base",
            "_view_module_version": "1.2.0",
            "_view_name": "LayoutView",
            "align_content": null,
            "align_items": null,
            "align_self": null,
            "border": null,
            "bottom": null,
            "display": null,
            "flex": null,
            "flex_flow": null,
            "grid_area": null,
            "grid_auto_columns": null,
            "grid_auto_flow": null,
            "grid_auto_rows": null,
            "grid_column": null,
            "grid_gap": null,
            "grid_row": null,
            "grid_template_areas": null,
            "grid_template_columns": null,
            "grid_template_rows": null,
            "height": null,
            "justify_content": null,
            "justify_items": null,
            "left": null,
            "margin": null,
            "max_height": null,
            "max_width": null,
            "min_height": null,
            "min_width": null,
            "object_fit": null,
            "object_position": null,
            "order": null,
            "overflow": null,
            "overflow_x": null,
            "overflow_y": null,
            "padding": null,
            "right": null,
            "top": null,
            "visibility": null,
            "width": null
          }
        },
        "60447c5f51b84a11839804f95bbe6a58": {
          "model_module": "@jupyter-widgets/controls",
          "model_module_version": "1.5.0",
          "model_name": "HBoxModel",
          "state": {
            "_dom_classes": [],
            "_model_module": "@jupyter-widgets/controls",
            "_model_module_version": "1.5.0",
            "_model_name": "HBoxModel",
            "_view_count": null,
            "_view_module": "@jupyter-widgets/controls",
            "_view_module_version": "1.5.0",
            "_view_name": "HBoxView",
            "box_style": "",
            "children": [
              "IPY_MODEL_90fb82ca7ed145eea7bacb0ae8ae2e41",
              "IPY_MODEL_73446201f7e149b79989be873b573641",
              "IPY_MODEL_cca4690a3d914ddd9e4656a242554ffc"
            ],
            "layout": "IPY_MODEL_9d775a786c534795a925c6744bff852d"
          }
        },
        "62e9b75dfdc940e5b7b3160cbf43da16": {
          "model_module": "@jupyter-widgets/controls",
          "model_module_version": "1.5.0",
          "model_name": "HBoxModel",
          "state": {
            "_dom_classes": [],
            "_model_module": "@jupyter-widgets/controls",
            "_model_module_version": "1.5.0",
            "_model_name": "HBoxModel",
            "_view_count": null,
            "_view_module": "@jupyter-widgets/controls",
            "_view_module_version": "1.5.0",
            "_view_name": "HBoxView",
            "box_style": "",
            "children": [
              "IPY_MODEL_376aed849ebd401795d19ad261b64b3b",
              "IPY_MODEL_b2473ecfb2a94214add123e8f73b625c",
              "IPY_MODEL_220389d105234cc7bff57f97826b72e2"
            ],
            "layout": "IPY_MODEL_4850bfc393824dbeb10604be5164c225"
          }
        },
        "65c80effd331487c91591fd7bbb1504b": {
          "model_module": "@jupyter-widgets/controls",
          "model_module_version": "1.5.0",
          "model_name": "ProgressStyleModel",
          "state": {
            "_model_module": "@jupyter-widgets/controls",
            "_model_module_version": "1.5.0",
            "_model_name": "ProgressStyleModel",
            "_view_count": null,
            "_view_module": "@jupyter-widgets/base",
            "_view_module_version": "1.2.0",
            "_view_name": "StyleView",
            "bar_color": null,
            "description_width": ""
          }
        },
        "65ca179c06c34c308cc162715494124c": {
          "model_module": "@jupyter-widgets/controls",
          "model_module_version": "1.5.0",
          "model_name": "ProgressStyleModel",
          "state": {
            "_model_module": "@jupyter-widgets/controls",
            "_model_module_version": "1.5.0",
            "_model_name": "ProgressStyleModel",
            "_view_count": null,
            "_view_module": "@jupyter-widgets/base",
            "_view_module_version": "1.2.0",
            "_view_name": "StyleView",
            "bar_color": null,
            "description_width": ""
          }
        },
        "65df0a37742c41bba6a3438b01f2543f": {
          "model_module": "@jupyter-widgets/controls",
          "model_module_version": "1.5.0",
          "model_name": "DescriptionStyleModel",
          "state": {
            "_model_module": "@jupyter-widgets/controls",
            "_model_module_version": "1.5.0",
            "_model_name": "DescriptionStyleModel",
            "_view_count": null,
            "_view_module": "@jupyter-widgets/base",
            "_view_module_version": "1.2.0",
            "_view_name": "StyleView",
            "description_width": ""
          }
        },
        "6e73e920a65249b49777cb4fc245bd96": {
          "model_module": "@jupyter-widgets/controls",
          "model_module_version": "1.5.0",
          "model_name": "DescriptionStyleModel",
          "state": {
            "_model_module": "@jupyter-widgets/controls",
            "_model_module_version": "1.5.0",
            "_model_name": "DescriptionStyleModel",
            "_view_count": null,
            "_view_module": "@jupyter-widgets/base",
            "_view_module_version": "1.2.0",
            "_view_name": "StyleView",
            "description_width": ""
          }
        },
        "6fa8b227fb174155956e40f03b015beb": {
          "model_module": "@jupyter-widgets/base",
          "model_module_version": "1.2.0",
          "model_name": "LayoutModel",
          "state": {
            "_model_module": "@jupyter-widgets/base",
            "_model_module_version": "1.2.0",
            "_model_name": "LayoutModel",
            "_view_count": null,
            "_view_module": "@jupyter-widgets/base",
            "_view_module_version": "1.2.0",
            "_view_name": "LayoutView",
            "align_content": null,
            "align_items": null,
            "align_self": null,
            "border": null,
            "bottom": null,
            "display": null,
            "flex": null,
            "flex_flow": null,
            "grid_area": null,
            "grid_auto_columns": null,
            "grid_auto_flow": null,
            "grid_auto_rows": null,
            "grid_column": null,
            "grid_gap": null,
            "grid_row": null,
            "grid_template_areas": null,
            "grid_template_columns": null,
            "grid_template_rows": null,
            "height": null,
            "justify_content": null,
            "justify_items": null,
            "left": null,
            "margin": null,
            "max_height": null,
            "max_width": null,
            "min_height": null,
            "min_width": null,
            "object_fit": null,
            "object_position": null,
            "order": null,
            "overflow": null,
            "overflow_x": null,
            "overflow_y": null,
            "padding": null,
            "right": null,
            "top": null,
            "visibility": null,
            "width": null
          }
        },
        "7221908ef6114cb59aecaebe1567969f": {
          "model_module": "@jupyter-widgets/base",
          "model_module_version": "1.2.0",
          "model_name": "LayoutModel",
          "state": {
            "_model_module": "@jupyter-widgets/base",
            "_model_module_version": "1.2.0",
            "_model_name": "LayoutModel",
            "_view_count": null,
            "_view_module": "@jupyter-widgets/base",
            "_view_module_version": "1.2.0",
            "_view_name": "LayoutView",
            "align_content": null,
            "align_items": null,
            "align_self": null,
            "border": null,
            "bottom": null,
            "display": null,
            "flex": null,
            "flex_flow": null,
            "grid_area": null,
            "grid_auto_columns": null,
            "grid_auto_flow": null,
            "grid_auto_rows": null,
            "grid_column": null,
            "grid_gap": null,
            "grid_row": null,
            "grid_template_areas": null,
            "grid_template_columns": null,
            "grid_template_rows": null,
            "height": null,
            "justify_content": null,
            "justify_items": null,
            "left": null,
            "margin": null,
            "max_height": null,
            "max_width": null,
            "min_height": null,
            "min_width": null,
            "object_fit": null,
            "object_position": null,
            "order": null,
            "overflow": null,
            "overflow_x": null,
            "overflow_y": null,
            "padding": null,
            "right": null,
            "top": null,
            "visibility": null,
            "width": null
          }
        },
        "73446201f7e149b79989be873b573641": {
          "model_module": "@jupyter-widgets/controls",
          "model_module_version": "1.5.0",
          "model_name": "FloatProgressModel",
          "state": {
            "_dom_classes": [],
            "_model_module": "@jupyter-widgets/controls",
            "_model_module_version": "1.5.0",
            "_model_name": "FloatProgressModel",
            "_view_count": null,
            "_view_module": "@jupyter-widgets/controls",
            "_view_module_version": "1.5.0",
            "_view_name": "ProgressView",
            "bar_style": "success",
            "description": "",
            "description_tooltip": null,
            "layout": "IPY_MODEL_80ad6878d5f942cf8c87c95c11573c67",
            "max": 2424064,
            "min": 0,
            "orientation": "horizontal",
            "style": "IPY_MODEL_65ca179c06c34c308cc162715494124c",
            "value": 2424064
          }
        },
        "7366a86e34e843d8aeba1a7a6403ede6": {
          "model_module": "@jupyter-widgets/controls",
          "model_module_version": "1.5.0",
          "model_name": "DescriptionStyleModel",
          "state": {
            "_model_module": "@jupyter-widgets/controls",
            "_model_module_version": "1.5.0",
            "_model_name": "DescriptionStyleModel",
            "_view_count": null,
            "_view_module": "@jupyter-widgets/base",
            "_view_module_version": "1.2.0",
            "_view_name": "StyleView",
            "description_width": ""
          }
        },
        "7610f591cd354546867a49b8517479c0": {
          "model_module": "@jupyter-widgets/controls",
          "model_module_version": "1.5.0",
          "model_name": "FloatProgressModel",
          "state": {
            "_dom_classes": [],
            "_model_module": "@jupyter-widgets/controls",
            "_model_module_version": "1.5.0",
            "_model_name": "FloatProgressModel",
            "_view_count": null,
            "_view_module": "@jupyter-widgets/controls",
            "_view_module_version": "1.5.0",
            "_view_name": "ProgressView",
            "bar_style": "success",
            "description": "",
            "description_tooltip": null,
            "layout": "IPY_MODEL_9ba8fe379fd8401fa4f5d6032690cbf7",
            "max": 2539,
            "min": 0,
            "orientation": "horizontal",
            "style": "IPY_MODEL_65c80effd331487c91591fd7bbb1504b",
            "value": 2539
          }
        },
        "77950d63ed634245b3d0475094602354": {
          "model_module": "@jupyter-widgets/base",
          "model_module_version": "1.2.0",
          "model_name": "LayoutModel",
          "state": {
            "_model_module": "@jupyter-widgets/base",
            "_model_module_version": "1.2.0",
            "_model_name": "LayoutModel",
            "_view_count": null,
            "_view_module": "@jupyter-widgets/base",
            "_view_module_version": "1.2.0",
            "_view_name": "LayoutView",
            "align_content": null,
            "align_items": null,
            "align_self": null,
            "border": null,
            "bottom": null,
            "display": null,
            "flex": null,
            "flex_flow": null,
            "grid_area": null,
            "grid_auto_columns": null,
            "grid_auto_flow": null,
            "grid_auto_rows": null,
            "grid_column": null,
            "grid_gap": null,
            "grid_row": null,
            "grid_template_areas": null,
            "grid_template_columns": null,
            "grid_template_rows": null,
            "height": null,
            "justify_content": null,
            "justify_items": null,
            "left": null,
            "margin": null,
            "max_height": null,
            "max_width": null,
            "min_height": null,
            "min_width": null,
            "object_fit": null,
            "object_position": null,
            "order": null,
            "overflow": null,
            "overflow_x": null,
            "overflow_y": null,
            "padding": null,
            "right": null,
            "top": null,
            "visibility": null,
            "width": null
          }
        },
        "7af09fc54e5f4ff9ac0faf41dfe072eb": {
          "model_module": "@jupyter-widgets/base",
          "model_module_version": "1.2.0",
          "model_name": "LayoutModel",
          "state": {
            "_model_module": "@jupyter-widgets/base",
            "_model_module_version": "1.2.0",
            "_model_name": "LayoutModel",
            "_view_count": null,
            "_view_module": "@jupyter-widgets/base",
            "_view_module_version": "1.2.0",
            "_view_name": "LayoutView",
            "align_content": null,
            "align_items": null,
            "align_self": null,
            "border": null,
            "bottom": null,
            "display": null,
            "flex": null,
            "flex_flow": null,
            "grid_area": null,
            "grid_auto_columns": null,
            "grid_auto_flow": null,
            "grid_auto_rows": null,
            "grid_column": null,
            "grid_gap": null,
            "grid_row": null,
            "grid_template_areas": null,
            "grid_template_columns": null,
            "grid_template_rows": null,
            "height": null,
            "justify_content": null,
            "justify_items": null,
            "left": null,
            "margin": null,
            "max_height": null,
            "max_width": null,
            "min_height": null,
            "min_width": null,
            "object_fit": null,
            "object_position": null,
            "order": null,
            "overflow": null,
            "overflow_x": null,
            "overflow_y": null,
            "padding": null,
            "right": null,
            "top": null,
            "visibility": null,
            "width": null
          }
        },
        "80ad6878d5f942cf8c87c95c11573c67": {
          "model_module": "@jupyter-widgets/base",
          "model_module_version": "1.2.0",
          "model_name": "LayoutModel",
          "state": {
            "_model_module": "@jupyter-widgets/base",
            "_model_module_version": "1.2.0",
            "_model_name": "LayoutModel",
            "_view_count": null,
            "_view_module": "@jupyter-widgets/base",
            "_view_module_version": "1.2.0",
            "_view_name": "LayoutView",
            "align_content": null,
            "align_items": null,
            "align_self": null,
            "border": null,
            "bottom": null,
            "display": null,
            "flex": null,
            "flex_flow": null,
            "grid_area": null,
            "grid_auto_columns": null,
            "grid_auto_flow": null,
            "grid_auto_rows": null,
            "grid_column": null,
            "grid_gap": null,
            "grid_row": null,
            "grid_template_areas": null,
            "grid_template_columns": null,
            "grid_template_rows": null,
            "height": null,
            "justify_content": null,
            "justify_items": null,
            "left": null,
            "margin": null,
            "max_height": null,
            "max_width": null,
            "min_height": null,
            "min_width": null,
            "object_fit": null,
            "object_position": null,
            "order": null,
            "overflow": null,
            "overflow_x": null,
            "overflow_y": null,
            "padding": null,
            "right": null,
            "top": null,
            "visibility": null,
            "width": null
          }
        },
        "831e1cfb2a03427c96c692303726079c": {
          "model_module": "@jupyter-widgets/controls",
          "model_module_version": "1.5.0",
          "model_name": "DescriptionStyleModel",
          "state": {
            "_model_module": "@jupyter-widgets/controls",
            "_model_module_version": "1.5.0",
            "_model_name": "DescriptionStyleModel",
            "_view_count": null,
            "_view_module": "@jupyter-widgets/base",
            "_view_module_version": "1.2.0",
            "_view_name": "StyleView",
            "description_width": ""
          }
        },
        "83f110d5357747e086c25ca33fb9c641": {
          "model_module": "@jupyter-widgets/base",
          "model_module_version": "1.2.0",
          "model_name": "LayoutModel",
          "state": {
            "_model_module": "@jupyter-widgets/base",
            "_model_module_version": "1.2.0",
            "_model_name": "LayoutModel",
            "_view_count": null,
            "_view_module": "@jupyter-widgets/base",
            "_view_module_version": "1.2.0",
            "_view_name": "LayoutView",
            "align_content": null,
            "align_items": null,
            "align_self": null,
            "border": null,
            "bottom": null,
            "display": null,
            "flex": null,
            "flex_flow": null,
            "grid_area": null,
            "grid_auto_columns": null,
            "grid_auto_flow": null,
            "grid_auto_rows": null,
            "grid_column": null,
            "grid_gap": null,
            "grid_row": null,
            "grid_template_areas": null,
            "grid_template_columns": null,
            "grid_template_rows": null,
            "height": null,
            "justify_content": null,
            "justify_items": null,
            "left": null,
            "margin": null,
            "max_height": null,
            "max_width": null,
            "min_height": null,
            "min_width": null,
            "object_fit": null,
            "object_position": null,
            "order": null,
            "overflow": null,
            "overflow_x": null,
            "overflow_y": null,
            "padding": null,
            "right": null,
            "top": null,
            "visibility": null,
            "width": null
          }
        },
        "87ae0fb2e8694cd9aeb9a6f157f2d9f0": {
          "model_module": "@jupyter-widgets/controls",
          "model_module_version": "1.5.0",
          "model_name": "DescriptionStyleModel",
          "state": {
            "_model_module": "@jupyter-widgets/controls",
            "_model_module_version": "1.5.0",
            "_model_name": "DescriptionStyleModel",
            "_view_count": null,
            "_view_module": "@jupyter-widgets/base",
            "_view_module_version": "1.2.0",
            "_view_name": "StyleView",
            "description_width": ""
          }
        },
        "8fbddbd813f94676a14a1f3c61118111": {
          "model_module": "@jupyter-widgets/base",
          "model_module_version": "1.2.0",
          "model_name": "LayoutModel",
          "state": {
            "_model_module": "@jupyter-widgets/base",
            "_model_module_version": "1.2.0",
            "_model_name": "LayoutModel",
            "_view_count": null,
            "_view_module": "@jupyter-widgets/base",
            "_view_module_version": "1.2.0",
            "_view_name": "LayoutView",
            "align_content": null,
            "align_items": null,
            "align_self": null,
            "border": null,
            "bottom": null,
            "display": null,
            "flex": null,
            "flex_flow": null,
            "grid_area": null,
            "grid_auto_columns": null,
            "grid_auto_flow": null,
            "grid_auto_rows": null,
            "grid_column": null,
            "grid_gap": null,
            "grid_row": null,
            "grid_template_areas": null,
            "grid_template_columns": null,
            "grid_template_rows": null,
            "height": null,
            "justify_content": null,
            "justify_items": null,
            "left": null,
            "margin": null,
            "max_height": null,
            "max_width": null,
            "min_height": null,
            "min_width": null,
            "object_fit": null,
            "object_position": null,
            "order": null,
            "overflow": null,
            "overflow_x": null,
            "overflow_y": null,
            "padding": null,
            "right": null,
            "top": null,
            "visibility": null,
            "width": null
          }
        },
        "90fb82ca7ed145eea7bacb0ae8ae2e41": {
          "model_module": "@jupyter-widgets/controls",
          "model_module_version": "1.5.0",
          "model_name": "HTMLModel",
          "state": {
            "_dom_classes": [],
            "_model_module": "@jupyter-widgets/controls",
            "_model_module_version": "1.5.0",
            "_model_name": "HTMLModel",
            "_view_count": null,
            "_view_module": "@jupyter-widgets/controls",
            "_view_module_version": "1.5.0",
            "_view_name": "HTMLView",
            "description": "",
            "description_tooltip": null,
            "layout": "IPY_MODEL_ac369e3c4a8c435380b3b72962e46bc9",
            "placeholder": "​",
            "style": "IPY_MODEL_bb6cf49456774983aed3058fc053a53a",
            "value": "tokenizer.json: 100%"
          }
        },
        "92c71b98c41045e38bc4d32f5e5bac44": {
          "model_module": "@jupyter-widgets/controls",
          "model_module_version": "1.5.0",
          "model_name": "HTMLModel",
          "state": {
            "_dom_classes": [],
            "_model_module": "@jupyter-widgets/controls",
            "_model_module_version": "1.5.0",
            "_model_name": "HTMLModel",
            "_view_count": null,
            "_view_module": "@jupyter-widgets/controls",
            "_view_module_version": "1.5.0",
            "_view_name": "HTMLView",
            "description": "",
            "description_tooltip": null,
            "layout": "IPY_MODEL_08152782ec004afa8a2062ff2bb31398",
            "placeholder": "​",
            "style": "IPY_MODEL_d701d0c4fb5b4fe681825db94fce5b15",
            "value": "generation_config.json: 100%"
          }
        },
        "99007c88f8464b3e9bf6c06249dfc553": {
          "model_module": "@jupyter-widgets/controls",
          "model_module_version": "1.5.0",
          "model_name": "HBoxModel",
          "state": {
            "_dom_classes": [],
            "_model_module": "@jupyter-widgets/controls",
            "_model_module_version": "1.5.0",
            "_model_name": "HBoxModel",
            "_view_count": null,
            "_view_module": "@jupyter-widgets/controls",
            "_view_module_version": "1.5.0",
            "_view_name": "HBoxView",
            "box_style": "",
            "children": [
              "IPY_MODEL_92c71b98c41045e38bc4d32f5e5bac44",
              "IPY_MODEL_2431242f2d6d447dbbf685a24704af9c",
              "IPY_MODEL_f3e9b49f6a254051a5e20afd1a74fe02"
            ],
            "layout": "IPY_MODEL_83f110d5357747e086c25ca33fb9c641"
          }
        },
        "9a97400e1fb04c3cb11e55e536183c00": {
          "model_module": "@jupyter-widgets/controls",
          "model_module_version": "1.5.0",
          "model_name": "FloatProgressModel",
          "state": {
            "_dom_classes": [],
            "_model_module": "@jupyter-widgets/controls",
            "_model_module_version": "1.5.0",
            "_model_name": "FloatProgressModel",
            "_view_count": null,
            "_view_module": "@jupyter-widgets/controls",
            "_view_module_version": "1.5.0",
            "_view_name": "ProgressView",
            "bar_style": "success",
            "description": "",
            "description_tooltip": null,
            "layout": "IPY_MODEL_4cb0bdb5af8e4cf5a30c8c5732a28880",
            "max": 791656,
            "min": 0,
            "orientation": "horizontal",
            "style": "IPY_MODEL_f225b5d7671847e09950eee526e26661",
            "value": 791656
          }
        },
        "9ba8fe379fd8401fa4f5d6032690cbf7": {
          "model_module": "@jupyter-widgets/base",
          "model_module_version": "1.2.0",
          "model_name": "LayoutModel",
          "state": {
            "_model_module": "@jupyter-widgets/base",
            "_model_module_version": "1.2.0",
            "_model_name": "LayoutModel",
            "_view_count": null,
            "_view_module": "@jupyter-widgets/base",
            "_view_module_version": "1.2.0",
            "_view_name": "LayoutView",
            "align_content": null,
            "align_items": null,
            "align_self": null,
            "border": null,
            "bottom": null,
            "display": null,
            "flex": null,
            "flex_flow": null,
            "grid_area": null,
            "grid_auto_columns": null,
            "grid_auto_flow": null,
            "grid_auto_rows": null,
            "grid_column": null,
            "grid_gap": null,
            "grid_row": null,
            "grid_template_areas": null,
            "grid_template_columns": null,
            "grid_template_rows": null,
            "height": null,
            "justify_content": null,
            "justify_items": null,
            "left": null,
            "margin": null,
            "max_height": null,
            "max_width": null,
            "min_height": null,
            "min_width": null,
            "object_fit": null,
            "object_position": null,
            "order": null,
            "overflow": null,
            "overflow_x": null,
            "overflow_y": null,
            "padding": null,
            "right": null,
            "top": null,
            "visibility": null,
            "width": null
          }
        },
        "9ce09251963246189681a9c463882a60": {
          "model_module": "@jupyter-widgets/base",
          "model_module_version": "1.2.0",
          "model_name": "LayoutModel",
          "state": {
            "_model_module": "@jupyter-widgets/base",
            "_model_module_version": "1.2.0",
            "_model_name": "LayoutModel",
            "_view_count": null,
            "_view_module": "@jupyter-widgets/base",
            "_view_module_version": "1.2.0",
            "_view_name": "LayoutView",
            "align_content": null,
            "align_items": null,
            "align_self": null,
            "border": null,
            "bottom": null,
            "display": null,
            "flex": null,
            "flex_flow": null,
            "grid_area": null,
            "grid_auto_columns": null,
            "grid_auto_flow": null,
            "grid_auto_rows": null,
            "grid_column": null,
            "grid_gap": null,
            "grid_row": null,
            "grid_template_areas": null,
            "grid_template_columns": null,
            "grid_template_rows": null,
            "height": null,
            "justify_content": null,
            "justify_items": null,
            "left": null,
            "margin": null,
            "max_height": null,
            "max_width": null,
            "min_height": null,
            "min_width": null,
            "object_fit": null,
            "object_position": null,
            "order": null,
            "overflow": null,
            "overflow_x": null,
            "overflow_y": null,
            "padding": null,
            "right": null,
            "top": null,
            "visibility": null,
            "width": null
          }
        },
        "9d775a786c534795a925c6744bff852d": {
          "model_module": "@jupyter-widgets/base",
          "model_module_version": "1.2.0",
          "model_name": "LayoutModel",
          "state": {
            "_model_module": "@jupyter-widgets/base",
            "_model_module_version": "1.2.0",
            "_model_name": "LayoutModel",
            "_view_count": null,
            "_view_module": "@jupyter-widgets/base",
            "_view_module_version": "1.2.0",
            "_view_name": "LayoutView",
            "align_content": null,
            "align_items": null,
            "align_self": null,
            "border": null,
            "bottom": null,
            "display": null,
            "flex": null,
            "flex_flow": null,
            "grid_area": null,
            "grid_auto_columns": null,
            "grid_auto_flow": null,
            "grid_auto_rows": null,
            "grid_column": null,
            "grid_gap": null,
            "grid_row": null,
            "grid_template_areas": null,
            "grid_template_columns": null,
            "grid_template_rows": null,
            "height": null,
            "justify_content": null,
            "justify_items": null,
            "left": null,
            "margin": null,
            "max_height": null,
            "max_width": null,
            "min_height": null,
            "min_width": null,
            "object_fit": null,
            "object_position": null,
            "order": null,
            "overflow": null,
            "overflow_x": null,
            "overflow_y": null,
            "padding": null,
            "right": null,
            "top": null,
            "visibility": null,
            "width": null
          }
        },
        "9df0c5a4bc3b4410a1575acbb2b7b2e6": {
          "model_module": "@jupyter-widgets/controls",
          "model_module_version": "1.5.0",
          "model_name": "HTMLModel",
          "state": {
            "_dom_classes": [],
            "_model_module": "@jupyter-widgets/controls",
            "_model_module_version": "1.5.0",
            "_model_name": "HTMLModel",
            "_view_count": null,
            "_view_module": "@jupyter-widgets/controls",
            "_view_module_version": "1.5.0",
            "_view_name": "HTMLView",
            "description": "",
            "description_tooltip": null,
            "layout": "IPY_MODEL_b24f7a8c3eae443987d535bdf25bebc0",
            "placeholder": "​",
            "style": "IPY_MODEL_f043a8ec20374c82a42395de70ad9a97",
            "value": " 792k/792k [00:00&lt;00:00, 18.1MB/s]"
          }
        },
        "a201a16a018a40a480df9f36b865d73f": {
          "model_module": "@jupyter-widgets/controls",
          "model_module_version": "1.5.0",
          "model_name": "HBoxModel",
          "state": {
            "_dom_classes": [],
            "_model_module": "@jupyter-widgets/controls",
            "_model_module_version": "1.5.0",
            "_model_name": "HBoxModel",
            "_view_count": null,
            "_view_module": "@jupyter-widgets/controls",
            "_view_module_version": "1.5.0",
            "_view_name": "HBoxView",
            "box_style": "",
            "children": [
              "IPY_MODEL_f123552086a0443fb2c391fb119d045d",
              "IPY_MODEL_13ca8bcddf2c453680c4ab3b9a4abf00",
              "IPY_MODEL_e89e51622b134534998fd19fc0c931aa"
            ],
            "layout": "IPY_MODEL_e3634d2ad95f4a73979ecd64aecf27e9"
          }
        },
        "ac369e3c4a8c435380b3b72962e46bc9": {
          "model_module": "@jupyter-widgets/base",
          "model_module_version": "1.2.0",
          "model_name": "LayoutModel",
          "state": {
            "_model_module": "@jupyter-widgets/base",
            "_model_module_version": "1.2.0",
            "_model_name": "LayoutModel",
            "_view_count": null,
            "_view_module": "@jupyter-widgets/base",
            "_view_module_version": "1.2.0",
            "_view_name": "LayoutView",
            "align_content": null,
            "align_items": null,
            "align_self": null,
            "border": null,
            "bottom": null,
            "display": null,
            "flex": null,
            "flex_flow": null,
            "grid_area": null,
            "grid_auto_columns": null,
            "grid_auto_flow": null,
            "grid_auto_rows": null,
            "grid_column": null,
            "grid_gap": null,
            "grid_row": null,
            "grid_template_areas": null,
            "grid_template_columns": null,
            "grid_template_rows": null,
            "height": null,
            "justify_content": null,
            "justify_items": null,
            "left": null,
            "margin": null,
            "max_height": null,
            "max_width": null,
            "min_height": null,
            "min_width": null,
            "object_fit": null,
            "object_position": null,
            "order": null,
            "overflow": null,
            "overflow_x": null,
            "overflow_y": null,
            "padding": null,
            "right": null,
            "top": null,
            "visibility": null,
            "width": null
          }
        },
        "b1d2a527ee3d42abb3c1110f39cd6f63": {
          "model_module": "@jupyter-widgets/controls",
          "model_module_version": "1.5.0",
          "model_name": "ProgressStyleModel",
          "state": {
            "_model_module": "@jupyter-widgets/controls",
            "_model_module_version": "1.5.0",
            "_model_name": "ProgressStyleModel",
            "_view_count": null,
            "_view_module": "@jupyter-widgets/base",
            "_view_module_version": "1.2.0",
            "_view_name": "StyleView",
            "bar_color": null,
            "description_width": ""
          }
        },
        "b2473ecfb2a94214add123e8f73b625c": {
          "model_module": "@jupyter-widgets/controls",
          "model_module_version": "1.5.0",
          "model_name": "FloatProgressModel",
          "state": {
            "_dom_classes": [],
            "_model_module": "@jupyter-widgets/controls",
            "_model_module_version": "1.5.0",
            "_model_name": "FloatProgressModel",
            "_view_count": null,
            "_view_module": "@jupyter-widgets/controls",
            "_view_module_version": "1.5.0",
            "_view_name": "ProgressView",
            "bar_style": "success",
            "description": "",
            "description_tooltip": null,
            "layout": "IPY_MODEL_7221908ef6114cb59aecaebe1567969f",
            "max": 3132668804,
            "min": 0,
            "orientation": "horizontal",
            "style": "IPY_MODEL_0ccd8da005804506bb228fede2eaa62e",
            "value": 3132668804
          }
        },
        "b24f7a8c3eae443987d535bdf25bebc0": {
          "model_module": "@jupyter-widgets/base",
          "model_module_version": "1.2.0",
          "model_name": "LayoutModel",
          "state": {
            "_model_module": "@jupyter-widgets/base",
            "_model_module_version": "1.2.0",
            "_model_name": "LayoutModel",
            "_view_count": null,
            "_view_module": "@jupyter-widgets/base",
            "_view_module_version": "1.2.0",
            "_view_name": "LayoutView",
            "align_content": null,
            "align_items": null,
            "align_self": null,
            "border": null,
            "bottom": null,
            "display": null,
            "flex": null,
            "flex_flow": null,
            "grid_area": null,
            "grid_auto_columns": null,
            "grid_auto_flow": null,
            "grid_auto_rows": null,
            "grid_column": null,
            "grid_gap": null,
            "grid_row": null,
            "grid_template_areas": null,
            "grid_template_columns": null,
            "grid_template_rows": null,
            "height": null,
            "justify_content": null,
            "justify_items": null,
            "left": null,
            "margin": null,
            "max_height": null,
            "max_width": null,
            "min_height": null,
            "min_width": null,
            "object_fit": null,
            "object_position": null,
            "order": null,
            "overflow": null,
            "overflow_x": null,
            "overflow_y": null,
            "padding": null,
            "right": null,
            "top": null,
            "visibility": null,
            "width": null
          }
        },
        "b8732c62f65c470988ada7950a0e29be": {
          "model_module": "@jupyter-widgets/base",
          "model_module_version": "1.2.0",
          "model_name": "LayoutModel",
          "state": {
            "_model_module": "@jupyter-widgets/base",
            "_model_module_version": "1.2.0",
            "_model_name": "LayoutModel",
            "_view_count": null,
            "_view_module": "@jupyter-widgets/base",
            "_view_module_version": "1.2.0",
            "_view_name": "LayoutView",
            "align_content": null,
            "align_items": null,
            "align_self": null,
            "border": null,
            "bottom": null,
            "display": null,
            "flex": null,
            "flex_flow": null,
            "grid_area": null,
            "grid_auto_columns": null,
            "grid_auto_flow": null,
            "grid_auto_rows": null,
            "grid_column": null,
            "grid_gap": null,
            "grid_row": null,
            "grid_template_areas": null,
            "grid_template_columns": null,
            "grid_template_rows": null,
            "height": null,
            "justify_content": null,
            "justify_items": null,
            "left": null,
            "margin": null,
            "max_height": null,
            "max_width": null,
            "min_height": null,
            "min_width": null,
            "object_fit": null,
            "object_position": null,
            "order": null,
            "overflow": null,
            "overflow_x": null,
            "overflow_y": null,
            "padding": null,
            "right": null,
            "top": null,
            "visibility": null,
            "width": null
          }
        },
        "bb6cf49456774983aed3058fc053a53a": {
          "model_module": "@jupyter-widgets/controls",
          "model_module_version": "1.5.0",
          "model_name": "DescriptionStyleModel",
          "state": {
            "_model_module": "@jupyter-widgets/controls",
            "_model_module_version": "1.5.0",
            "_model_name": "DescriptionStyleModel",
            "_view_count": null,
            "_view_module": "@jupyter-widgets/base",
            "_view_module_version": "1.2.0",
            "_view_name": "StyleView",
            "description_width": ""
          }
        },
        "c693d70ae5fd44c5a982dd8e52bf8450": {
          "model_module": "@jupyter-widgets/controls",
          "model_module_version": "1.5.0",
          "model_name": "DescriptionStyleModel",
          "state": {
            "_model_module": "@jupyter-widgets/controls",
            "_model_module_version": "1.5.0",
            "_model_name": "DescriptionStyleModel",
            "_view_count": null,
            "_view_module": "@jupyter-widgets/base",
            "_view_module_version": "1.2.0",
            "_view_name": "StyleView",
            "description_width": ""
          }
        },
        "c84c1d643c5b42b1bf51d2d18b1e2ace": {
          "model_module": "@jupyter-widgets/controls",
          "model_module_version": "1.5.0",
          "model_name": "DescriptionStyleModel",
          "state": {
            "_model_module": "@jupyter-widgets/controls",
            "_model_module_version": "1.5.0",
            "_model_name": "DescriptionStyleModel",
            "_view_count": null,
            "_view_module": "@jupyter-widgets/base",
            "_view_module_version": "1.2.0",
            "_view_name": "StyleView",
            "description_width": ""
          }
        },
        "c98588a99a5f4eacb7714c21a4015e0a": {
          "model_module": "@jupyter-widgets/base",
          "model_module_version": "1.2.0",
          "model_name": "LayoutModel",
          "state": {
            "_model_module": "@jupyter-widgets/base",
            "_model_module_version": "1.2.0",
            "_model_name": "LayoutModel",
            "_view_count": null,
            "_view_module": "@jupyter-widgets/base",
            "_view_module_version": "1.2.0",
            "_view_name": "LayoutView",
            "align_content": null,
            "align_items": null,
            "align_self": null,
            "border": null,
            "bottom": null,
            "display": null,
            "flex": null,
            "flex_flow": null,
            "grid_area": null,
            "grid_auto_columns": null,
            "grid_auto_flow": null,
            "grid_auto_rows": null,
            "grid_column": null,
            "grid_gap": null,
            "grid_row": null,
            "grid_template_areas": null,
            "grid_template_columns": null,
            "grid_template_rows": null,
            "height": null,
            "justify_content": null,
            "justify_items": null,
            "left": null,
            "margin": null,
            "max_height": null,
            "max_width": null,
            "min_height": null,
            "min_width": null,
            "object_fit": null,
            "object_position": null,
            "order": null,
            "overflow": null,
            "overflow_x": null,
            "overflow_y": null,
            "padding": null,
            "right": null,
            "top": null,
            "visibility": null,
            "width": null
          }
        },
        "cc73ce6e5eea4b348e4cc030d8c04006": {
          "model_module": "@jupyter-widgets/controls",
          "model_module_version": "1.5.0",
          "model_name": "HBoxModel",
          "state": {
            "_dom_classes": [],
            "_model_module": "@jupyter-widgets/controls",
            "_model_module_version": "1.5.0",
            "_model_name": "HBoxModel",
            "_view_count": null,
            "_view_module": "@jupyter-widgets/controls",
            "_view_module_version": "1.5.0",
            "_view_name": "HBoxView",
            "box_style": "",
            "children": [
              "IPY_MODEL_e0b9657b920146f5be58e6af497733a8",
              "IPY_MODEL_d073775abd024098975d0f9b04d6f691",
              "IPY_MODEL_d7ff35b0ce24429bb7eb68a4272a45a5"
            ],
            "layout": "IPY_MODEL_9ce09251963246189681a9c463882a60"
          }
        },
        "cca4690a3d914ddd9e4656a242554ffc": {
          "model_module": "@jupyter-widgets/controls",
          "model_module_version": "1.5.0",
          "model_name": "HTMLModel",
          "state": {
            "_dom_classes": [],
            "_model_module": "@jupyter-widgets/controls",
            "_model_module_version": "1.5.0",
            "_model_name": "HTMLModel",
            "_view_count": null,
            "_view_module": "@jupyter-widgets/controls",
            "_view_module_version": "1.5.0",
            "_view_name": "HTMLView",
            "description": "",
            "description_tooltip": null,
            "layout": "IPY_MODEL_142a652f300e49538fc194a492fa5a04",
            "placeholder": "​",
            "style": "IPY_MODEL_f6987d294a8740e1991dcf90efd46ffa",
            "value": " 2.42M/2.42M [00:00&lt;00:00, 10.1MB/s]"
          }
        },
        "ce2c8e1bede94dfd9b7d514b6f098ac2": {
          "model_module": "@jupyter-widgets/controls",
          "model_module_version": "1.5.0",
          "model_name": "HTMLModel",
          "state": {
            "_dom_classes": [],
            "_model_module": "@jupyter-widgets/controls",
            "_model_module_version": "1.5.0",
            "_model_name": "HTMLModel",
            "_view_count": null,
            "_view_module": "@jupyter-widgets/controls",
            "_view_module_version": "1.5.0",
            "_view_name": "HTMLView",
            "description": "",
            "description_tooltip": null,
            "layout": "IPY_MODEL_38671f60341b4ec0af5de71a4ac0f8d7",
            "placeholder": "​",
            "style": "IPY_MODEL_f3374a01098c41af900d938c98218fa5",
            "value": "special_tokens_map.json: 100%"
          }
        },
        "d073775abd024098975d0f9b04d6f691": {
          "model_module": "@jupyter-widgets/controls",
          "model_module_version": "1.5.0",
          "model_name": "FloatProgressModel",
          "state": {
            "_dom_classes": [],
            "_model_module": "@jupyter-widgets/controls",
            "_model_module_version": "1.5.0",
            "_model_name": "FloatProgressModel",
            "_view_count": null,
            "_view_module": "@jupyter-widgets/controls",
            "_view_module_version": "1.5.0",
            "_view_name": "ProgressView",
            "bar_style": "success",
            "description": "",
            "description_tooltip": null,
            "layout": "IPY_MODEL_db3f632e1c90419bae4f6f241183e1c5",
            "max": 147,
            "min": 0,
            "orientation": "horizontal",
            "style": "IPY_MODEL_f6343efff73a49d6b5954353f03fd9a3",
            "value": 147
          }
        },
        "d3f37df7d7b24012a6092270c08965a7": {
          "model_module": "@jupyter-widgets/base",
          "model_module_version": "1.2.0",
          "model_name": "LayoutModel",
          "state": {
            "_model_module": "@jupyter-widgets/base",
            "_model_module_version": "1.2.0",
            "_model_name": "LayoutModel",
            "_view_count": null,
            "_view_module": "@jupyter-widgets/base",
            "_view_module_version": "1.2.0",
            "_view_name": "LayoutView",
            "align_content": null,
            "align_items": null,
            "align_self": null,
            "border": null,
            "bottom": null,
            "display": null,
            "flex": null,
            "flex_flow": null,
            "grid_area": null,
            "grid_auto_columns": null,
            "grid_auto_flow": null,
            "grid_auto_rows": null,
            "grid_column": null,
            "grid_gap": null,
            "grid_row": null,
            "grid_template_areas": null,
            "grid_template_columns": null,
            "grid_template_rows": null,
            "height": null,
            "justify_content": null,
            "justify_items": null,
            "left": null,
            "margin": null,
            "max_height": null,
            "max_width": null,
            "min_height": null,
            "min_width": null,
            "object_fit": null,
            "object_position": null,
            "order": null,
            "overflow": null,
            "overflow_x": null,
            "overflow_y": null,
            "padding": null,
            "right": null,
            "top": null,
            "visibility": null,
            "width": null
          }
        },
        "d480fc94ba8a452d9da6cd5e762c4128": {
          "model_module": "@jupyter-widgets/base",
          "model_module_version": "1.2.0",
          "model_name": "LayoutModel",
          "state": {
            "_model_module": "@jupyter-widgets/base",
            "_model_module_version": "1.2.0",
            "_model_name": "LayoutModel",
            "_view_count": null,
            "_view_module": "@jupyter-widgets/base",
            "_view_module_version": "1.2.0",
            "_view_name": "LayoutView",
            "align_content": null,
            "align_items": null,
            "align_self": null,
            "border": null,
            "bottom": null,
            "display": null,
            "flex": null,
            "flex_flow": null,
            "grid_area": null,
            "grid_auto_columns": null,
            "grid_auto_flow": null,
            "grid_auto_rows": null,
            "grid_column": null,
            "grid_gap": null,
            "grid_row": null,
            "grid_template_areas": null,
            "grid_template_columns": null,
            "grid_template_rows": null,
            "height": null,
            "justify_content": null,
            "justify_items": null,
            "left": null,
            "margin": null,
            "max_height": null,
            "max_width": null,
            "min_height": null,
            "min_width": null,
            "object_fit": null,
            "object_position": null,
            "order": null,
            "overflow": null,
            "overflow_x": null,
            "overflow_y": null,
            "padding": null,
            "right": null,
            "top": null,
            "visibility": null,
            "width": null
          }
        },
        "d701d0c4fb5b4fe681825db94fce5b15": {
          "model_module": "@jupyter-widgets/controls",
          "model_module_version": "1.5.0",
          "model_name": "DescriptionStyleModel",
          "state": {
            "_model_module": "@jupyter-widgets/controls",
            "_model_module_version": "1.5.0",
            "_model_name": "DescriptionStyleModel",
            "_view_count": null,
            "_view_module": "@jupyter-widgets/base",
            "_view_module_version": "1.2.0",
            "_view_name": "StyleView",
            "description_width": ""
          }
        },
        "d7ff35b0ce24429bb7eb68a4272a45a5": {
          "model_module": "@jupyter-widgets/controls",
          "model_module_version": "1.5.0",
          "model_name": "HTMLModel",
          "state": {
            "_dom_classes": [],
            "_model_module": "@jupyter-widgets/controls",
            "_model_module_version": "1.5.0",
            "_model_name": "HTMLModel",
            "_view_count": null,
            "_view_module": "@jupyter-widgets/controls",
            "_view_module_version": "1.5.0",
            "_view_name": "HTMLView",
            "description": "",
            "description_tooltip": null,
            "layout": "IPY_MODEL_b8732c62f65c470988ada7950a0e29be",
            "placeholder": "​",
            "style": "IPY_MODEL_831e1cfb2a03427c96c692303726079c",
            "value": " 147/147 [00:00&lt;00:00, 4.69kB/s]"
          }
        },
        "db3f632e1c90419bae4f6f241183e1c5": {
          "model_module": "@jupyter-widgets/base",
          "model_module_version": "1.2.0",
          "model_name": "LayoutModel",
          "state": {
            "_model_module": "@jupyter-widgets/base",
            "_model_module_version": "1.2.0",
            "_model_name": "LayoutModel",
            "_view_count": null,
            "_view_module": "@jupyter-widgets/base",
            "_view_module_version": "1.2.0",
            "_view_name": "LayoutView",
            "align_content": null,
            "align_items": null,
            "align_self": null,
            "border": null,
            "bottom": null,
            "display": null,
            "flex": null,
            "flex_flow": null,
            "grid_area": null,
            "grid_auto_columns": null,
            "grid_auto_flow": null,
            "grid_auto_rows": null,
            "grid_column": null,
            "grid_gap": null,
            "grid_row": null,
            "grid_template_areas": null,
            "grid_template_columns": null,
            "grid_template_rows": null,
            "height": null,
            "justify_content": null,
            "justify_items": null,
            "left": null,
            "margin": null,
            "max_height": null,
            "max_width": null,
            "min_height": null,
            "min_width": null,
            "object_fit": null,
            "object_position": null,
            "order": null,
            "overflow": null,
            "overflow_x": null,
            "overflow_y": null,
            "padding": null,
            "right": null,
            "top": null,
            "visibility": null,
            "width": null
          }
        },
        "db90a93ecd89423a9b1f975a6766100a": {
          "model_module": "@jupyter-widgets/controls",
          "model_module_version": "1.5.0",
          "model_name": "DescriptionStyleModel",
          "state": {
            "_model_module": "@jupyter-widgets/controls",
            "_model_module_version": "1.5.0",
            "_model_name": "DescriptionStyleModel",
            "_view_count": null,
            "_view_module": "@jupyter-widgets/base",
            "_view_module_version": "1.2.0",
            "_view_name": "StyleView",
            "description_width": ""
          }
        },
        "de7e8b061e7c49bbbae2b8549c29e59a": {
          "model_module": "@jupyter-widgets/base",
          "model_module_version": "1.2.0",
          "model_name": "LayoutModel",
          "state": {
            "_model_module": "@jupyter-widgets/base",
            "_model_module_version": "1.2.0",
            "_model_name": "LayoutModel",
            "_view_count": null,
            "_view_module": "@jupyter-widgets/base",
            "_view_module_version": "1.2.0",
            "_view_name": "LayoutView",
            "align_content": null,
            "align_items": null,
            "align_self": null,
            "border": null,
            "bottom": null,
            "display": null,
            "flex": null,
            "flex_flow": null,
            "grid_area": null,
            "grid_auto_columns": null,
            "grid_auto_flow": null,
            "grid_auto_rows": null,
            "grid_column": null,
            "grid_gap": null,
            "grid_row": null,
            "grid_template_areas": null,
            "grid_template_columns": null,
            "grid_template_rows": null,
            "height": null,
            "justify_content": null,
            "justify_items": null,
            "left": null,
            "margin": null,
            "max_height": null,
            "max_width": null,
            "min_height": null,
            "min_width": null,
            "object_fit": null,
            "object_position": null,
            "order": null,
            "overflow": null,
            "overflow_x": null,
            "overflow_y": null,
            "padding": null,
            "right": null,
            "top": null,
            "visibility": null,
            "width": null
          }
        },
        "e0b9657b920146f5be58e6af497733a8": {
          "model_module": "@jupyter-widgets/controls",
          "model_module_version": "1.5.0",
          "model_name": "HTMLModel",
          "state": {
            "_dom_classes": [],
            "_model_module": "@jupyter-widgets/controls",
            "_model_module_version": "1.5.0",
            "_model_name": "HTMLModel",
            "_view_count": null,
            "_view_module": "@jupyter-widgets/controls",
            "_view_module_version": "1.5.0",
            "_view_name": "HTMLView",
            "description": "",
            "description_tooltip": null,
            "layout": "IPY_MODEL_7af09fc54e5f4ff9ac0faf41dfe072eb",
            "placeholder": "​",
            "style": "IPY_MODEL_6e73e920a65249b49777cb4fc245bd96",
            "value": "generation_config.json: 100%"
          }
        },
        "e3634d2ad95f4a73979ecd64aecf27e9": {
          "model_module": "@jupyter-widgets/base",
          "model_module_version": "1.2.0",
          "model_name": "LayoutModel",
          "state": {
            "_model_module": "@jupyter-widgets/base",
            "_model_module_version": "1.2.0",
            "_model_name": "LayoutModel",
            "_view_count": null,
            "_view_module": "@jupyter-widgets/base",
            "_view_module_version": "1.2.0",
            "_view_name": "LayoutView",
            "align_content": null,
            "align_items": null,
            "align_self": null,
            "border": null,
            "bottom": null,
            "display": null,
            "flex": null,
            "flex_flow": null,
            "grid_area": null,
            "grid_auto_columns": null,
            "grid_auto_flow": null,
            "grid_auto_rows": null,
            "grid_column": null,
            "grid_gap": null,
            "grid_row": null,
            "grid_template_areas": null,
            "grid_template_columns": null,
            "grid_template_rows": null,
            "height": null,
            "justify_content": null,
            "justify_items": null,
            "left": null,
            "margin": null,
            "max_height": null,
            "max_width": null,
            "min_height": null,
            "min_width": null,
            "object_fit": null,
            "object_position": null,
            "order": null,
            "overflow": null,
            "overflow_x": null,
            "overflow_y": null,
            "padding": null,
            "right": null,
            "top": null,
            "visibility": null,
            "width": null
          }
        },
        "e89e51622b134534998fd19fc0c931aa": {
          "model_module": "@jupyter-widgets/controls",
          "model_module_version": "1.5.0",
          "model_name": "HTMLModel",
          "state": {
            "_dom_classes": [],
            "_model_module": "@jupyter-widgets/controls",
            "_model_module_version": "1.5.0",
            "_model_name": "HTMLModel",
            "_view_count": null,
            "_view_module": "@jupyter-widgets/controls",
            "_view_module_version": "1.5.0",
            "_view_name": "HTMLView",
            "description": "",
            "description_tooltip": null,
            "layout": "IPY_MODEL_31e8a4b74b0f49f18a7e0bacf8709f93",
            "placeholder": "​",
            "style": "IPY_MODEL_7366a86e34e843d8aeba1a7a6403ede6",
            "value": " 3.13G/3.13G [00:40&lt;00:00, 79.6MB/s]"
          }
        },
        "ea2e7c282ccd4aab837d2910ec0970b4": {
          "model_module": "@jupyter-widgets/controls",
          "model_module_version": "1.5.0",
          "model_name": "DescriptionStyleModel",
          "state": {
            "_model_module": "@jupyter-widgets/controls",
            "_model_module_version": "1.5.0",
            "_model_name": "DescriptionStyleModel",
            "_view_count": null,
            "_view_module": "@jupyter-widgets/base",
            "_view_module_version": "1.2.0",
            "_view_name": "StyleView",
            "description_width": ""
          }
        },
        "ed32dd57009b42189477185bd7741bdd": {
          "model_module": "@jupyter-widgets/base",
          "model_module_version": "1.2.0",
          "model_name": "LayoutModel",
          "state": {
            "_model_module": "@jupyter-widgets/base",
            "_model_module_version": "1.2.0",
            "_model_name": "LayoutModel",
            "_view_count": null,
            "_view_module": "@jupyter-widgets/base",
            "_view_module_version": "1.2.0",
            "_view_name": "LayoutView",
            "align_content": null,
            "align_items": null,
            "align_self": null,
            "border": null,
            "bottom": null,
            "display": null,
            "flex": null,
            "flex_flow": null,
            "grid_area": null,
            "grid_auto_columns": null,
            "grid_auto_flow": null,
            "grid_auto_rows": null,
            "grid_column": null,
            "grid_gap": null,
            "grid_row": null,
            "grid_template_areas": null,
            "grid_template_columns": null,
            "grid_template_rows": null,
            "height": null,
            "justify_content": null,
            "justify_items": null,
            "left": null,
            "margin": null,
            "max_height": null,
            "max_width": null,
            "min_height": null,
            "min_width": null,
            "object_fit": null,
            "object_position": null,
            "order": null,
            "overflow": null,
            "overflow_x": null,
            "overflow_y": null,
            "padding": null,
            "right": null,
            "top": null,
            "visibility": null,
            "width": null
          }
        },
        "f043a8ec20374c82a42395de70ad9a97": {
          "model_module": "@jupyter-widgets/controls",
          "model_module_version": "1.5.0",
          "model_name": "DescriptionStyleModel",
          "state": {
            "_model_module": "@jupyter-widgets/controls",
            "_model_module_version": "1.5.0",
            "_model_name": "DescriptionStyleModel",
            "_view_count": null,
            "_view_module": "@jupyter-widgets/base",
            "_view_module_version": "1.2.0",
            "_view_name": "StyleView",
            "description_width": ""
          }
        },
        "f123552086a0443fb2c391fb119d045d": {
          "model_module": "@jupyter-widgets/controls",
          "model_module_version": "1.5.0",
          "model_name": "HTMLModel",
          "state": {
            "_dom_classes": [],
            "_model_module": "@jupyter-widgets/controls",
            "_model_module_version": "1.5.0",
            "_model_name": "HTMLModel",
            "_view_count": null,
            "_view_module": "@jupyter-widgets/controls",
            "_view_module_version": "1.5.0",
            "_view_name": "HTMLView",
            "description": "",
            "description_tooltip": null,
            "layout": "IPY_MODEL_1d0009a832e64637b203ebe2430d7135",
            "placeholder": "​",
            "style": "IPY_MODEL_db90a93ecd89423a9b1f975a6766100a",
            "value": "model.safetensors: 100%"
          }
        },
        "f20614938ada4d00ac6d1db9847474a5": {
          "model_module": "@jupyter-widgets/controls",
          "model_module_version": "1.5.0",
          "model_name": "ProgressStyleModel",
          "state": {
            "_model_module": "@jupyter-widgets/controls",
            "_model_module_version": "1.5.0",
            "_model_name": "ProgressStyleModel",
            "_view_count": null,
            "_view_module": "@jupyter-widgets/base",
            "_view_module_version": "1.2.0",
            "_view_name": "StyleView",
            "bar_color": null,
            "description_width": ""
          }
        },
        "f225b5d7671847e09950eee526e26661": {
          "model_module": "@jupyter-widgets/controls",
          "model_module_version": "1.5.0",
          "model_name": "ProgressStyleModel",
          "state": {
            "_model_module": "@jupyter-widgets/controls",
            "_model_module_version": "1.5.0",
            "_model_name": "ProgressStyleModel",
            "_view_count": null,
            "_view_module": "@jupyter-widgets/base",
            "_view_module_version": "1.2.0",
            "_view_name": "StyleView",
            "bar_color": null,
            "description_width": ""
          }
        },
        "f3374a01098c41af900d938c98218fa5": {
          "model_module": "@jupyter-widgets/controls",
          "model_module_version": "1.5.0",
          "model_name": "DescriptionStyleModel",
          "state": {
            "_model_module": "@jupyter-widgets/controls",
            "_model_module_version": "1.5.0",
            "_model_name": "DescriptionStyleModel",
            "_view_count": null,
            "_view_module": "@jupyter-widgets/base",
            "_view_module_version": "1.2.0",
            "_view_name": "StyleView",
            "description_width": ""
          }
        },
        "f3e9b49f6a254051a5e20afd1a74fe02": {
          "model_module": "@jupyter-widgets/controls",
          "model_module_version": "1.5.0",
          "model_name": "HTMLModel",
          "state": {
            "_dom_classes": [],
            "_model_module": "@jupyter-widgets/controls",
            "_model_module_version": "1.5.0",
            "_model_name": "HTMLModel",
            "_view_count": null,
            "_view_module": "@jupyter-widgets/controls",
            "_view_module_version": "1.5.0",
            "_view_name": "HTMLView",
            "description": "",
            "description_tooltip": null,
            "layout": "IPY_MODEL_426406c2627d431d9c72517aaa5a00b8",
            "placeholder": "​",
            "style": "IPY_MODEL_c84c1d643c5b42b1bf51d2d18b1e2ace",
            "value": " 147/147 [00:00&lt;00:00, 1.08kB/s]"
          }
        },
        "f6343efff73a49d6b5954353f03fd9a3": {
          "model_module": "@jupyter-widgets/controls",
          "model_module_version": "1.5.0",
          "model_name": "ProgressStyleModel",
          "state": {
            "_model_module": "@jupyter-widgets/controls",
            "_model_module_version": "1.5.0",
            "_model_name": "ProgressStyleModel",
            "_view_count": null,
            "_view_module": "@jupyter-widgets/base",
            "_view_module_version": "1.2.0",
            "_view_name": "StyleView",
            "bar_color": null,
            "description_width": ""
          }
        },
        "f6987d294a8740e1991dcf90efd46ffa": {
          "model_module": "@jupyter-widgets/controls",
          "model_module_version": "1.5.0",
          "model_name": "DescriptionStyleModel",
          "state": {
            "_model_module": "@jupyter-widgets/controls",
            "_model_module_version": "1.5.0",
            "_model_name": "DescriptionStyleModel",
            "_view_count": null,
            "_view_module": "@jupyter-widgets/base",
            "_view_module_version": "1.2.0",
            "_view_name": "StyleView",
            "description_width": ""
          }
        },
        "f75ece541e2a4a4da20b61228945f3ab": {
          "model_module": "@jupyter-widgets/base",
          "model_module_version": "1.2.0",
          "model_name": "LayoutModel",
          "state": {
            "_model_module": "@jupyter-widgets/base",
            "_model_module_version": "1.2.0",
            "_model_name": "LayoutModel",
            "_view_count": null,
            "_view_module": "@jupyter-widgets/base",
            "_view_module_version": "1.2.0",
            "_view_name": "LayoutView",
            "align_content": null,
            "align_items": null,
            "align_self": null,
            "border": null,
            "bottom": null,
            "display": null,
            "flex": null,
            "flex_flow": null,
            "grid_area": null,
            "grid_auto_columns": null,
            "grid_auto_flow": null,
            "grid_auto_rows": null,
            "grid_column": null,
            "grid_gap": null,
            "grid_row": null,
            "grid_template_areas": null,
            "grid_template_columns": null,
            "grid_template_rows": null,
            "height": null,
            "justify_content": null,
            "justify_items": null,
            "left": null,
            "margin": null,
            "max_height": null,
            "max_width": null,
            "min_height": null,
            "min_width": null,
            "object_fit": null,
            "object_position": null,
            "order": null,
            "overflow": null,
            "overflow_x": null,
            "overflow_y": null,
            "padding": null,
            "right": null,
            "top": null,
            "visibility": null,
            "width": null
          }
        },
        "f8e83b4db6f4437db2386acc316422b1": {
          "model_module": "@jupyter-widgets/controls",
          "model_module_version": "1.5.0",
          "model_name": "HTMLModel",
          "state": {
            "_dom_classes": [],
            "_model_module": "@jupyter-widgets/controls",
            "_model_module_version": "1.5.0",
            "_model_name": "HTMLModel",
            "_view_count": null,
            "_view_module": "@jupyter-widgets/controls",
            "_view_module_version": "1.5.0",
            "_view_name": "HTMLView",
            "description": "",
            "description_tooltip": null,
            "layout": "IPY_MODEL_269379aff69d4a0e8cbb19f1235898d6",
            "placeholder": "​",
            "style": "IPY_MODEL_466bd72b07924d9183d44474e1d9ed24",
            "value": " 2.54k/2.54k [00:00&lt;00:00, 98.8kB/s]"
          }
        }
      }
    }
  },
  "nbformat": 4,
  "nbformat_minor": 0
}
